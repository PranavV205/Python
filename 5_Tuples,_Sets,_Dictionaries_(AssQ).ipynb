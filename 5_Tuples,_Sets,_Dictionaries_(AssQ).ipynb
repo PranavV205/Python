{
  "nbformat": 4,
  "nbformat_minor": 0,
  "metadata": {
    "colab": {
      "provenance": []
    },
    "kernelspec": {
      "name": "python3",
      "display_name": "Python 3"
    },
    "language_info": {
      "name": "python"
    }
  },
  "cells": [
    {
      "cell_type": "markdown",
      "source": [
        "***2nd Feb***"
      ],
      "metadata": {
        "id": "sLanUpSLf0Sn"
      }
    },
    {
      "cell_type": "markdown",
      "source": [
        "### Q1. What are the characteristics of the tuples? Is tuple immutable?"
      ],
      "metadata": {
        "id": "qxR31tJsO1pn"
      }
    },
    {
      "cell_type": "markdown",
      "source": [
        "1. Tuples are immutable data structures (meaning cannot be changed once created)\n",
        "2. enclosed within parenthesis\n",
        "3. ordered data structures\n",
        "4. similar to lists except for tuples being immutable\n",
        "5. items cannot be added or removed to a tuple once it is created (immutability)"
      ],
      "metadata": {
        "id": "boUBrdq7O7Rv"
      }
    },
    {
      "cell_type": "markdown",
      "source": [
        "### Q2. What are the two tuple methods in python? Give an example of each method. Give a reason why tuples have only two in-built methods as compared to Lists."
      ],
      "metadata": {
        "id": "XsDacwffPkf4"
      }
    },
    {
      "cell_type": "markdown",
      "source": [
        "The two tuple methods available in Python are count and index. Examples are given below. Tuples have only 2 methods as compared to lists since tuples are immutable, hence methods which modify are excluded from the available tuple methods."
      ],
      "metadata": {
        "id": "c9KnHjG6PtGf"
      }
    },
    {
      "cell_type": "code",
      "execution_count": null,
      "metadata": {
        "colab": {
          "base_uri": "https://localhost:8080/"
        },
        "id": "y9Gx2Tq2Namx",
        "outputId": "a832fe59-5e43-4b57-84d4-5add081b56ba"
      },
      "outputs": [
        {
          "output_type": "execute_result",
          "data": {
            "text/plain": [
              "tuple"
            ]
          },
          "metadata": {},
          "execution_count": 4
        }
      ],
      "source": [
        "t1 = (1,2,3,3,3,4,5,6,6,7)\n",
        "type(t1)"
      ]
    },
    {
      "cell_type": "code",
      "source": [
        "## .count() gives the number of occurences of a value\n",
        "t1.count(6)"
      ],
      "metadata": {
        "colab": {
          "base_uri": "https://localhost:8080/"
        },
        "id": "d6OMyyaxP9EH",
        "outputId": "b845b4b5-5310-4f3b-b4e1-d25275a63f40"
      },
      "execution_count": null,
      "outputs": [
        {
          "output_type": "execute_result",
          "data": {
            "text/plain": [
              "2"
            ]
          },
          "metadata": {},
          "execution_count": 6
        }
      ]
    },
    {
      "cell_type": "code",
      "source": [
        "## .index() returns the index of the first occurence of the specified value\n",
        "t1.index(6)"
      ],
      "metadata": {
        "colab": {
          "base_uri": "https://localhost:8080/"
        },
        "id": "AvZX-ynPQ4EW",
        "outputId": "3ed0bdf0-3b98-479e-d82b-14ed48c72370"
      },
      "execution_count": null,
      "outputs": [
        {
          "output_type": "execute_result",
          "data": {
            "text/plain": [
              "7"
            ]
          },
          "metadata": {},
          "execution_count": 7
        }
      ]
    },
    {
      "cell_type": "markdown",
      "source": [
        "### Q3. Which collection datatypes in python do not allow duplicate items? Write a code using a set to remove duplicates from the given list.\n",
        "### List = [1, 1, 1, 2, 1, 3, 1, 4, 2, 1, 2, 2, 2, 3, 2, 4, 3, 1, 3, 2, 3, 3, 3, 4, 4, 1, 4, 2, 4, 3, 4, 4]"
      ],
      "metadata": {
        "id": "1sCViMupRLWX"
      }
    },
    {
      "cell_type": "markdown",
      "source": [
        "Set datatype does not allow duplicate items."
      ],
      "metadata": {
        "id": "DIvejikkRPk_"
      }
    },
    {
      "cell_type": "code",
      "source": [
        "## Method 1\n",
        "List = [1, 1, 1, 2, 1, 3, 1, 4, 2, 1, 2, 2, 2, 3, 2, 4, 3, 1, 3, 2, 3, 3, 3, 4, 4, 1, 4, 2, 4, 3, 4, 4]\n",
        "set(List)"
      ],
      "metadata": {
        "colab": {
          "base_uri": "https://localhost:8080/"
        },
        "id": "wfGM3oRFRXRa",
        "outputId": "03d2a670-54ed-4a0d-82d7-9cff487676dd"
      },
      "execution_count": null,
      "outputs": [
        {
          "output_type": "execute_result",
          "data": {
            "text/plain": [
              "{1, 2, 3, 4}"
            ]
          },
          "metadata": {},
          "execution_count": 12
        }
      ]
    },
    {
      "cell_type": "code",
      "source": [
        "## Method 2\n",
        "set1 = set(List)\n",
        "set1"
      ],
      "metadata": {
        "colab": {
          "base_uri": "https://localhost:8080/"
        },
        "id": "e7JcW_dMRh1Z",
        "outputId": "6081f5b9-20a7-4eac-f366-186692506ebd"
      },
      "execution_count": null,
      "outputs": [
        {
          "output_type": "execute_result",
          "data": {
            "text/plain": [
              "{1, 2, 3, 4}"
            ]
          },
          "metadata": {},
          "execution_count": 13
        }
      ]
    },
    {
      "cell_type": "markdown",
      "source": [
        "### Q4. Explain the difference between the union() and update() methods for a set. Give an example of each method."
      ],
      "metadata": {
        "id": "kXysB05iSRLX"
      }
    },
    {
      "cell_type": "markdown",
      "source": [
        "union() returns a new set that contains all the unique elements from both the original set and the sets passed as an argument. It does not modify the original set. If no argument is provided, union() returns a copy of the original set.\n",
        "update() modifies the original set by adding all the unique elements from the sets passed as an argument. It does not return a new set. If no argument is provided, update() does nothing."
      ],
      "metadata": {
        "id": "WD7_9yMISR2i"
      }
    },
    {
      "cell_type": "code",
      "source": [
        "set2 = {1,2,3,4}\n",
        "set3 = {5}"
      ],
      "metadata": {
        "id": "KUMOL2p9R97f"
      },
      "execution_count": null,
      "outputs": []
    },
    {
      "cell_type": "code",
      "source": [
        "set2.update(set3)\n",
        "set2"
      ],
      "metadata": {
        "colab": {
          "base_uri": "https://localhost:8080/"
        },
        "id": "ttZCxPO4Sflz",
        "outputId": "d9f54120-b78b-45a8-a001-a2143af38a7a"
      },
      "execution_count": null,
      "outputs": [
        {
          "output_type": "execute_result",
          "data": {
            "text/plain": [
              "{1, 2, 3, 4, 5}"
            ]
          },
          "metadata": {},
          "execution_count": 24
        }
      ]
    },
    {
      "cell_type": "code",
      "source": [
        "set2.union(set3)\n",
        "set2"
      ],
      "metadata": {
        "colab": {
          "base_uri": "https://localhost:8080/"
        },
        "id": "E3-T3XX-Syk4",
        "outputId": "1954b205-b0d8-4e70-c45a-5c7700e5229d"
      },
      "execution_count": null,
      "outputs": [
        {
          "output_type": "execute_result",
          "data": {
            "text/plain": [
              "{1, 2, 3, 4, 5}"
            ]
          },
          "metadata": {},
          "execution_count": 25
        }
      ]
    },
    {
      "cell_type": "markdown",
      "source": [
        "### Q5. What is a dictionary? Give an example. Also, state whether a dictionary is ordered or unordered."
      ],
      "metadata": {
        "id": "J4wxQ7V2VQdn"
      }
    },
    {
      "cell_type": "markdown",
      "source": [
        "1. stores data in key:pair value\n",
        "2. ordered datatype (as of python 3.7)\n",
        "3. mutable"
      ],
      "metadata": {
        "id": "jmgQIWXRVQh5"
      }
    },
    {
      "cell_type": "code",
      "source": [
        "dict1 = {'name':'pranav','number':2}\n",
        "dict1"
      ],
      "metadata": {
        "colab": {
          "base_uri": "https://localhost:8080/"
        },
        "id": "kRR2NkUGWp_Y",
        "outputId": "eab26514-2900-418f-96f8-a1f59a95cb10"
      },
      "execution_count": null,
      "outputs": [
        {
          "output_type": "execute_result",
          "data": {
            "text/plain": [
              "{'name': 'pranav', 'number': 2}"
            ]
          },
          "metadata": {},
          "execution_count": 26
        }
      ]
    },
    {
      "cell_type": "markdown",
      "source": [
        "### Q6. Can we create a nested dictionary? If so, please give an example by creating a simple one-level nested dictionary."
      ],
      "metadata": {
        "id": "Gr0h40g1W3IQ"
      }
    },
    {
      "cell_type": "markdown",
      "source": [
        "Yes a nested dictionary is possible in python but the second dictionary should be a value not a key."
      ],
      "metadata": {
        "id": "eVnZK3dzW3Kv"
      }
    },
    {
      "cell_type": "code",
      "source": [
        "## An example of simple one-level nested dictionary\n",
        "dict2 = {'name' : 'pranav' , 'numbers':{'a':1,'b':2}}\n",
        "dict2"
      ],
      "metadata": {
        "colab": {
          "base_uri": "https://localhost:8080/"
        },
        "id": "SyCh2Wh-XzY3",
        "outputId": "b37819c9-64b0-4907-f189-fb5c379a1095"
      },
      "execution_count": null,
      "outputs": [
        {
          "output_type": "execute_result",
          "data": {
            "text/plain": [
              "{'name': 'pranav', 'numbers': {'a': 1, 'b': 2}}"
            ]
          },
          "metadata": {},
          "execution_count": 31
        }
      ]
    },
    {
      "cell_type": "markdown",
      "source": [
        "### Q7. Using setdefault() method, create key named topics in the given dictionary and also add the value of the key as this list ['Python', 'Machine Learning’, 'Deep Learning']\n",
        "### dict1 = {'language' : 'Python', 'course': 'Data Science Masters'}"
      ],
      "metadata": {
        "id": "Icw9ZsnFYj5H"
      }
    },
    {
      "cell_type": "code",
      "source": [
        "dict1 = {'language' : 'Python', 'course': 'Data Science Masters'}\n",
        "dict1.setdefault('topics', ['Python', 'Machine Learning', 'Deep Learning'])\n",
        "dict1\n",
        "## setdefault() returns the value of a key (if the key is in dictionary). Else, it inserts a key with the default value to the dictionary."
      ],
      "metadata": {
        "colab": {
          "base_uri": "https://localhost:8080/"
        },
        "id": "Oa195u27YjB4",
        "outputId": "3e451863-5d76-40c2-cbee-0b96a5228b34"
      },
      "execution_count": null,
      "outputs": [
        {
          "output_type": "execute_result",
          "data": {
            "text/plain": [
              "{'language': 'Python',\n",
              " 'course': 'Data Science Masters',\n",
              " 'topics': ['Python', 'Machine Learning', 'Deep Learning']}"
            ]
          },
          "metadata": {},
          "execution_count": 35
        }
      ]
    },
    {
      "cell_type": "markdown",
      "source": [
        "### Q8. What are the three view objects in dictionaries? Use the three in-built methods in python to display these three view objects for the given dictionary.\n",
        "### dict1 = {'Sport': 'Cricket' , 'Teams': ['India', 'Australia', 'England', 'South Africa', 'Sri Lanka', 'New Zealand']}"
      ],
      "metadata": {
        "id": "VH3ALXIBbBrY"
      }
    },
    {
      "cell_type": "markdown",
      "source": [
        "The 3 view objects in dictionaries are:\n",
        "1. dict.keys(): This view object returns a dynamic view of the dictionary's keys. It provides a set-like interface, allowing you to perform operations such as iteration, membership tests, and set operations (e.g., intersection, union) with other sets. Any changes made to the dictionary will be reflected in this view.\n",
        "2. dict.values(): This view object returns a dynamic view of the dictionary's values. It behaves similar to dict.keys(), but provides access to the values instead of the keys. Any changes made to the dictionary will be reflected in this view.\n",
        "3. dict.items(): This view object returns a dynamic view of the dictionary's key-value pairs as tuples. It provides access to both keys and values, allowing you to iterate over the dictionary's items. Any changes made to the dictionary will be reflected in this view."
      ],
      "metadata": {
        "id": "gIcV0wjAbBtn"
      }
    },
    {
      "cell_type": "code",
      "source": [
        "dict1 = {'Sport': 'Cricket' , 'Teams': ['India', 'Australia', 'England', 'South Africa', 'Sri Lanka', 'New Zealand']}"
      ],
      "metadata": {
        "id": "R7gJ6ucIdWag"
      },
      "execution_count": null,
      "outputs": []
    },
    {
      "cell_type": "code",
      "source": [
        "dict1.keys()"
      ],
      "metadata": {
        "colab": {
          "base_uri": "https://localhost:8080/"
        },
        "id": "K4FaU3RYdrph",
        "outputId": "5464b1ce-62b6-454f-bb0f-b44c2ad8b478"
      },
      "execution_count": null,
      "outputs": [
        {
          "output_type": "execute_result",
          "data": {
            "text/plain": [
              "dict_keys(['Sport', 'Teams'])"
            ]
          },
          "metadata": {},
          "execution_count": 38
        }
      ]
    },
    {
      "cell_type": "code",
      "source": [
        "dict1.values()"
      ],
      "metadata": {
        "colab": {
          "base_uri": "https://localhost:8080/"
        },
        "id": "LNKgEWmJdv1Q",
        "outputId": "946bbd50-d5fe-412b-ad9c-849b33b58f36"
      },
      "execution_count": null,
      "outputs": [
        {
          "output_type": "execute_result",
          "data": {
            "text/plain": [
              "dict_values(['Cricket', ['India', 'Australia', 'England', 'South Africa', 'Sri Lanka', 'New Zealand']])"
            ]
          },
          "metadata": {},
          "execution_count": 40
        }
      ]
    },
    {
      "cell_type": "code",
      "source": [
        "dict1.items()"
      ],
      "metadata": {
        "colab": {
          "base_uri": "https://localhost:8080/"
        },
        "id": "RPD8hdQRdxhA",
        "outputId": "762ca092-d19e-411e-f154-60401f629aa3"
      },
      "execution_count": null,
      "outputs": [
        {
          "output_type": "execute_result",
          "data": {
            "text/plain": [
              "dict_items([('Sport', 'Cricket'), ('Teams', ['India', 'Australia', 'England', 'South Africa', 'Sri Lanka', 'New Zealand'])])"
            ]
          },
          "metadata": {},
          "execution_count": 41
        }
      ]
    }
  ]
}