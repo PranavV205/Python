{
  "nbformat": 4,
  "nbformat_minor": 0,
  "metadata": {
    "colab": {
      "provenance": []
    },
    "kernelspec": {
      "name": "python3",
      "display_name": "Python 3"
    },
    "language_info": {
      "name": "python"
    }
  },
  "cells": [
    {
      "cell_type": "markdown",
      "source": [
        "***3rd Feb***"
      ],
      "metadata": {
        "id": "_oESFkznMH9L"
      }
    },
    {
      "cell_type": "markdown",
      "source": [
        "### Q1. Which keyword is used to create a function? Create a function to return a list of odd numbers in the range of 1 to 25."
      ],
      "metadata": {
        "id": "h8ChgryzMMM6"
      }
    },
    {
      "cell_type": "markdown",
      "source": [
        "def keyword is used to create a function."
      ],
      "metadata": {
        "id": "OPA8hXAHMMOk"
      }
    },
    {
      "cell_type": "code",
      "execution_count": null,
      "metadata": {
        "id": "a1Ir3du8MGET"
      },
      "outputs": [],
      "source": [
        "def fn1():\n",
        "  l = []\n",
        "  for i in range(1,26):\n",
        "    if i%2!=0:\n",
        "      l.append(i)\n",
        "  return l"
      ]
    },
    {
      "cell_type": "code",
      "source": [
        "fn1()"
      ],
      "metadata": {
        "colab": {
          "base_uri": "https://localhost:8080/"
        },
        "id": "bOb7OpV4Mw07",
        "outputId": "5e7d0b16-6661-4c7c-baa4-cdfaa5f12d76"
      },
      "execution_count": null,
      "outputs": [
        {
          "output_type": "execute_result",
          "data": {
            "text/plain": [
              "[1, 3, 5, 7, 9, 11, 13, 15, 17, 19, 21, 23, 25]"
            ]
          },
          "metadata": {},
          "execution_count": 2
        }
      ]
    },
    {
      "cell_type": "markdown",
      "source": [
        "### Q2. Why *args and **kwargs is used in some functions? Create a function each for *args and **kwargs to demonstrate their use."
      ],
      "metadata": {
        "id": "1dPYe78kMzfM"
      }
    },
    {
      "cell_type": "markdown",
      "source": [
        "1. *args is used to pass a variable number of arguments to a function. It collects these arguments into a tuple, which can then be accessed within the function. The * before args unpacks the arguments when passing them to the function.\n",
        "2. **kwargs is used to pass a variable number of keyword arguments to a function. It collects these arguments into a dictionary, where the argument names are the keys and the corresponding values are the dictionary values. The ** before kwargs unpacks the keyword arguments when passing them to the function."
      ],
      "metadata": {
        "id": "saDHiYO8M2eq"
      }
    },
    {
      "cell_type": "code",
      "source": [
        "def fn2(*args):\n",
        "  return args"
      ],
      "metadata": {
        "id": "phnuwK2RNhli"
      },
      "execution_count": null,
      "outputs": []
    },
    {
      "cell_type": "code",
      "source": [
        "fn2(1,2,3)"
      ],
      "metadata": {
        "colab": {
          "base_uri": "https://localhost:8080/"
        },
        "id": "i82wBXgHNvz5",
        "outputId": "14e96b16-4de4-40db-f90d-cf83bc7596da"
      },
      "execution_count": null,
      "outputs": [
        {
          "output_type": "execute_result",
          "data": {
            "text/plain": [
              "(1, 2, 3)"
            ]
          },
          "metadata": {},
          "execution_count": 4
        }
      ]
    },
    {
      "cell_type": "code",
      "source": [
        "fn2('name',2,3)"
      ],
      "metadata": {
        "colab": {
          "base_uri": "https://localhost:8080/"
        },
        "id": "peLgrGujNxey",
        "outputId": "8274df6d-02a2-48f1-9c6c-ebb61078eb55"
      },
      "execution_count": null,
      "outputs": [
        {
          "output_type": "execute_result",
          "data": {
            "text/plain": [
              "('name', 2, 3)"
            ]
          },
          "metadata": {},
          "execution_count": 5
        }
      ]
    },
    {
      "cell_type": "code",
      "source": [
        "def fn3(**kwargs):\n",
        "  return kwargs"
      ],
      "metadata": {
        "id": "4RwwlIrwN0dJ"
      },
      "execution_count": null,
      "outputs": []
    },
    {
      "cell_type": "code",
      "source": [
        "fn3(name='pranav',number=2)"
      ],
      "metadata": {
        "colab": {
          "base_uri": "https://localhost:8080/"
        },
        "id": "E_IsbbieOZtk",
        "outputId": "86ece104-f206-4224-ddad-c1162b634b45"
      },
      "execution_count": null,
      "outputs": [
        {
          "output_type": "execute_result",
          "data": {
            "text/plain": [
              "{'name': 'pranav', 'number': 2}"
            ]
          },
          "metadata": {},
          "execution_count": 8
        }
      ]
    },
    {
      "cell_type": "markdown",
      "source": [
        "### Q3. What is an iterator in python? Name the method used to initialise the iterator object and the method used for iteration. Use these methods to print the first five elements of the given list [2, 4, 6, 8, 10, 12, 14, 16, 18, 20]."
      ],
      "metadata": {
        "id": "fnu_raOPOnMk"
      }
    },
    {
      "cell_type": "markdown",
      "source": [
        "An iterator is an object that implements the iterator protocol, which consists of two methods: __iter__() and __next__().\n",
        "1. The __iter__() method is used to initialize the iterator object. It returns the iterator object itself and is called when an iterator is created. It is responsible for setting up any necessary internal state of the iterator.\n",
        "2. The __next__() method is used for iteration. It returns the next element from the iterator. If there are no more elements, it raises the StopIteration exception to signal the end of the iteration."
      ],
      "metadata": {
        "id": "Adq85Z82VxKd"
      }
    },
    {
      "cell_type": "code",
      "source": [
        "my_list = [2, 4, 6, 8, 10, 12, 14, 16, 18, 20]\n",
        "first_five_elements = my_list[:5]\n",
        "print(first_five_elements)"
      ],
      "metadata": {
        "colab": {
          "base_uri": "https://localhost:8080/"
        },
        "id": "koFPbymsWvak",
        "outputId": "b4a1dcdc-1ed6-4f6c-ef74-bacfe880a9cb"
      },
      "execution_count": null,
      "outputs": [
        {
          "output_type": "stream",
          "name": "stdout",
          "text": [
            "[2, 4, 6, 8, 10]\n"
          ]
        }
      ]
    },
    {
      "cell_type": "markdown",
      "source": [
        "### Q4. What is a generator function in python? Why yield keyword is used? Give an example of a generator function."
      ],
      "metadata": {
        "id": "MqhegTv3Wyps"
      }
    },
    {
      "cell_type": "markdown",
      "source": [
        "A generator function is a special type of function that returns an iterator, which can be iterated over to generate a sequence of values on-the-fly. It is defined using the def keyword like a regular function, but instead of using the return statement, it uses the yield keyword to yield values one at a time.\n",
        "\n",
        "A generator function allows you to generate a sequence of values without storing them all in memory at once, making it memory-efficient. It generates values on-demand as requested by the iterator, which is particularly useful when dealing with large datasets or infinite sequences.\n",
        "The yield keyword is used in a generator function to define points where the function will yield a value and temporarily pause its execution. When the generator is iterated over, each yield statement returns a value, and the function's state is saved. The next time the generator is iterated, it resumes execution from where it left off, retaining its internal state."
      ],
      "metadata": {
        "id": "o7_sTjavW6RV"
      }
    },
    {
      "cell_type": "code",
      "source": [
        "def squares_generator(n):\n",
        "  for i in range(n):\n",
        "    yield i ** 2\n",
        "\n"
      ],
      "metadata": {
        "id": "lWsjJsg5XcKV"
      },
      "execution_count": null,
      "outputs": []
    },
    {
      "cell_type": "code",
      "source": [
        "for i in squares_generator(5):\n",
        "  print(i)"
      ],
      "metadata": {
        "colab": {
          "base_uri": "https://localhost:8080/"
        },
        "id": "HWWkOZziXk8L",
        "outputId": "457bed85-405b-4654-f72e-f0fecfc7ad63"
      },
      "execution_count": null,
      "outputs": [
        {
          "output_type": "stream",
          "name": "stdout",
          "text": [
            "0\n",
            "1\n",
            "4\n",
            "9\n",
            "16\n"
          ]
        }
      ]
    },
    {
      "cell_type": "markdown",
      "source": [
        "### Q5. Create a generator function for prime numbers less than 1000. Use the next() method to print the first 20 prime numbers."
      ],
      "metadata": {
        "id": "uDcwpYSuXsrs"
      }
    },
    {
      "cell_type": "code",
      "source": [
        "def prime_generator():\n",
        "    primes = []\n",
        "    num = 2\n",
        "    while True:                                     #infinite loop\n",
        "        is_prime = True                             #inside the loop, it sets the boolean variable is_prime to True, assuming that num is prime\n",
        "        for prime in primes:\n",
        "            if num % prime == 0:\n",
        "                is_prime = False\n",
        "                break\n",
        "        if is_prime:                                #executes if is_prime = True\n",
        "            primes.append(num)\n",
        "            yield num\n",
        "        num += 1\n",
        "\n",
        "# Creating the prime number generator\n",
        "prime_gen = prime_generator()\n",
        "\n",
        "# Printing the first 20 prime numbers\n",
        "for _ in range(20):\n",
        "    prime = next(prime_gen)\n",
        "    print(prime)"
      ],
      "metadata": {
        "colab": {
          "base_uri": "https://localhost:8080/"
        },
        "id": "mOm2TlyQXw8s",
        "outputId": "6d708d58-613a-4486-b119-a56b995c1223"
      },
      "execution_count": null,
      "outputs": [
        {
          "output_type": "stream",
          "name": "stdout",
          "text": [
            "2\n",
            "3\n",
            "5\n",
            "7\n",
            "11\n",
            "13\n",
            "17\n",
            "19\n",
            "23\n",
            "29\n",
            "31\n",
            "37\n",
            "41\n",
            "43\n",
            "47\n",
            "53\n",
            "59\n",
            "61\n",
            "67\n",
            "71\n"
          ]
        }
      ]
    }
  ]
}