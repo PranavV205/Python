{
  "nbformat": 4,
  "nbformat_minor": 0,
  "metadata": {
    "colab": {
      "provenance": []
    },
    "kernelspec": {
      "name": "python3",
      "display_name": "Python 3"
    },
    "language_info": {
      "name": "python"
    }
  },
  "cells": [
    {
      "cell_type": "code",
      "execution_count": 2,
      "metadata": {
        "colab": {
          "base_uri": "https://localhost:8080/"
        },
        "id": "mHJlDdP22wHu",
        "outputId": "6fb9172e-2dff-4f75-bf91-0fd7790bb473"
      },
      "outputs": [
        {
          "output_type": "stream",
          "name": "stdout",
          "text": [
            "Collecting pymongo[srv]\n",
            "  Downloading pymongo-4.6.1-cp310-cp310-manylinux_2_17_x86_64.manylinux2014_x86_64.whl (677 kB)\n",
            "\u001b[2K     \u001b[90m━━━━━━━━━━━━━━━━━━━━━━━━━━━━━━━━━━━━━━━━\u001b[0m \u001b[32m677.1/677.1 kB\u001b[0m \u001b[31m3.1 MB/s\u001b[0m eta \u001b[36m0:00:00\u001b[0m\n",
            "\u001b[?25hCollecting dnspython<3.0.0,>=1.16.0 (from pymongo[srv])\n",
            "  Downloading dnspython-2.4.2-py3-none-any.whl (300 kB)\n",
            "\u001b[2K     \u001b[90m━━━━━━━━━━━━━━━━━━━━━━━━━━━━━━━━━━━━━━━━\u001b[0m \u001b[32m300.4/300.4 kB\u001b[0m \u001b[31m10.3 MB/s\u001b[0m eta \u001b[36m0:00:00\u001b[0m\n",
            "\u001b[?25hInstalling collected packages: dnspython, pymongo\n",
            "Successfully installed dnspython-2.4.2 pymongo-4.6.1\n"
          ]
        }
      ],
      "source": [
        "pip install \"pymongo[srv]\""
      ]
    },
    {
      "cell_type": "code",
      "source": [
        "from pymongo.mongo_client import MongoClient\n",
        "from pymongo.server_api import ServerApi\n",
        "\n",
        "uri = \"mongodb+srv://baba:<password>@cluster0.hkdiwtm.mongodb.net/?retryWrites=true&w=majority\"\n",
        "\n",
        "# Create a new client and connect to the server\n",
        "client = MongoClient(uri, server_api=ServerApi('1'))\n",
        "\n",
        "# Send a ping to confirm a successful connection\n",
        "try:\n",
        "    client.admin.command('ping')\n",
        "    print(\"Pinged your deployment. You successfully connected to MongoDB!\")\n",
        "except Exception as e:\n",
        "    print(e)"
      ],
      "metadata": {
        "colab": {
          "base_uri": "https://localhost:8080/"
        },
        "id": "eiUUv1W32yA4",
        "outputId": "9beb89a2-23c0-4a6a-b722-153e48b70733"
      },
      "execution_count": 3,
      "outputs": [
        {
          "output_type": "stream",
          "name": "stdout",
          "text": [
            "Pinged your deployment. You successfully connected to MongoDB!\n"
          ]
        }
      ]
    },
    {
      "cell_type": "code",
      "source": [
        "client = MongoClient(uri, server_api=ServerApi('1'))"
      ],
      "metadata": {
        "id": "xIQeoXLt3F5J"
      },
      "execution_count": null,
      "outputs": []
    },
    {
      "cell_type": "code",
      "source": [
        "db = client['pwskills']"
      ],
      "metadata": {
        "id": "QbY5rlqeb-Gp"
      },
      "execution_count": 4,
      "outputs": []
    },
    {
      "cell_type": "code",
      "source": [
        "coll_create = db['my_record']"
      ],
      "metadata": {
        "id": "ko_YOtzLcH_G"
      },
      "execution_count": 5,
      "outputs": []
    },
    {
      "cell_type": "code",
      "source": [
        "data = {\n",
        "    'name': 'walter',\n",
        "    'class': 'ds'\n",
        "}"
      ],
      "metadata": {
        "id": "-RvrPluZcNcP"
      },
      "execution_count": 6,
      "outputs": []
    },
    {
      "cell_type": "code",
      "source": [
        "coll_create.insert_one(data)"
      ],
      "metadata": {
        "colab": {
          "base_uri": "https://localhost:8080/"
        },
        "id": "pTsVciiDcV2d",
        "outputId": "52c2b9d8-f083-4973-df75-da3b73b993b7"
      },
      "execution_count": 7,
      "outputs": [
        {
          "output_type": "execute_result",
          "data": {
            "text/plain": [
              "InsertOneResult(ObjectId('659662cad1fc521b9affede1'), acknowledged=True)"
            ]
          },
          "metadata": {},
          "execution_count": 7
        }
      ]
    },
    {
      "cell_type": "code",
      "source": [
        "data1 = {\n",
        "    'mail':'id',\n",
        "    'no.': 123\n",
        "}"
      ],
      "metadata": {
        "id": "bq7fQ64Vcv-e"
      },
      "execution_count": 8,
      "outputs": []
    },
    {
      "cell_type": "code",
      "source": [
        "coll_create.insert_one(data1)"
      ],
      "metadata": {
        "colab": {
          "base_uri": "https://localhost:8080/"
        },
        "id": "B_xQ3pHgc0zk",
        "outputId": "b6698b94-94bc-4287-f1d0-3c56e964ce8b"
      },
      "execution_count": 9,
      "outputs": [
        {
          "output_type": "execute_result",
          "data": {
            "text/plain": [
              "InsertOneResult(ObjectId('65966336d1fc521b9affede2'), acknowledged=True)"
            ]
          },
          "metadata": {},
          "execution_count": 9
        }
      ]
    },
    {
      "cell_type": "code",
      "source": [
        "lst = [\n",
        "    {\n",
        "        'name':'walter'\n",
        "    },\n",
        "    {\n",
        "        'ok':'ay'\n",
        "    }\n",
        "]"
      ],
      "metadata": {
        "id": "mFlI3aZndh4r"
      },
      "execution_count": 11,
      "outputs": []
    },
    {
      "cell_type": "code",
      "source": [
        "coll_create.insert_many(lst)"
      ],
      "metadata": {
        "colab": {
          "base_uri": "https://localhost:8080/"
        },
        "id": "xiTo2-y2dbF9",
        "outputId": "a9a93dfd-1515-475a-cf1a-4a35126bc9e0"
      },
      "execution_count": 12,
      "outputs": [
        {
          "output_type": "execute_result",
          "data": {
            "text/plain": [
              "InsertManyResult([ObjectId('65966400d1fc521b9affede3'), ObjectId('65966400d1fc521b9affede4')], acknowledged=True)"
            ]
          },
          "metadata": {},
          "execution_count": 12
        }
      ]
    },
    {
      "cell_type": "code",
      "source": [
        "for i in coll_create.find():\n",
        "  print(i)"
      ],
      "metadata": {
        "colab": {
          "base_uri": "https://localhost:8080/"
        },
        "id": "HZaOgsdedvYl",
        "outputId": "15e0654b-86aa-4252-8dc5-04c020cfc650"
      },
      "execution_count": 13,
      "outputs": [
        {
          "output_type": "stream",
          "name": "stdout",
          "text": [
            "{'_id': ObjectId('659662cad1fc521b9affede1'), 'name': 'walter', 'class': 'ds'}\n",
            "{'_id': ObjectId('65966336d1fc521b9affede2'), 'mail': 'id', 'no.': 123}\n",
            "{'_id': ObjectId('65966400d1fc521b9affede3'), 'name': 'walter'}\n",
            "{'_id': ObjectId('65966400d1fc521b9affede4'), 'ok': 'ay'}\n"
          ]
        }
      ]
    },
    {
      "cell_type": "code",
      "source": [
        "coll_create.find_one()"
      ],
      "metadata": {
        "colab": {
          "base_uri": "https://localhost:8080/"
        },
        "id": "BhnHUrgpd-s6",
        "outputId": "91c6769a-b85b-4750-c675-c79f1c2dd34e"
      },
      "execution_count": 16,
      "outputs": [
        {
          "output_type": "execute_result",
          "data": {
            "text/plain": [
              "{'_id': ObjectId('659662cad1fc521b9affede1'), 'name': 'walter', 'class': 'ds'}"
            ]
          },
          "metadata": {},
          "execution_count": 16
        }
      ]
    },
    {
      "cell_type": "code",
      "source": [
        "for i in coll_create.find({'name':'walter'}):\n",
        "  print(i)"
      ],
      "metadata": {
        "colab": {
          "base_uri": "https://localhost:8080/"
        },
        "id": "suhFY1kPeFNK",
        "outputId": "864826b0-35d9-4202-801a-15cf29452222"
      },
      "execution_count": 17,
      "outputs": [
        {
          "output_type": "stream",
          "name": "stdout",
          "text": [
            "{'_id': ObjectId('659662cad1fc521b9affede1'), 'name': 'walter', 'class': 'ds'}\n",
            "{'_id': ObjectId('65966400d1fc521b9affede3'), 'name': 'walter'}\n"
          ]
        }
      ]
    },
    {
      "cell_type": "code",
      "source": [
        "for i in coll_create.find({'no.' : {'$gte' : '4'}}):\n",
        "  print(i)"
      ],
      "metadata": {
        "id": "7lBkr7CceQXi"
      },
      "execution_count": 22,
      "outputs": []
    },
    {
      "cell_type": "code",
      "source": [
        "coll_create.update_many({'name':'walter'} , {'$set' : {'name' : 'pranav'}})"
      ],
      "metadata": {
        "colab": {
          "base_uri": "https://localhost:8080/"
        },
        "id": "WBgazDqkfUqL",
        "outputId": "276b9621-1d33-4179-8e72-7dcc0c697254"
      },
      "execution_count": 23,
      "outputs": [
        {
          "output_type": "execute_result",
          "data": {
            "text/plain": [
              "UpdateResult({'n': 2, 'electionId': ObjectId('7fffffff0000000000000004'), 'opTime': {'ts': Timestamp(1704355318, 6), 't': 4}, 'nModified': 2, 'ok': 1.0, '$clusterTime': {'clusterTime': Timestamp(1704355318, 6), 'signature': {'hash': b'{\\x97b\\xd9O\\xce\\x85\\xdb\\xbb\\x14RP\\xcc\\xc3/\\xd8\\xc4\\xc0\\xc6-', 'keyId': 7319761133047382021}}, 'operationTime': Timestamp(1704355318, 6), 'updatedExisting': True}, acknowledged=True)"
            ]
          },
          "metadata": {},
          "execution_count": 23
        }
      ]
    },
    {
      "cell_type": "code",
      "source": [
        "for i in coll_create.find():\n",
        "  print(i)"
      ],
      "metadata": {
        "colab": {
          "base_uri": "https://localhost:8080/"
        },
        "id": "jtlFodrsfl1g",
        "outputId": "d64db925-6e25-4415-8330-71b8fda22083"
      },
      "execution_count": 24,
      "outputs": [
        {
          "output_type": "stream",
          "name": "stdout",
          "text": [
            "{'_id': ObjectId('659662cad1fc521b9affede1'), 'name': 'pranav', 'class': 'ds'}\n",
            "{'_id': ObjectId('65966336d1fc521b9affede2'), 'mail': 'id', 'no.': 123}\n",
            "{'_id': ObjectId('65966400d1fc521b9affede3'), 'name': 'pranav'}\n",
            "{'_id': ObjectId('65966400d1fc521b9affede4'), 'ok': 'ay'}\n"
          ]
        }
      ]
    },
    {
      "cell_type": "code",
      "source": [
        "coll_create.drop()"
      ],
      "metadata": {
        "id": "IRLTQoYzfonB"
      },
      "execution_count": 25,
      "outputs": []
    },
    {
      "cell_type": "code",
      "source": [
        "for i in coll_create.find():\n",
        "  print(i)"
      ],
      "metadata": {
        "id": "5CRwBxbafrnf"
      },
      "execution_count": 26,
      "outputs": []
    }
  ]
}