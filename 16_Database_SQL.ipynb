{
  "nbformat": 4,
  "nbformat_minor": 0,
  "metadata": {
    "colab": {
      "provenance": []
    },
    "kernelspec": {
      "name": "python3",
      "display_name": "Python 3"
    },
    "language_info": {
      "name": "python"
    }
  },
  "cells": [
    {
      "cell_type": "markdown",
      "source": [
        "# SQL"
      ],
      "metadata": {
        "id": "QRmZVNe1bShS"
      }
    },
    {
      "cell_type": "markdown",
      "source": [
        "*demo.py*"
      ],
      "metadata": {
        "id": "l3ihqu__bXZJ"
      }
    },
    {
      "cell_type": "code",
      "execution_count": null,
      "metadata": {
        "id": "E3-PSeYgB7ri"
      },
      "outputs": [],
      "source": [
        "#Establishing a connection with a database\n",
        "\n",
        "import mysql.connector\n",
        "\n",
        "\n",
        "mydb = mysql.connector.connect(\n",
        "  host=\"localhost\",\n",
        "  user=\"abc\",\n",
        "  password=\"password\"\n",
        ")\n",
        "\n",
        "\n",
        "print(mydb)\n",
        "\n",
        "mycursor = mydb.cursor()\n",
        "mycursor.execute(\"SHOW DATABASES\")\n",
        "for x in mycursor:\n",
        "  print(x)"
      ]
    },
    {
      "cell_type": "markdown",
      "source": [
        "*create_table.py*"
      ],
      "metadata": {
        "id": "Sd7Zi_pYboF5"
      }
    },
    {
      "cell_type": "code",
      "source": [
        "import mysql.connector\n",
        "\n",
        "mydb = mysql.connector.connect(\n",
        "  host=\"localhost\",\n",
        "  user=\"abc\",\n",
        "  password=\"password\"\n",
        ")\n",
        "\n",
        "print(mydb)\n",
        "\n",
        "mycursor = mydb.cursor()\n",
        "mycursor.execute(\"create database if not exists test1\")\n",
        "mycursor.execute('CREATE TABLE if not exists test1.test_table (c1 int , c2 varchar(50) , c3 int , c4 float , c5 varchar(40));')\n",
        "mydb.close()"
      ],
      "metadata": {
        "id": "Y38-mJ9ibsOh"
      },
      "execution_count": null,
      "outputs": []
    },
    {
      "cell_type": "markdown",
      "source": [
        "*insert.py*"
      ],
      "metadata": {
        "id": "5MUZd1_ibv3J"
      }
    },
    {
      "cell_type": "code",
      "source": [
        "import mysql.connector\n",
        "\n",
        "\n",
        "mydb = mysql.connector.connect(\n",
        "  host=\"localhost\",\n",
        "  user=\"abc\",\n",
        "  password=\"password\"\n",
        ")\n",
        "\n",
        "\n",
        "print(mydb)\n",
        "\n",
        "mycursor = mydb.cursor()\n",
        "mycursor.execute(\"insert into test1.test_table values (3232, 'ok' , 32, 31.3, 'k')\")\n",
        "mycursor.execute(\"insert into test1.test_table values (3232, 'ok' , 32, 31.3, 'k')\")\n",
        "mycursor.execute(\"insert into test1.test_table values (3232, 'ok' , 32, 31.3, 'k')\")\n",
        "mydb.commit()\n",
        "mydb.close()"
      ],
      "metadata": {
        "id": "J7R2X8HebxoZ"
      },
      "execution_count": null,
      "outputs": []
    },
    {
      "cell_type": "markdown",
      "source": [
        "*query.py*"
      ],
      "metadata": {
        "id": "ny2wmTRdbz7y"
      }
    },
    {
      "cell_type": "code",
      "source": [
        "import mysql.connector\n",
        "\n",
        "\n",
        "mydb = mysql.connector.connect(\n",
        "  host=\"localhost\",\n",
        "  user=\"abc\",\n",
        "  password=\"password\"\n",
        ")\n",
        "\n",
        "\n",
        "print(mydb)\n",
        "\n",
        "mycursor = mydb.cursor()\n",
        "mycursor.execute(\"select c1, c5 from test1.test_table\")  #returns iterable\n",
        "for i in mycursor.fetchall():\n",
        "    print(i)"
      ],
      "metadata": {
        "id": "GFU67Tueb1-h"
      },
      "execution_count": null,
      "outputs": []
    }
  ]
}