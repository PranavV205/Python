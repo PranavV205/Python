{
  "nbformat": 4,
  "nbformat_minor": 0,
  "metadata": {
    "colab": {
      "provenance": []
    },
    "kernelspec": {
      "name": "python3",
      "display_name": "Python 3"
    },
    "language_info": {
      "name": "python"
    }
  },
  "cells": [
    {
      "cell_type": "markdown",
      "source": [
        "***Recording - 30th Jan***"
      ],
      "metadata": {
        "id": "r_kqmRQeGgz_"
      }
    },
    {
      "cell_type": "code",
      "source": [
        "print(123)"
      ],
      "metadata": {
        "colab": {
          "base_uri": "https://localhost:8080/"
        },
        "id": "7KGt0-NZGroM",
        "outputId": "59637b9c-c86c-4dc5-924f-8c57382fc84a"
      },
      "execution_count": null,
      "outputs": [
        {
          "output_type": "stream",
          "name": "stdout",
          "text": [
            "123\n"
          ]
        }
      ]
    },
    {
      "cell_type": "code",
      "source": [
        "#concatenation error\n",
        "age = 18\n",
        "print(\"My age is:\" + age)"
      ],
      "metadata": {
        "colab": {
          "base_uri": "https://localhost:8080/",
          "height": 182
        },
        "id": "4T_huAluIcDw",
        "outputId": "7d9674ed-4f22-4156-de75-4fb645908fbe"
      },
      "execution_count": null,
      "outputs": [
        {
          "output_type": "error",
          "ename": "TypeError",
          "evalue": "ignored",
          "traceback": [
            "\u001b[0;31m---------------------------------------------------------------------------\u001b[0m",
            "\u001b[0;31mTypeError\u001b[0m                                 Traceback (most recent call last)",
            "\u001b[0;32m<ipython-input-2-3e76595b9917>\u001b[0m in \u001b[0;36m<cell line: 2>\u001b[0;34m()\u001b[0m\n\u001b[1;32m      1\u001b[0m \u001b[0mage\u001b[0m \u001b[0;34m=\u001b[0m \u001b[0;36m18\u001b[0m\u001b[0;34m\u001b[0m\u001b[0;34m\u001b[0m\u001b[0m\n\u001b[0;32m----> 2\u001b[0;31m \u001b[0mprint\u001b[0m\u001b[0;34m(\u001b[0m\u001b[0;34m\"My age is:\"\u001b[0m \u001b[0;34m+\u001b[0m \u001b[0mage\u001b[0m\u001b[0;34m)\u001b[0m\u001b[0;34m\u001b[0m\u001b[0;34m\u001b[0m\u001b[0m\n\u001b[0m",
            "\u001b[0;31mTypeError\u001b[0m: can only concatenate str (not \"int\") to str"
          ]
        }
      ]
    },
    {
      "cell_type": "code",
      "source": [
        "age = 18\n",
        "print(\"My age is:\" , age)"
      ],
      "metadata": {
        "colab": {
          "base_uri": "https://localhost:8080/"
        },
        "id": "hjKoziLFIlAL",
        "outputId": "486469ab-e719-4fa0-e2dd-9045e3d353b9"
      },
      "execution_count": null,
      "outputs": [
        {
          "output_type": "stream",
          "name": "stdout",
          "text": [
            "My age is: 18\n"
          ]
        }
      ]
    },
    {
      "cell_type": "code",
      "source": [
        "# format()\n",
        "age = 18\n",
        "print(\"My age is: {}\".format(age))"
      ],
      "metadata": {
        "colab": {
          "base_uri": "https://localhost:8080/"
        },
        "id": "bpfvesJIIrco",
        "outputId": "b0153ebc-bf2e-4e9a-cc65-b5b25710c096"
      },
      "execution_count": null,
      "outputs": [
        {
          "output_type": "stream",
          "name": "stdout",
          "text": [
            "My age is: 18\n"
          ]
        }
      ]
    },
    {
      "cell_type": "code",
      "source": [
        "#f string\n",
        "age = 18\n",
        "print(f\"My age is {age}\")"
      ],
      "metadata": {
        "colab": {
          "base_uri": "https://localhost:8080/"
        },
        "id": "0SRyzfkTI3cx",
        "outputId": "a1cedd38-7281-4b01-8330-9de72c5f1d64"
      },
      "execution_count": null,
      "outputs": [
        {
          "output_type": "stream",
          "name": "stdout",
          "text": [
            "My age is 18\n"
          ]
        }
      ]
    },
    {
      "cell_type": "code",
      "source": [
        "#placeholder\n",
        "name = \"yaga\"\n",
        "age = 18\n",
        "print(\"My name is {firstname} and my age is {firstage}\".format(firstage = age, firstname = name))"
      ],
      "metadata": {
        "colab": {
          "base_uri": "https://localhost:8080/"
        },
        "id": "nN02wxRnI_Rg",
        "outputId": "d1880aa6-fefe-4a72-bdaa-29fc71d32895"
      },
      "execution_count": null,
      "outputs": [
        {
          "output_type": "stream",
          "name": "stdout",
          "text": [
            "My name is yaga and my age is 18\n"
          ]
        }
      ]
    },
    {
      "cell_type": "markdown",
      "source": [
        "**Control** **Flow**"
      ],
      "metadata": {
        "id": "AOPOPpyFKsQZ"
      }
    },
    {
      "cell_type": "markdown",
      "source": [
        "if statements"
      ],
      "metadata": {
        "id": "pKpmRrXnLmEY"
      }
    },
    {
      "cell_type": "code",
      "source": [
        "# ==,>=,<="
      ],
      "metadata": {
        "id": "C6vylcCKLo3T"
      },
      "execution_count": null,
      "outputs": []
    },
    {
      "cell_type": "code",
      "source": [
        "age = 18\n",
        "if age>=18:\n",
        "  print('You are eligible to vote')\n",
        "else:\n",
        "  print(\"You are not eligible to vote\")"
      ],
      "metadata": {
        "colab": {
          "base_uri": "https://localhost:8080/"
        },
        "id": "mJWFzDmELvrx",
        "outputId": "6e842603-3a25-4bdc-ded6-e9a514996edc"
      },
      "execution_count": null,
      "outputs": [
        {
          "output_type": "stream",
          "name": "stdout",
          "text": [
            "You are eligible to vote\n"
          ]
        }
      ]
    },
    {
      "cell_type": "code",
      "source": [
        "input()"
      ],
      "metadata": {
        "colab": {
          "base_uri": "https://localhost:8080/",
          "height": 53
        },
        "id": "y5JDsD5YMADx",
        "outputId": "1f8f7dfb-b0ce-4d08-d3f4-0aeb05cf0587"
      },
      "execution_count": null,
      "outputs": [
        {
          "name": "stdout",
          "output_type": "stream",
          "text": [
            "Hello\n"
          ]
        },
        {
          "output_type": "execute_result",
          "data": {
            "text/plain": [
              "'Hello'"
            ],
            "application/vnd.google.colaboratory.intrinsic+json": {
              "type": "string"
            }
          },
          "metadata": {},
          "execution_count": 9
        }
      ]
    },
    {
      "cell_type": "code",
      "source": [
        "name=input('Enter your name: ')\n",
        "name"
      ],
      "metadata": {
        "colab": {
          "base_uri": "https://localhost:8080/",
          "height": 53
        },
        "id": "DZC8gRw_Mqmp",
        "outputId": "d9314d26-39a2-4cc5-ae31-c8b39196ef05"
      },
      "execution_count": null,
      "outputs": [
        {
          "name": "stdout",
          "output_type": "stream",
          "text": [
            "Enter your name: yaga\n"
          ]
        },
        {
          "output_type": "execute_result",
          "data": {
            "text/plain": [
              "'yaga'"
            ],
            "application/vnd.google.colaboratory.intrinsic+json": {
              "type": "string"
            }
          },
          "metadata": {},
          "execution_count": 12
        }
      ]
    },
    {
      "cell_type": "code",
      "source": [
        "age=int(input(\"Enter your age\"))\n",
        "age"
      ],
      "metadata": {
        "colab": {
          "base_uri": "https://localhost:8080/"
        },
        "id": "rw5ExWJkM_0K",
        "outputId": "3928c74a-dedc-4e1f-8f37-5def09516a2c"
      },
      "execution_count": null,
      "outputs": [
        {
          "name": "stdout",
          "output_type": "stream",
          "text": [
            "Enter your age18\n"
          ]
        },
        {
          "output_type": "execute_result",
          "data": {
            "text/plain": [
              "18"
            ]
          },
          "metadata": {},
          "execution_count": 14
        }
      ]
    },
    {
      "cell_type": "code",
      "source": [
        "age=int(input(\"Enter your age: \"))\n",
        "if 18 <= age <= 45:\n",
        "  print(\"You are young blood\")\n",
        "else:\n",
        "  print('Nope')"
      ],
      "metadata": {
        "colab": {
          "base_uri": "https://localhost:8080/"
        },
        "id": "oAnmlUtpNKAI",
        "outputId": "8eb2b3f7-bca5-4585-e24d-65b6ad8cad73"
      },
      "execution_count": null,
      "outputs": [
        {
          "output_type": "stream",
          "name": "stdout",
          "text": [
            "Enter your age: 17\n",
            "Nope\n"
          ]
        }
      ]
    },
    {
      "cell_type": "code",
      "source": [
        "price = int(input(\"Please enter the product price to calculate the final price after discount: \"))\n",
        "if price > 1000:\n",
        "  price -= 0.2 * price\n",
        "  print(f\"Final Price: {price}\" )\n",
        "else:\n",
        "  price -= 0.3 * price\n",
        "  print(f'Final Price: {price}')\n"
      ],
      "metadata": {
        "colab": {
          "base_uri": "https://localhost:8080/"
        },
        "id": "2r3_5D19M75j",
        "outputId": "0564087b-18c1-40b7-8442-b712e8c0d171"
      },
      "execution_count": null,
      "outputs": [
        {
          "output_type": "stream",
          "name": "stdout",
          "text": [
            "Please enter the product price to calculate the final price after discount: 900\n",
            "Final Price: 630.0\n"
          ]
        }
      ]
    },
    {
      "cell_type": "code",
      "source": [
        "price = int(input(\"Please enter the product price to calculate the final price after discount: \"))\n",
        "if price >= 3000:\n",
        "  print(f'The product price after discount is {price*0.8}')\n",
        "elif 2000 <= price <= 3000:\n",
        "  if price == 2999:\n",
        "    print(\"Congrats\")\n",
        "  print(f\"The product price after discount is {price*0.7}\")\n",
        "elif 100 <= price <= 2000:\n",
        "  print(f\"The product price after discount is {price*0.6}\")\n",
        "else:\n",
        "  print(\"Lets drink tea\")"
      ],
      "metadata": {
        "colab": {
          "base_uri": "https://localhost:8080/"
        },
        "id": "rl2jiBOWUtYa",
        "outputId": "ff7ba440-5dc7-4c1e-dfdb-790b1ae9afc6"
      },
      "execution_count": null,
      "outputs": [
        {
          "output_type": "stream",
          "name": "stdout",
          "text": [
            "Please enter the product price to calculate the final price after discount: 2999\n",
            "Congrats\n",
            "The product price after discount is 2099.2999999999997\n"
          ]
        }
      ]
    },
    {
      "cell_type": "code",
      "source": [
        "#comparision operator\n",
        "True == True"
      ],
      "metadata": {
        "colab": {
          "base_uri": "https://localhost:8080/"
        },
        "id": "C4DAAMXCVYwO",
        "outputId": "f66704ff-d7a6-404e-a70a-b5d55decfc0f"
      },
      "execution_count": null,
      "outputs": [
        {
          "output_type": "execute_result",
          "data": {
            "text/plain": [
              "True"
            ]
          },
          "metadata": {},
          "execution_count": 24
        }
      ]
    },
    {
      "cell_type": "code",
      "source": [
        "#Single Statement Suites\n",
        "val = int(input(\"enter the number\"))\n",
        "if (val<=999):print(\"value is less than equal to 999\")\n",
        "else:\n",
        "  print(\"Go home\")"
      ],
      "metadata": {
        "colab": {
          "base_uri": "https://localhost:8080/"
        },
        "id": "r_nwTRi7Xuij",
        "outputId": "f06dd668-2ba9-47f4-c40a-125c71cea6b0"
      },
      "execution_count": null,
      "outputs": [
        {
          "output_type": "stream",
          "name": "stdout",
          "text": [
            "enter the number990\n",
            "value is less than equal to 999\n"
          ]
        }
      ]
    },
    {
      "cell_type": "markdown",
      "source": [
        "Loop Statements\n",
        "1. while loop\n",
        "2. for loop\n",
        "3. nested loops\n",
        "4. loop control (break,continue,pass)"
      ],
      "metadata": {
        "id": "ClkSJJ2ebJij"
      }
    },
    {
      "cell_type": "code",
      "source": [
        "# while loop\n",
        "joining_age = 25\n",
        "while joining_age <= 60:\n",
        "    print(joining_age)\n",
        "    joining_age += 1\n",
        "else:\n",
        "  print(\"Its time for retirement\")"
      ],
      "metadata": {
        "id": "oNYxyKv6bT2n",
        "colab": {
          "base_uri": "https://localhost:8080/"
        },
        "outputId": "8acd46d6-c01e-4823-c407-e862be4a025b"
      },
      "execution_count": null,
      "outputs": [
        {
          "output_type": "stream",
          "name": "stdout",
          "text": [
            "25\n",
            "26\n",
            "27\n",
            "28\n",
            "29\n",
            "30\n",
            "31\n",
            "32\n",
            "33\n",
            "34\n",
            "35\n",
            "36\n",
            "37\n",
            "38\n",
            "39\n",
            "40\n",
            "41\n",
            "42\n",
            "43\n",
            "44\n",
            "45\n",
            "46\n",
            "47\n",
            "48\n",
            "49\n",
            "50\n",
            "51\n",
            "52\n",
            "53\n",
            "54\n",
            "55\n",
            "56\n",
            "57\n",
            "58\n",
            "59\n",
            "60\n",
            "Its time for retirement\n"
          ]
        }
      ]
    },
    {
      "cell_type": "code",
      "source": [
        "amt = 1000\n",
        "while amt != 0:\n",
        "  amt -= 100\n",
        "  print(amt)\n",
        "else:\n",
        "  print(\"Insufficient money\")"
      ],
      "metadata": {
        "colab": {
          "base_uri": "https://localhost:8080/"
        },
        "id": "NIjaiaBMln9V",
        "outputId": "4fc42fab-11fd-4181-f3e5-723f597b17ed"
      },
      "execution_count": null,
      "outputs": [
        {
          "output_type": "stream",
          "name": "stdout",
          "text": [
            "900\n",
            "800\n",
            "700\n",
            "600\n",
            "500\n",
            "400\n",
            "300\n",
            "200\n",
            "100\n",
            "0\n",
            "Insufficient money\n"
          ]
        }
      ]
    },
    {
      "cell_type": "code",
      "source": [
        "lst = ['a','b',1,4,8]\n",
        "for i in lst:\n",
        "  print(i)\n",
        "  if i == 4 or i == 'b':\n",
        "    print(\"4 baaj gaye\")"
      ],
      "metadata": {
        "colab": {
          "base_uri": "https://localhost:8080/"
        },
        "id": "2-oIz7g2mICF",
        "outputId": "9e3bb582-1e89-4963-dbf5-bdfca8946924"
      },
      "execution_count": null,
      "outputs": [
        {
          "output_type": "stream",
          "name": "stdout",
          "text": [
            "a\n",
            "b\n",
            "4 baaj gaye\n",
            "1\n",
            "4\n",
            "4 baaj gaye\n",
            "8\n"
          ]
        }
      ]
    },
    {
      "cell_type": "code",
      "source": [
        "#arg of print()\n",
        "lst = ['a','b',1,4,8]\n",
        "for i in lst:\n",
        "  print(i,end='')"
      ],
      "metadata": {
        "colab": {
          "base_uri": "https://localhost:8080/"
        },
        "id": "UYze9_hJnRCb",
        "outputId": "6f2fbd63-21b2-4f43-9419-3eef287f27c8"
      },
      "execution_count": null,
      "outputs": [
        {
          "output_type": "stream",
          "name": "stdout",
          "text": [
            "ab148"
          ]
        }
      ]
    },
    {
      "cell_type": "code",
      "source": [
        "lst = ['a','b',1,4,8]\n",
        "for i in lst:\n",
        "  print(i,end='\\n') #default value"
      ],
      "metadata": {
        "colab": {
          "base_uri": "https://localhost:8080/"
        },
        "id": "Pe301OAyoCcm",
        "outputId": "51a3f453-9373-4fad-f0ca-898cc4046f82"
      },
      "execution_count": null,
      "outputs": [
        {
          "output_type": "stream",
          "name": "stdout",
          "text": [
            "a\n",
            "b\n",
            "1\n",
            "4\n",
            "8\n"
          ]
        }
      ]
    },
    {
      "cell_type": "code",
      "source": [
        "fruit = 'mango'\n",
        "for i in fruit:\n",
        "  print(i)\n",
        "fruit[1]"
      ],
      "metadata": {
        "colab": {
          "base_uri": "https://localhost:8080/",
          "height": 122
        },
        "id": "j58EIL3-oH3V",
        "outputId": "6485cf72-7080-4745-fe3a-2140ab89607c"
      },
      "execution_count": null,
      "outputs": [
        {
          "output_type": "stream",
          "name": "stdout",
          "text": [
            "m\n",
            "a\n",
            "n\n",
            "g\n",
            "o\n"
          ]
        },
        {
          "output_type": "execute_result",
          "data": {
            "text/plain": [
              "'a'"
            ],
            "application/vnd.google.colaboratory.intrinsic+json": {
              "type": "string"
            }
          },
          "metadata": {},
          "execution_count": 12
        }
      ]
    },
    {
      "cell_type": "code",
      "source": [
        "fruit = 'mango'\n",
        "for i in fruit:\n",
        "  print(i,end='')\n",
        "fruit[1]"
      ],
      "metadata": {
        "colab": {
          "base_uri": "https://localhost:8080/",
          "height": 36
        },
        "id": "gDEusrUNom0l",
        "outputId": "702eeab1-6286-4a2e-f037-5b0f77d7fbf4"
      },
      "execution_count": null,
      "outputs": [
        {
          "output_type": "stream",
          "name": "stdout",
          "text": [
            "mango"
          ]
        },
        {
          "output_type": "execute_result",
          "data": {
            "text/plain": [
              "'a'"
            ],
            "application/vnd.google.colaboratory.intrinsic+json": {
              "type": "string"
            }
          },
          "metadata": {},
          "execution_count": 13
        }
      ]
    },
    {
      "cell_type": "code",
      "source": [
        "#range function\n",
        "for i in range(1,10,2):\n",
        "  print(i)"
      ],
      "metadata": {
        "colab": {
          "base_uri": "https://localhost:8080/"
        },
        "id": "OHVrwfZppiD-",
        "outputId": "fe1adbd5-dad5-4ad4-88f1-23ea0ff32545"
      },
      "execution_count": null,
      "outputs": [
        {
          "output_type": "stream",
          "name": "stdout",
          "text": [
            "1\n",
            "3\n",
            "5\n",
            "7\n",
            "9\n"
          ]
        }
      ]
    },
    {
      "cell_type": "code",
      "source": [
        "# Nested loops\n",
        "n=7\n",
        "for i in range(0,n):\n",
        "  for j in range(0,i+1):\n",
        "    print('*' , end = '')"
      ],
      "metadata": {
        "colab": {
          "base_uri": "https://localhost:8080/"
        },
        "id": "nQRyA_6vppYs",
        "outputId": "b17679cf-9c2f-4b86-9538-7b8a5a3b4de0"
      },
      "execution_count": null,
      "outputs": [
        {
          "output_type": "stream",
          "name": "stdout",
          "text": [
            "****************************"
          ]
        }
      ]
    },
    {
      "cell_type": "code",
      "source": [
        "# Nested loops\n",
        "n=7\n",
        "for i in range(0,n):\n",
        "  for j in range(0,i+1):\n",
        "    print('*',end = '')\n",
        "  print('\\r')"
      ],
      "metadata": {
        "colab": {
          "base_uri": "https://localhost:8080/"
        },
        "id": "aSywixxqrl54",
        "outputId": "2a4a7251-cc95-434a-b7cf-48fc81c43e10"
      },
      "execution_count": null,
      "outputs": [
        {
          "output_type": "stream",
          "name": "stdout",
          "text": [
            "*\r\n",
            "**\r\n",
            "***\r\n",
            "****\r\n",
            "*****\r\n",
            "******\r\n",
            "*******\r\n"
          ]
        }
      ]
    },
    {
      "cell_type": "code",
      "source": [
        "#loop control - break\n",
        "letter = ['a','b','c','d','e','f']\n",
        "for i in letter:\n",
        "  if i == 'c':\n",
        "    print('cya')\n",
        "    break\n",
        "  print(i)"
      ],
      "metadata": {
        "colab": {
          "base_uri": "https://localhost:8080/"
        },
        "id": "ODA3hv6zspl3",
        "outputId": "f21c8517-9d75-47fa-d0e9-638a71b18eee"
      },
      "execution_count": null,
      "outputs": [
        {
          "output_type": "stream",
          "name": "stdout",
          "text": [
            "a\n",
            "b\n",
            "cya\n"
          ]
        }
      ]
    },
    {
      "cell_type": "code",
      "source": [
        "#loop control - continue\n",
        "letter = ['a','b','c','d','e','f']\n",
        "for i in letter:\n",
        "  if i == 'c':\n",
        "    print('cya')\n",
        "    continue\n",
        "  print(i)"
      ],
      "metadata": {
        "colab": {
          "base_uri": "https://localhost:8080/"
        },
        "id": "b4Rhb9ECtTmg",
        "outputId": "b12f4628-9016-4e81-84de-34488e16a664"
      },
      "execution_count": null,
      "outputs": [
        {
          "output_type": "stream",
          "name": "stdout",
          "text": [
            "a\n",
            "b\n",
            "cya\n",
            "d\n",
            "e\n",
            "f\n"
          ]
        }
      ]
    },
    {
      "cell_type": "code",
      "source": [
        "#loop control - pass\n",
        "letter = ['a','b','c','d','e','f']\n",
        "for i in letter:\n",
        "  if i == 'c':\n",
        "    print('cya')\n",
        "    pass\n",
        "  print(i)"
      ],
      "metadata": {
        "colab": {
          "base_uri": "https://localhost:8080/"
        },
        "id": "_vMGNjr1toFP",
        "outputId": "8e670e6e-3165-4874-baf6-cb91252bf683"
      },
      "execution_count": null,
      "outputs": [
        {
          "output_type": "stream",
          "name": "stdout",
          "text": [
            "a\n",
            "b\n",
            "cya\n",
            "c\n",
            "d\n",
            "e\n",
            "f\n"
          ]
        }
      ]
    }
  ]
}