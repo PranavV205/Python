{
  "nbformat": 4,
  "nbformat_minor": 0,
  "metadata": {
    "colab": {
      "provenance": []
    },
    "kernelspec": {
      "name": "python3",
      "display_name": "Python 3"
    },
    "language_info": {
      "name": "python"
    }
  },
  "cells": [
    {
      "cell_type": "markdown",
      "source": [
        "5th Feb"
      ],
      "metadata": {
        "id": "r9x1GKz2Z1xV"
      }
    },
    {
      "cell_type": "markdown",
      "source": [
        "# Q1. Explain Class and Object with respect to Object-Oriented Programming. Give a suitable example."
      ],
      "metadata": {
        "id": "hhjUvJNKYVsS"
      }
    },
    {
      "cell_type": "markdown",
      "source": [
        "In object-oriented programming (OOP), a class is a blueprint or a template for creating objects. It defines the structure, attributes, and behaviors that objects of that class will have. A class can be thought of as a blueprint for creating multiple instances of similar objects.\n",
        "\n",
        "An object, on the other hand, is an instance of a class. It is a tangible entity that has its own unique state and behavior, based on the blueprint provided by the class. Objects can interact with each other, execute methods, and access attributes defined within their class.\n",
        "\n",
        "Let's consider an example to illustrate the concept of a class and an object. Suppose we want to model a \"Car\" in Python. We can create a class called \"Car\" that defines the characteristics and behaviors that a car would have."
      ],
      "metadata": {
        "id": "pXaI_8rVYVuJ"
      }
    },
    {
      "cell_type": "code",
      "execution_count": null,
      "metadata": {
        "id": "fCWl8XoKYUJu"
      },
      "outputs": [],
      "source": [
        "class Car:\n",
        "\n",
        "    def __init__(self, make, model, year):\n",
        "        self.make = make\n",
        "        self.model = model\n",
        "        self.year = year\n",
        "        self.speed = 0\n",
        "\n",
        "    def accelerate(self, acceleration):\n",
        "        self.speed += acceleration\n",
        "\n",
        "    def brake(self, deceleration):\n",
        "        self.speed -= deceleration\n",
        "\n",
        "    def get_speed(self):\n",
        "        return self.speed"
      ]
    },
    {
      "cell_type": "markdown",
      "source": [
        "In the above code, we define a class called \"Car\" with attributes like \"make,\" \"model,\" \"year,\" and \"speed.\" The class also has methods such as \"accelerate,\" \"brake,\" and \"get_speed\" to manipulate and retrieve information about the car's speed.\n",
        "\n",
        "To create individual car objects, we can instantiate the class by calling it as if it were a function:"
      ],
      "metadata": {
        "id": "uchPvnrKZVUC"
      }
    },
    {
      "cell_type": "code",
      "source": [
        "my_car = Car(\"Toyota\", \"Camry\", 2020)"
      ],
      "metadata": {
        "id": "JP91ryJNZdDZ"
      },
      "execution_count": null,
      "outputs": []
    },
    {
      "cell_type": "markdown",
      "source": [
        "In this case, we create a car object named \"my_car\" using the \"Car\" class. We pass the arguments \"Toyota,\" \"Camry,\" and \"2020\" to the constructor method __init__() to set the initial state of the car.\n",
        "\n",
        "Once the object is created, we can interact with it by calling its methods and accessing its attributes. For example:"
      ],
      "metadata": {
        "id": "YCSk3FWtZgRY"
      }
    },
    {
      "cell_type": "code",
      "source": [
        "my_car.accelerate(20)\n",
        "print(my_car.get_speed())\n",
        "\n",
        "my_car.brake(10)\n",
        "print(my_car.get_speed())"
      ],
      "metadata": {
        "colab": {
          "base_uri": "https://localhost:8080/"
        },
        "id": "KlHfDkomZkqJ",
        "outputId": "43619d5f-a596-4777-c5f6-78d4687372d8"
      },
      "execution_count": null,
      "outputs": [
        {
          "output_type": "stream",
          "name": "stdout",
          "text": [
            "20\n",
            "10\n"
          ]
        }
      ]
    },
    {
      "cell_type": "markdown",
      "source": [
        "To summarise, the class defines the structure and behavior of the car, while the object represents a specific instance of that car with its own unique state and behavior."
      ],
      "metadata": {
        "id": "a3losTKQZslG"
      }
    },
    {
      "cell_type": "markdown",
      "source": [
        "# Q2. Name the four pillars of OOPs."
      ],
      "metadata": {
        "id": "Osvxc6I2Z7J1"
      }
    },
    {
      "cell_type": "markdown",
      "source": [
        "1. Encapsulation: Encapsulation is the process of combining data and the methods (functions) that operate on that data into a single unit called a class. It enables data hiding and abstraction, where the internal details of the class are hidden from the outside world, and only the necessary information and functionality are exposed. Encapsulation helps in organizing code, enhancing security, and promoting modularity.\n",
        "2. Inheritance: Inheritance is a mechanism that allows a class to inherit properties and behaviors from another class. The class that inherits is called the subclass or derived class, and the class from which it inherits is called the superclass or base class. Inheritance promotes code reusability and hierarchical organization of classes, where subclasses can inherit and extend the attributes and methods of the superclass. It allows for the creation of specialized classes based on more general ones.\n",
        "3. Polymorphism: Polymorphism means having multiple forms. In OOP, polymorphism allows objects of different classes to be treated as objects of a common superclass. It enables the use of a single interface or method to represent objects of different classes. Polymorphism can be achieved through method overriding and method overloading. Method overriding allows a subclass to provide a different implementation of a method that is already defined in its superclass, while method overloading enables the existence of multiple methods with the same name but different parameters in a class.\n",
        "4. Abstraction: Abstraction is the process of simplifying complex systems by breaking them down into smaller, more manageable units. It focuses on defining the essential features and behaviors of objects while hiding the unnecessary details. Abstraction allows us to create abstract classes and interfaces that provide a blueprint for subclasses to follow. It helps in managing complexity, enhancing modularity, and promoting code reusability."
      ],
      "metadata": {
        "id": "7QKNf2lsdeT4"
      }
    },
    {
      "cell_type": "markdown",
      "source": [
        "# Q3. Explain why the __init__() function is used. Give a suitable example."
      ],
      "metadata": {
        "id": "pCTIDvMsd7sO"
      }
    },
    {
      "cell_type": "markdown",
      "source": [
        "The __init__() function, also known as the constructor method, is used in Python classes to initialize the attributes or properties of an object when it is created. It is automatically called when an object of the class is instantiated.\n",
        "\n",
        "The primary purpose of the __init__() method is to set the initial state of the object by assigning values to its attributes. It allows you to specify the values of the object's attributes at the time of creation. This initialization step helps ensure that the object starts with the desired state and is ready to be used.\n",
        "\n"
      ],
      "metadata": {
        "id": "C9AYEbsgd_3o"
      }
    },
    {
      "cell_type": "code",
      "source": [
        "class Person:\n",
        "    def __init__(self, name, age):\n",
        "        self.name = name\n",
        "        self.age = age\n",
        "        print('Hi there!')\n",
        "\n",
        "    def display_info(self):\n",
        "        print(f\"Name: {self.name}, Age: {self.age}\")\n",
        "\n",
        "person1 = Person(\"Alice\", 25)\n",
        "\n",
        "person1.display_info()"
      ],
      "metadata": {
        "colab": {
          "base_uri": "https://localhost:8080/"
        },
        "id": "50Wlib3tZrVF",
        "outputId": "42aee02c-7962-4e9d-9076-8b37121ee99c"
      },
      "execution_count": null,
      "outputs": [
        {
          "output_type": "stream",
          "name": "stdout",
          "text": [
            "Hi there!\n",
            "Name: Alice, Age: 25\n"
          ]
        }
      ]
    },
    {
      "cell_type": "markdown",
      "source": [
        "# Q4. Why self is used in OOPs?"
      ],
      "metadata": {
        "id": "8QSvAp0JeagP"
      }
    },
    {
      "cell_type": "markdown",
      "source": [
        "In object-oriented programming (OOP), self is a reference variable that represents the instance of a class. It is a convention in Python to use the name self as the first parameter in the definition of instance methods within a class.\n",
        "\n",
        "The purpose of self is to allow access to the instance's attributes and methods within the class. When a method is called on an object, self refers to that specific instance of the class, allowing it to interact with its own dat"
      ],
      "metadata": {
        "id": "1iDQi3Coeekv"
      }
    },
    {
      "cell_type": "markdown",
      "source": [
        "# Q5. What is inheritance? Give an example for each type of inheritance."
      ],
      "metadata": {
        "id": "0foAZAlfeso1"
      }
    },
    {
      "cell_type": "markdown",
      "source": [
        "Inheritance is a fundamental concept in object-oriented programming (OOP) that allows a class to inherit properties and behaviors from another class. The class that inherits is called the subclass or derived class, and the class from which it inherits is called the superclass or base class. Inheritance promotes code reusability, modularity, and hierarchical organization of classes.\n",
        "\n",
        "1.Single Inheritance:\n",
        "In single inheritance, a subclass inherits properties and behaviors from a single superclass. It forms a simple parent-child relationship between classes. The subclass can extend the functionality of the superclass by adding new attributes and methods or by overriding the existing ones."
      ],
      "metadata": {
        "id": "yhsfbmEqe1Tt"
      }
    },
    {
      "cell_type": "code",
      "source": [
        "class Animal:\n",
        "    def eat(self):\n",
        "        print(\"Eating...\")\n",
        "\n",
        "class Dog(Animal):\n",
        "    def bark(self):\n",
        "        print(\"Barking...\")\n",
        "\n",
        "dog = Dog()\n",
        "dog.eat()\n",
        "dog.bark()"
      ],
      "metadata": {
        "colab": {
          "base_uri": "https://localhost:8080/"
        },
        "id": "cHISXlLJe-w5",
        "outputId": "4c75beca-91bd-444b-e3b7-a99e862a4378"
      },
      "execution_count": null,
      "outputs": [
        {
          "output_type": "stream",
          "name": "stdout",
          "text": [
            "Eating...\n",
            "Barking...\n"
          ]
        }
      ]
    },
    {
      "cell_type": "markdown",
      "source": [
        "2. Multiple Inheritance: Multiple inheritance allows a subclass to inherit properties and behaviors from multiple superclasses. This means that a class can derive characteristics from more than one parent class. It can inherit attributes and methods from all the superclasses and use them in the subclass."
      ],
      "metadata": {
        "id": "k9tuQYtUfLzv"
      }
    },
    {
      "cell_type": "code",
      "source": [
        "class Vehicle:\n",
        "    def drive(self):\n",
        "        print(\"Driving...\")\n",
        "\n",
        "class Radio:\n",
        "    def play_music(self):\n",
        "        print(\"Playing music...\")\n",
        "\n",
        "class Car(Vehicle, Radio):\n",
        "    pass\n",
        "\n",
        "car = Car()\n",
        "car.drive()\n",
        "car.play_music()"
      ],
      "metadata": {
        "colab": {
          "base_uri": "https://localhost:8080/"
        },
        "id": "UeMdH7HcfRnn",
        "outputId": "b4bf56aa-81c9-42f2-da1e-4e1180dc23dd"
      },
      "execution_count": null,
      "outputs": [
        {
          "output_type": "stream",
          "name": "stdout",
          "text": [
            "Driving...\n",
            "Playing music...\n"
          ]
        }
      ]
    },
    {
      "cell_type": "markdown",
      "source": [
        "3. Multilevel Inheritance: Multilevel inheritance involves creating a chain of inheritance where a subclass inherits from another subclass. In this type of inheritance, each subclass becomes the superclass for the next level. It allows for the creation of a hierarchical structure of classes.\n"
      ],
      "metadata": {
        "id": "lQIdnZoEffpM"
      }
    },
    {
      "cell_type": "code",
      "source": [
        "class Animal:\n",
        "    def eat(self):\n",
        "        print(\"Eating...\")\n",
        "\n",
        "class Dog(Animal):\n",
        "    def bark(self):\n",
        "        print(\"Barking...\")\n",
        "\n",
        "class Bulldog(Dog):\n",
        "    def guard(self):\n",
        "        print(\"Guarding...\")\n",
        "\n",
        "bulldog = Bulldog()\n",
        "bulldog.eat()\n",
        "bulldog.bark()\n",
        "bulldog.guard()"
      ],
      "metadata": {
        "colab": {
          "base_uri": "https://localhost:8080/"
        },
        "id": "cvaRJwUhfjfn",
        "outputId": "dfd7a079-9ba4-491d-f8e8-1e3992cea7c7"
      },
      "execution_count": null,
      "outputs": [
        {
          "output_type": "stream",
          "name": "stdout",
          "text": [
            "Eating...\n",
            "Barking...\n",
            "Guarding...\n"
          ]
        }
      ]
    },
    {
      "cell_type": "markdown",
      "source": [
        "4. Hierarchical Inheritance: Hierarchical inheritance involves multiple subclasses inheriting from a single superclass. It creates a tree-like structure where a superclass is extended by multiple subclasses, each adding their own unique properties and behaviors."
      ],
      "metadata": {
        "id": "TlWytMWcfqL-"
      }
    },
    {
      "cell_type": "code",
      "source": [
        "class Shape:\n",
        "    def draw(self):\n",
        "        print(\"Drawing shape...\")\n",
        "\n",
        "class Circle(Shape):\n",
        "    def calculate_area(self):\n",
        "        print(\"Calculating circle area...\")\n",
        "\n",
        "class Rectangle(Shape):\n",
        "    def calculate_area(self):\n",
        "        print(\"Calculating rectangle area...\")\n",
        "\n",
        "circle = Circle()\n",
        "rectangle = Rectangle()\n",
        "circle.draw()\n",
        "circle.calculate_area()\n",
        "rectangle.draw()\n",
        "rectangle.calculate_area()"
      ],
      "metadata": {
        "colab": {
          "base_uri": "https://localhost:8080/"
        },
        "id": "DiL_ScUyfwm-",
        "outputId": "b803e7e5-cd6e-4efa-ae7d-8229e68525c5"
      },
      "execution_count": null,
      "outputs": [
        {
          "output_type": "stream",
          "name": "stdout",
          "text": [
            "Drawing shape...\n",
            "Calculating circle area...\n",
            "Drawing shape...\n",
            "Calculating rectangle area...\n"
          ]
        }
      ]
    }
  ]
}