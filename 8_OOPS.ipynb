{
  "nbformat": 4,
  "nbformat_minor": 0,
  "metadata": {
    "colab": {
      "provenance": []
    },
    "kernelspec": {
      "name": "python3",
      "display_name": "Python 3"
    },
    "language_info": {
      "name": "python"
    }
  },
  "cells": [
    {
      "cell_type": "markdown",
      "source": [
        "***Recording - 5th Feb***"
      ],
      "metadata": {
        "id": "gZxwBGlqrP8V"
      }
    },
    {
      "cell_type": "markdown",
      "source": [
        "### OOPS"
      ],
      "metadata": {
        "id": "iDKws-KJrUvn"
      }
    },
    {
      "cell_type": "code",
      "execution_count": null,
      "metadata": {
        "id": "GJtXaiTNq8IC"
      },
      "outputs": [],
      "source": [
        "## stands for Object-Oriented Programming System"
      ]
    },
    {
      "cell_type": "code",
      "source": [
        "a = 1"
      ],
      "metadata": {
        "id": "BDF7QjWCtJaN"
      },
      "execution_count": null,
      "outputs": []
    },
    {
      "cell_type": "code",
      "source": [
        "print(type(a))"
      ],
      "metadata": {
        "colab": {
          "base_uri": "https://localhost:8080/"
        },
        "id": "eOEtzaFRtKq2",
        "outputId": "bfe3a8b0-932f-4731-8d4f-b12162b19c6c"
      },
      "execution_count": null,
      "outputs": [
        {
          "output_type": "stream",
          "name": "stdout",
          "text": [
            "<class 'int'>\n"
          ]
        }
      ]
    },
    {
      "cell_type": "code",
      "source": [
        "class test:\n",
        "  pass"
      ],
      "metadata": {
        "id": "CEhjZI5srd7M"
      },
      "execution_count": null,
      "outputs": []
    },
    {
      "cell_type": "code",
      "source": [
        "a = test()\n",
        "## a is now an object of the class test"
      ],
      "metadata": {
        "id": "BNxsq30RtIaU"
      },
      "execution_count": null,
      "outputs": []
    },
    {
      "cell_type": "code",
      "source": [
        "print(type(a))"
      ],
      "metadata": {
        "colab": {
          "base_uri": "https://localhost:8080/"
        },
        "id": "PufYRnZftOet",
        "outputId": "10119960-7271-4176-f30a-26120051dcb5"
      },
      "execution_count": null,
      "outputs": [
        {
          "output_type": "stream",
          "name": "stdout",
          "text": [
            "<class '__main__.test'>\n"
          ]
        }
      ]
    },
    {
      "cell_type": "code",
      "source": [
        "class pwskills:\n",
        "\n",
        "  def welcome_msg(self):\n",
        "    print(\"Welcome to pwskills\")"
      ],
      "metadata": {
        "id": "_3yb6FyqtfWw"
      },
      "execution_count": null,
      "outputs": []
    },
    {
      "cell_type": "code",
      "source": [
        "rohan = pwskills()"
      ],
      "metadata": {
        "id": "uhUZVC5jtmp0"
      },
      "execution_count": null,
      "outputs": []
    },
    {
      "cell_type": "code",
      "source": [
        "rohan.welcome_msg()"
      ],
      "metadata": {
        "colab": {
          "base_uri": "https://localhost:8080/"
        },
        "id": "-6o5-kU-tqFk",
        "outputId": "0ac207ad-3e28-47db-c7d5-58f9f7d31b89"
      },
      "execution_count": null,
      "outputs": [
        {
          "output_type": "stream",
          "name": "stdout",
          "text": [
            "Welcome to pwskills\n"
          ]
        }
      ]
    },
    {
      "cell_type": "code",
      "source": [
        "sohan = pwskills()"
      ],
      "metadata": {
        "id": "V1pc5li6uBrH"
      },
      "execution_count": null,
      "outputs": []
    },
    {
      "cell_type": "code",
      "source": [
        "sohan.welcome_msg()"
      ],
      "metadata": {
        "colab": {
          "base_uri": "https://localhost:8080/"
        },
        "id": "rYeRTfdouFlA",
        "outputId": "1da0ad1a-9703-4541-af82-1c35c7ca6f1a"
      },
      "execution_count": null,
      "outputs": [
        {
          "output_type": "stream",
          "name": "stdout",
          "text": [
            "Welcome to pwskills\n"
          ]
        }
      ]
    },
    {
      "cell_type": "code",
      "source": [
        "class pwskills1:\n",
        "\n",
        "  def __init__(self, phone_number, email_id, student_id):\n",
        "    self.phone_number = phone_number\n",
        "    self.emailid = email_id\n",
        "    self.student_id = student_id\n",
        "\n",
        "  def return_student_details(self):\n",
        "    return self.phone_number, self.emailid, self.student_id"
      ],
      "metadata": {
        "id": "vi5WjRsAuIEd"
      },
      "execution_count": null,
      "outputs": []
    },
    {
      "cell_type": "code",
      "source": [
        "rohan = pwskills1(15,'rohan@gmail.com',101)"
      ],
      "metadata": {
        "id": "63umKgVCvzF9"
      },
      "execution_count": null,
      "outputs": []
    },
    {
      "cell_type": "code",
      "source": [
        "rohan.phone_number"
      ],
      "metadata": {
        "colab": {
          "base_uri": "https://localhost:8080/"
        },
        "id": "PFQpz1RPwPuV",
        "outputId": "2ad5ec4e-2234-4151-8383-661bb5bc33e5"
      },
      "execution_count": null,
      "outputs": [
        {
          "output_type": "execute_result",
          "data": {
            "text/plain": [
              "15"
            ]
          },
          "metadata": {},
          "execution_count": 22
        }
      ]
    },
    {
      "cell_type": "code",
      "source": [
        "rohan.return_student_details()"
      ],
      "metadata": {
        "colab": {
          "base_uri": "https://localhost:8080/"
        },
        "id": "IIznG7Rdwi4F",
        "outputId": "60805f83-1324-49da-fd0a-17ce02402f6a"
      },
      "execution_count": null,
      "outputs": [
        {
          "output_type": "execute_result",
          "data": {
            "text/plain": [
              "(15, 'rohan@gmail.com', 101)"
            ]
          },
          "metadata": {},
          "execution_count": 24
        }
      ]
    },
    {
      "cell_type": "code",
      "source": [
        "sohan = pwskills1(12,'sohan@gmail.com',102)"
      ],
      "metadata": {
        "id": "soqfg0IXwumt"
      },
      "execution_count": null,
      "outputs": []
    },
    {
      "cell_type": "code",
      "source": [
        "class pwskills2:\n",
        "\n",
        "  def __init__(tk, phone_number, email_id, student_id):\n",
        "    tk.phone_number = phone_number\n",
        "    tk.emailid = email_id\n",
        "    tk.student_id = student_id\n",
        "\n",
        "  def return_student_details(tk):\n",
        "    return tk.phone_number, tk.emailid, tk.student_id"
      ],
      "metadata": {
        "id": "iL2Lv8LCx4IF"
      },
      "execution_count": null,
      "outputs": []
    },
    {
      "cell_type": "code",
      "source": [
        "mohan = pwskills2(13,'mohan@gmail.com',103)"
      ],
      "metadata": {
        "id": "5hyH4Q43yBql"
      },
      "execution_count": null,
      "outputs": []
    },
    {
      "cell_type": "code",
      "source": [
        "mohan.return_student_details()"
      ],
      "metadata": {
        "colab": {
          "base_uri": "https://localhost:8080/"
        },
        "id": "POXTYNPLyLi0",
        "outputId": "495368f0-26d5-4030-cc21-573076f7fce3"
      },
      "execution_count": null,
      "outputs": [
        {
          "output_type": "execute_result",
          "data": {
            "text/plain": [
              "(13, 'mohan@gmail.com', 103)"
            ]
          },
          "metadata": {},
          "execution_count": 31
        }
      ]
    },
    {
      "cell_type": "code",
      "source": [
        "class pwskills3:\n",
        "\n",
        "  def __init__(tk, phone_number, email_id, student_id):\n",
        "    tk.phone_number1 = phone_number\n",
        "    tk.emailid = email_id\n",
        "    tk.student_id = student_id\n",
        "\n",
        "  def return_student_details(tk):\n",
        "    return tk.phone_number1, tk.emailid, tk.student_id"
      ],
      "metadata": {
        "id": "kdxpWBwWyShw"
      },
      "execution_count": null,
      "outputs": []
    },
    {
      "cell_type": "code",
      "source": [
        "manmohan = pwskills3(105,'blah',109)"
      ],
      "metadata": {
        "id": "fAac2INXyUYB"
      },
      "execution_count": null,
      "outputs": []
    },
    {
      "cell_type": "code",
      "source": [
        "manmohan.phone_number1"
      ],
      "metadata": {
        "colab": {
          "base_uri": "https://localhost:8080/"
        },
        "id": "5aa1I4FdyhL9",
        "outputId": "efd76a7e-332f-42c8-9d43-2956e9fefb33"
      },
      "execution_count": null,
      "outputs": [
        {
          "output_type": "execute_result",
          "data": {
            "text/plain": [
              "105"
            ]
          },
          "metadata": {},
          "execution_count": 36
        }
      ]
    },
    {
      "cell_type": "code",
      "source": [
        "manmohan.return_student_details()"
      ],
      "metadata": {
        "colab": {
          "base_uri": "https://localhost:8080/"
        },
        "id": "7_abqdRIykS9",
        "outputId": "04b3a6c9-d4f8-4ea8-f8a1-59e52b1eabd2"
      },
      "execution_count": null,
      "outputs": [
        {
          "output_type": "execute_result",
          "data": {
            "text/plain": [
              "(105, 'blah', 109)"
            ]
          },
          "metadata": {},
          "execution_count": 44
        }
      ]
    },
    {
      "cell_type": "markdown",
      "source": [
        "### OOPS again"
      ],
      "metadata": {
        "id": "uPA0MNQh9Q3P"
      }
    },
    {
      "cell_type": "code",
      "source": [
        "class Person:\n",
        "  name = 'Harry'\n",
        "  occupation = 'Software Developer'\n",
        "  networth = 10\n",
        "  def info(self):\n",
        "    print(f\"{self.name} is a {self.occupation}\")"
      ],
      "metadata": {
        "id": "qE1WAFYx9Q92"
      },
      "execution_count": null,
      "outputs": []
    },
    {
      "cell_type": "code",
      "source": [
        "a = Person()\n",
        "print(a.name)"
      ],
      "metadata": {
        "colab": {
          "base_uri": "https://localhost:8080/"
        },
        "id": "q4BhPXEM9n8-",
        "outputId": "8555dab4-edc3-4699-cdd9-399dc5f4e575"
      },
      "execution_count": null,
      "outputs": [
        {
          "output_type": "stream",
          "name": "stdout",
          "text": [
            "Harry\n"
          ]
        }
      ]
    },
    {
      "cell_type": "code",
      "source": [
        "a = Person()\n",
        "a.name = 'Pranav'\n",
        "a.occupation = 'Accountant'\n",
        "print(a.name, a.occupation)"
      ],
      "metadata": {
        "colab": {
          "base_uri": "https://localhost:8080/"
        },
        "id": "EIPa__Nt9uEc",
        "outputId": "b48c0946-6716-4bdc-9806-d3890c6a7787"
      },
      "execution_count": null,
      "outputs": [
        {
          "output_type": "stream",
          "name": "stdout",
          "text": [
            "Pranav Accountant\n"
          ]
        }
      ]
    },
    {
      "cell_type": "code",
      "source": [
        "print(a.info())"
      ],
      "metadata": {
        "colab": {
          "base_uri": "https://localhost:8080/"
        },
        "id": "wkNRb1xX96-v",
        "outputId": "1ba319ef-b6bf-4aef-986c-a6c46bae1a3f"
      },
      "execution_count": null,
      "outputs": [
        {
          "output_type": "stream",
          "name": "stdout",
          "text": [
            "Pranav is a Accountant\n",
            "None\n"
          ]
        }
      ]
    },
    {
      "cell_type": "code",
      "source": [
        "##  a class is a blueprint or a template for creating objetcs\n",
        "##  object is the instance of the class used to access the properties of the class\n",
        "##  self parameter is a reference to the current instance of the class and is used to access variables that belong to the class (refers to the object for which the method is being called)"
      ],
      "metadata": {
        "id": "-FW03Kjb-q1-"
      },
      "execution_count": null,
      "outputs": []
    },
    {
      "cell_type": "code",
      "source": [
        "class Person():\n",
        "  name = 'Pranav'\n",
        "  occ = 'Developer'\n",
        "\n",
        "  def info(self):\n",
        "    print(f'{self.name} is a {self.occ}')"
      ],
      "metadata": {
        "id": "EF7kI4j2-xS1"
      },
      "execution_count": null,
      "outputs": []
    },
    {
      "cell_type": "code",
      "source": [
        "a = Person()\n",
        "a.info()"
      ],
      "metadata": {
        "colab": {
          "base_uri": "https://localhost:8080/"
        },
        "id": "97Bkl-e8Ar2n",
        "outputId": "5b530338-96e1-4476-a6ab-21c0ef551e6b"
      },
      "execution_count": null,
      "outputs": [
        {
          "output_type": "stream",
          "name": "stdout",
          "text": [
            "Pranav is a Developer\n"
          ]
        }
      ]
    },
    {
      "cell_type": "code",
      "source": [
        "class Person():\n",
        "\n",
        "  def __init__(self):\n",
        "    print(\"Hey I am a person\")"
      ],
      "metadata": {
        "id": "Hf0O1aoyAxr1"
      },
      "execution_count": null,
      "outputs": []
    },
    {
      "cell_type": "code",
      "source": [
        "a = Person()"
      ],
      "metadata": {
        "colab": {
          "base_uri": "https://localhost:8080/"
        },
        "id": "MCswDBqTBYwP",
        "outputId": "ad21a982-567c-4896-d811-63278611be31"
      },
      "execution_count": null,
      "outputs": [
        {
          "output_type": "stream",
          "name": "stdout",
          "text": [
            "Hey I am a person\n"
          ]
        }
      ]
    },
    {
      "cell_type": "code",
      "source": [
        "class Person():\n",
        "\n",
        "  def __init__(self, n, o):\n",
        "    print(\"Hey I am a person\")\n",
        "    self.name = n\n",
        "    self.occ = o\n",
        "\n",
        "  def info(self):\n",
        "    print(f'{self.name} is a {self.occ}')\n",
        "\n",
        "\n",
        "\n"
      ],
      "metadata": {
        "id": "mknBd04wBc0d"
      },
      "execution_count": null,
      "outputs": []
    },
    {
      "cell_type": "code",
      "source": [
        "a = Person(\"Pranav\",'Developer')\n",
        "b = Person('Walter','Teacher')"
      ],
      "metadata": {
        "colab": {
          "base_uri": "https://localhost:8080/"
        },
        "id": "eF6VJO9IH_UP",
        "outputId": "94c32014-17e1-456b-b826-1dc59adb6642"
      },
      "execution_count": null,
      "outputs": [
        {
          "output_type": "stream",
          "name": "stdout",
          "text": [
            "Hey I am a person\n",
            "Hey I am a person\n"
          ]
        }
      ]
    },
    {
      "cell_type": "code",
      "source": [
        "a.info()\n",
        "b.info()"
      ],
      "metadata": {
        "colab": {
          "base_uri": "https://localhost:8080/"
        },
        "id": "s18p4ER1ILqP",
        "outputId": "b57a8417-00de-4375-831c-a2a30ff2097e"
      },
      "execution_count": null,
      "outputs": [
        {
          "output_type": "stream",
          "name": "stdout",
          "text": [
            "Pranav is a Developer\n",
            "Walter is a Teacher\n"
          ]
        }
      ]
    },
    {
      "cell_type": "code",
      "source": [
        "'''\n",
        "CONSTRUCTOR\n",
        " is a speacial method in a class used to create and initialise an object of a class.\n",
        " its a unique function that gets automatically called when an obejct of a class is created.\n",
        " main purpose is to initialize or assign values to the data members of that class.\n",
        " cannot return any value other than None\n",
        "\n",
        " Syntax: def __init__(self):\n",
        "\n",
        " Types:\n",
        " 1. Parameterized Constructor - when constructor accepts arguments along with self (these args can be used inside the class to assign the values to the data members)\n",
        " 2. Default Constructor - when constructor doesn't accept any args from the object and has only one arg, self.\n",
        " '''"
      ],
      "metadata": {
        "id": "mp5YZurCIXfO"
      },
      "execution_count": null,
      "outputs": []
    },
    {
      "cell_type": "code",
      "source": [
        "'''\n",
        "Constructors\n",
        "A constructor is a special method in a class used to create and initialize an object of a class.\n",
        "There are different types of constructors.\n",
        "Constructor is invoked automatically when an object of a class is created.\n",
        "\n",
        "A constructor is a unique function that gets called automatically when an object is created of a class.\n",
        "The main purpose of a constructor is to initialize or assign values to the data members of that class.\n",
        "It cannot return any value other than None.\n",
        "\n",
        "init is one of the reserved functions in Python.\n",
        "In Object Oriented Programming, it is known as a constructor.\n",
        "\n",
        "Types of Constructors in Python:\n",
        "1. Parameterized Constructor\n",
        "2. Default Constructor\n",
        "\n",
        "Parameterized Constructor in Python\n",
        "When the constructor accepts arguments along with self, it is known as parameterized constructor.\n",
        "These arguments can be used inside the class to assign the values to the data member\n",
        "\n",
        "Default Constructor in Python\n",
        "When the constructor doesn't accept any arguments from the object and has only one argument, self, in the constructor, it is known as a Default constructor.\n",
        "\n",
        "'''"
      ],
      "metadata": {
        "id": "T6ga2EGbUpo1"
      },
      "execution_count": null,
      "outputs": []
    }
  ]
}