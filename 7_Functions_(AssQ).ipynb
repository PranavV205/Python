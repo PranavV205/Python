{
  "nbformat": 4,
  "nbformat_minor": 0,
  "metadata": {
    "colab": {
      "provenance": []
    },
    "kernelspec": {
      "name": "python3",
      "display_name": "Python 3"
    },
    "language_info": {
      "name": "python"
    }
  },
  "cells": [
    {
      "cell_type": "markdown",
      "source": [
        "***4th Feb***"
      ],
      "metadata": {
        "id": "gdABxxdhifZ_"
      }
    },
    {
      "cell_type": "markdown",
      "source": [
        "### Q1. Create a python program to sort the given list of tuples based on integer value using a lambda function.\n",
        "### [('Sachin Tendulkar', 34357), ('Ricky Ponting', 27483), ('Jack Kallis', 25534), ('Virat Kohli', 24936)]"
      ],
      "metadata": {
        "id": "HzedE6Esif5U"
      }
    },
    {
      "cell_type": "code",
      "execution_count": null,
      "metadata": {
        "colab": {
          "base_uri": "https://localhost:8080/"
        },
        "id": "VgFIMVEzicKV",
        "outputId": "fdfda0ba-5c02-48f9-8f38-648511ea94f7"
      },
      "outputs": [
        {
          "output_type": "execute_result",
          "data": {
            "text/plain": [
              "[('Virat Kohli', 24936),\n",
              " ('Jack Kallis', 25534),\n",
              " ('Ricky Ponting', 27483),\n",
              " ('Sachin Tendulkar', 34357)]"
            ]
          },
          "metadata": {},
          "execution_count": 5
        }
      ],
      "source": [
        "## argument called key. This argument expects a function to be passed to it, and that function will be used on each value in the list being sorted to determine the resulting order.\n",
        "## sorted() returns a sorted list\n",
        "tuple1 = [('Sachin Tendulkar', 34357), ('Ricky Ponting', 27483), ('Jack Kallis', 25534), ('Virat Kohli', 24936)]\n",
        "sorting = sorted(tuple1, key = lambda x : x[1])\n",
        "## lambda x: x[1] extracts the second element (integer value) from each tuple for comparison during sorting\n",
        "sorting"
      ]
    },
    {
      "cell_type": "markdown",
      "source": [
        "### Q2. Write a Python Program to find the squares of all the numbers in the given list of integers using lambda and map functions.\n",
        "### [1, 2, 3, 4, 5, 6, 7, 8, 9, 10]"
      ],
      "metadata": {
        "id": "T3IQmNaamRRV"
      }
    },
    {
      "cell_type": "code",
      "source": [
        "list1 = [1, 2, 3, 4, 5, 6, 7, 8, 9, 10]\n",
        "list(map(lambda x : x**2 , list1))"
      ],
      "metadata": {
        "colab": {
          "base_uri": "https://localhost:8080/"
        },
        "id": "R2JKO_jamXCM",
        "outputId": "bb9e4ee0-f9dd-46a3-c3a7-d88b6060e06e"
      },
      "execution_count": null,
      "outputs": [
        {
          "output_type": "execute_result",
          "data": {
            "text/plain": [
              "[1, 4, 9, 16, 25, 36, 49, 64, 81, 100]"
            ]
          },
          "metadata": {},
          "execution_count": 7
        }
      ]
    },
    {
      "cell_type": "markdown",
      "source": [
        "### Q3. Write a python program to convert the given list of integers into a tuple of strings. Use map and lambda functions\n",
        "### Given String: [1, 2, 3, 4, 5, 6, 7, 8, 9, 10]\n",
        "### Expected output: ('1', '2', '3', '4', '5', '6', '7', '8', '9', '10')"
      ],
      "metadata": {
        "id": "dRZMTh1Omv7M"
      }
    },
    {
      "cell_type": "code",
      "source": [
        "list2 = [1, 2, 3, 4, 5, 6, 7, 8, 9, 10]\n",
        "tuple(map(lambda x : str(x), list2))"
      ],
      "metadata": {
        "colab": {
          "base_uri": "https://localhost:8080/"
        },
        "id": "umsZ0zmSmcdO",
        "outputId": "84c3470b-f084-4afc-91b9-ea469eddffa0"
      },
      "execution_count": 1,
      "outputs": [
        {
          "output_type": "execute_result",
          "data": {
            "text/plain": [
              "('1', '2', '3', '4', '5', '6', '7', '8', '9', '10')"
            ]
          },
          "metadata": {},
          "execution_count": 1
        }
      ]
    },
    {
      "cell_type": "markdown",
      "source": [
        "### Q4. Write a python program using reduce function to compute the product of a list containing numbers from 1 to 25."
      ],
      "metadata": {
        "id": "OmcbCm8MnHSd"
      }
    },
    {
      "cell_type": "code",
      "source": [
        "list3=[]\n",
        "for i in range(1,26):\n",
        "  list3.append(i)\n",
        "from functools import reduce\n",
        "reduce(lambda x,y : x*y, list3)"
      ],
      "metadata": {
        "colab": {
          "base_uri": "https://localhost:8080/"
        },
        "id": "k6XJTFkFnJul",
        "outputId": "da7e9b08-c85c-4289-db3d-37d019b0eeec"
      },
      "execution_count": null,
      "outputs": [
        {
          "output_type": "execute_result",
          "data": {
            "text/plain": [
              "15511210043330985984000000"
            ]
          },
          "metadata": {},
          "execution_count": 11
        }
      ]
    },
    {
      "cell_type": "markdown",
      "source": [
        "### Q5. Write a python program to filter the numbers in a given list that are divisible by 2 and 3 using the filter function.\n",
        "### [2, 3, 6, 9, 27, 60, 90, 120, 55, 46]"
      ],
      "metadata": {
        "id": "F-eG5_GDoNM9"
      }
    },
    {
      "cell_type": "code",
      "source": [
        "list4 = [2, 3, 6, 9, 27, 60, 90, 120, 55, 46]\n",
        "list(filter(lambda x : x%2==0 and x%3==0, list4))"
      ],
      "metadata": {
        "colab": {
          "base_uri": "https://localhost:8080/"
        },
        "id": "eV9IJIwCoRWE",
        "outputId": "3d5691ab-a9a4-4691-fb89-dc298f4615e4"
      },
      "execution_count": null,
      "outputs": [
        {
          "output_type": "execute_result",
          "data": {
            "text/plain": [
              "[6, 60, 90, 120]"
            ]
          },
          "metadata": {},
          "execution_count": 14
        }
      ]
    },
    {
      "cell_type": "markdown",
      "source": [
        "### Q6. Write a python program to find palindromes in the given list of strings using lambda and filter function.\n",
        "### ['python', 'php', 'aba', 'radar', 'level']"
      ],
      "metadata": {
        "id": "UPFkAEqnoyOF"
      }
    },
    {
      "cell_type": "code",
      "source": [
        "list5 = ['python', 'php', 'aba', 'radar', 'level']\n",
        "list(filter(lambda x : x[:]==x[::-1] , list5))"
      ],
      "metadata": {
        "colab": {
          "base_uri": "https://localhost:8080/"
        },
        "id": "NlPV2Uc8o3Q0",
        "outputId": "1d6e9f65-2a6c-4abf-fe51-399259097d16"
      },
      "execution_count": null,
      "outputs": [
        {
          "output_type": "execute_result",
          "data": {
            "text/plain": [
              "['php', 'aba', 'radar', 'level']"
            ]
          },
          "metadata": {},
          "execution_count": 46
        }
      ]
    }
  ]
}