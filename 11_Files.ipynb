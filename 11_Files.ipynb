{
  "nbformat": 4,
  "nbformat_minor": 0,
  "metadata": {
    "colab": {
      "provenance": []
    },
    "kernelspec": {
      "name": "python3",
      "display_name": "Python 3"
    },
    "language_info": {
      "name": "python"
    }
  },
  "cells": [
    {
      "cell_type": "markdown",
      "source": [
        "11 feb"
      ],
      "metadata": {
        "id": "YJwpsZo8MtRz"
      }
    },
    {
      "cell_type": "markdown",
      "source": [
        "#Working with Files"
      ],
      "metadata": {
        "id": "1iov3xgYMxoD"
      }
    },
    {
      "cell_type": "code",
      "execution_count": null,
      "metadata": {
        "id": "jghlS0pqMmfO"
      },
      "outputs": [],
      "source": [
        "f = open('test.txt' , 'w')"
      ]
    },
    {
      "cell_type": "code",
      "source": [
        "pwd"
      ],
      "metadata": {
        "colab": {
          "base_uri": "https://localhost:8080/",
          "height": 36
        },
        "id": "CcgXsAItPQD6",
        "outputId": "c77ddd0b-090a-4ddd-efb5-d219f9c857dd"
      },
      "execution_count": null,
      "outputs": [
        {
          "output_type": "execute_result",
          "data": {
            "text/plain": [
              "'/content'"
            ],
            "application/vnd.google.colaboratory.intrinsic+json": {
              "type": "string"
            }
          },
          "metadata": {},
          "execution_count": 9
        }
      ]
    },
    {
      "cell_type": "code",
      "source": [
        "ls"
      ],
      "metadata": {
        "colab": {
          "base_uri": "https://localhost:8080/"
        },
        "id": "y2gxR4nhPSXa",
        "outputId": "069773a4-4556-451c-ec89-95c8ca9e4242"
      },
      "execution_count": null,
      "outputs": [
        {
          "output_type": "stream",
          "name": "stdout",
          "text": [
            "\u001b[0m\u001b[01;34msample_data\u001b[0m/  test.txt\n"
          ]
        }
      ]
    },
    {
      "cell_type": "code",
      "source": [
        "f.write('hi')"
      ],
      "metadata": {
        "colab": {
          "base_uri": "https://localhost:8080/"
        },
        "id": "6Vlf5JVsPTca",
        "outputId": "f725e55c-628a-4221-c827-4d188ecae7ec"
      },
      "execution_count": null,
      "outputs": [
        {
          "output_type": "execute_result",
          "data": {
            "text/plain": [
              "2"
            ]
          },
          "metadata": {},
          "execution_count": 11
        }
      ]
    },
    {
      "cell_type": "code",
      "source": [
        "f.close()"
      ],
      "metadata": {
        "id": "lfqcjz-KPeMl"
      },
      "execution_count": null,
      "outputs": []
    },
    {
      "cell_type": "code",
      "source": [
        "f = open('test.txt' , 'w')\n",
        "f.write('hello')\n",
        "f.close()"
      ],
      "metadata": {
        "id": "JxOaypNNPo3j"
      },
      "execution_count": null,
      "outputs": []
    },
    {
      "cell_type": "code",
      "source": [
        "f = open('test.txt' , 'a')\n",
        "f.write('hello')\n",
        "f.close()"
      ],
      "metadata": {
        "id": "uZLeWuorQDMq"
      },
      "execution_count": null,
      "outputs": []
    },
    {
      "cell_type": "code",
      "source": [
        "data = open('test.txt' , 'r')"
      ],
      "metadata": {
        "id": "woY3LPMvQavC"
      },
      "execution_count": null,
      "outputs": []
    },
    {
      "cell_type": "code",
      "source": [
        "data.read()"
      ],
      "metadata": {
        "colab": {
          "base_uri": "https://localhost:8080/",
          "height": 36
        },
        "id": "Z1Yjms3cQeo5",
        "outputId": "011fbfc1-c6f7-40ab-d81b-02a37e751de6"
      },
      "execution_count": null,
      "outputs": [
        {
          "output_type": "execute_result",
          "data": {
            "text/plain": [
              "'hellohello'"
            ],
            "application/vnd.google.colaboratory.intrinsic+json": {
              "type": "string"
            }
          },
          "metadata": {},
          "execution_count": 19
        }
      ]
    },
    {
      "cell_type": "code",
      "source": [
        "data.read()"
      ],
      "metadata": {
        "colab": {
          "base_uri": "https://localhost:8080/",
          "height": 36
        },
        "id": "q8x2mj-0QhLI",
        "outputId": "3435a071-7039-43eb-99f1-1b94ce6556e8"
      },
      "execution_count": null,
      "outputs": [
        {
          "output_type": "execute_result",
          "data": {
            "text/plain": [
              "''"
            ],
            "application/vnd.google.colaboratory.intrinsic+json": {
              "type": "string"
            }
          },
          "metadata": {},
          "execution_count": 20
        }
      ]
    },
    {
      "cell_type": "code",
      "source": [
        "data.seek(0)"
      ],
      "metadata": {
        "colab": {
          "base_uri": "https://localhost:8080/"
        },
        "id": "9H3Kb6-XQkYW",
        "outputId": "fe0228ec-ece8-4feb-d781-dbec3a09dbd8"
      },
      "execution_count": null,
      "outputs": [
        {
          "output_type": "execute_result",
          "data": {
            "text/plain": [
              "0"
            ]
          },
          "metadata": {},
          "execution_count": 21
        }
      ]
    },
    {
      "cell_type": "code",
      "source": [
        "data.read()"
      ],
      "metadata": {
        "colab": {
          "base_uri": "https://localhost:8080/",
          "height": 36
        },
        "id": "tGEfH7BpQoHy",
        "outputId": "3429fe0a-722e-4b99-cbc5-5589c854ac93"
      },
      "execution_count": null,
      "outputs": [
        {
          "output_type": "execute_result",
          "data": {
            "text/plain": [
              "'hellohello'"
            ],
            "application/vnd.google.colaboratory.intrinsic+json": {
              "type": "string"
            }
          },
          "metadata": {},
          "execution_count": 22
        }
      ]
    },
    {
      "cell_type": "code",
      "source": [
        "data.seek(4)"
      ],
      "metadata": {
        "colab": {
          "base_uri": "https://localhost:8080/"
        },
        "id": "tWh3nRJeQsIg",
        "outputId": "3d8ac499-125f-4c74-907c-1abbac97daab"
      },
      "execution_count": null,
      "outputs": [
        {
          "output_type": "execute_result",
          "data": {
            "text/plain": [
              "4"
            ]
          },
          "metadata": {},
          "execution_count": 23
        }
      ]
    },
    {
      "cell_type": "code",
      "source": [
        "data.read()"
      ],
      "metadata": {
        "colab": {
          "base_uri": "https://localhost:8080/",
          "height": 36
        },
        "id": "YKb92AGOQulY",
        "outputId": "9c039ba4-8bf3-4f8e-b02b-5085a58a8c51"
      },
      "execution_count": null,
      "outputs": [
        {
          "output_type": "execute_result",
          "data": {
            "text/plain": [
              "'ohello'"
            ],
            "application/vnd.google.colaboratory.intrinsic+json": {
              "type": "string"
            }
          },
          "metadata": {},
          "execution_count": 24
        }
      ]
    },
    {
      "cell_type": "code",
      "source": [
        "data1 = open('test.txt' , 'r')"
      ],
      "metadata": {
        "id": "KW2gQEA0QzW8"
      },
      "execution_count": null,
      "outputs": []
    },
    {
      "cell_type": "code",
      "source": [
        "for i in data1:\n",
        "  print(i)"
      ],
      "metadata": {
        "colab": {
          "base_uri": "https://localhost:8080/"
        },
        "id": "4TmRwsuiQ2a9",
        "outputId": "0fc215ae-eb0c-49b6-8130-78cccf21cb2a"
      },
      "execution_count": null,
      "outputs": [
        {
          "output_type": "stream",
          "name": "stdout",
          "text": [
            "hellohello\n"
          ]
        }
      ]
    },
    {
      "cell_type": "code",
      "source": [
        "for i in data1:\n",
        "  print(i)"
      ],
      "metadata": {
        "id": "dWEwIYEEQ46b"
      },
      "execution_count": null,
      "outputs": []
    },
    {
      "cell_type": "code",
      "source": [
        "data1.seek(0)"
      ],
      "metadata": {
        "colab": {
          "base_uri": "https://localhost:8080/"
        },
        "id": "Sgrhd2UVRDWU",
        "outputId": "f1e46276-0b52-4d74-840d-e83ae62d0866"
      },
      "execution_count": null,
      "outputs": [
        {
          "output_type": "execute_result",
          "data": {
            "text/plain": [
              "0"
            ]
          },
          "metadata": {},
          "execution_count": 37
        }
      ]
    },
    {
      "cell_type": "code",
      "source": [
        "for i in data1:\n",
        "  print(i)"
      ],
      "metadata": {
        "colab": {
          "base_uri": "https://localhost:8080/"
        },
        "id": "l4ObmKXHRGAM",
        "outputId": "53dcde49-c34f-4c73-cb98-c9343b6e42e1"
      },
      "execution_count": null,
      "outputs": [
        {
          "output_type": "stream",
          "name": "stdout",
          "text": [
            "hellohello\n"
          ]
        }
      ]
    },
    {
      "cell_type": "code",
      "source": [
        "import os"
      ],
      "metadata": {
        "id": "uxcBIvJwRRri"
      },
      "execution_count": null,
      "outputs": []
    },
    {
      "cell_type": "code",
      "source": [
        "os.path.getsize('test.txt')"
      ],
      "metadata": {
        "colab": {
          "base_uri": "https://localhost:8080/"
        },
        "id": "N3mxMlk7RSz8",
        "outputId": "cb4e130c-0f85-4daa-c6ca-f7675f9af75c"
      },
      "execution_count": null,
      "outputs": [
        {
          "output_type": "execute_result",
          "data": {
            "text/plain": [
              "10"
            ]
          },
          "metadata": {},
          "execution_count": 42
        }
      ]
    },
    {
      "cell_type": "code",
      "source": [
        "import shutil"
      ],
      "metadata": {
        "id": "OOe_vZXrRWeO"
      },
      "execution_count": null,
      "outputs": []
    },
    {
      "cell_type": "code",
      "source": [
        "shutil.copy('test.txt' , 'new_test.txt')"
      ],
      "metadata": {
        "colab": {
          "base_uri": "https://localhost:8080/",
          "height": 36
        },
        "id": "IalrBjQSRYTB",
        "outputId": "daaeea49-2165-48f0-8164-ffa81e577a5d"
      },
      "execution_count": null,
      "outputs": [
        {
          "output_type": "execute_result",
          "data": {
            "text/plain": [
              "'new_test.txt'"
            ],
            "application/vnd.google.colaboratory.intrinsic+json": {
              "type": "string"
            }
          },
          "metadata": {},
          "execution_count": 45
        }
      ]
    },
    {
      "cell_type": "code",
      "source": [
        "os.remove('test.txt')"
      ],
      "metadata": {
        "id": "FyswoqwORedT"
      },
      "execution_count": null,
      "outputs": []
    },
    {
      "cell_type": "code",
      "source": [
        "with open('new_test.txt' , 'r') as f:\n",
        "  print(f.read())"
      ],
      "metadata": {
        "colab": {
          "base_uri": "https://localhost:8080/"
        },
        "id": "HgViJpWXRoXb",
        "outputId": "800e80d5-3a94-4e0d-8c72-eca3e71fde50"
      },
      "execution_count": null,
      "outputs": [
        {
          "output_type": "stream",
          "name": "stdout",
          "text": [
            "hellohello\n"
          ]
        }
      ]
    },
    {
      "cell_type": "code",
      "source": [
        "with open('new_test.txt' , 'r') as f:\n",
        "  print(f.read())"
      ],
      "metadata": {
        "colab": {
          "base_uri": "https://localhost:8080/"
        },
        "id": "5pmNMiOZRzx7",
        "outputId": "c6a78acd-b339-4520-ec7d-f8e90ad42326"
      },
      "execution_count": null,
      "outputs": [
        {
          "output_type": "stream",
          "name": "stdout",
          "text": [
            "hellohello\n"
          ]
        }
      ]
    },
    {
      "cell_type": "code",
      "source": [
        "os.rename('new_test.txt' , 'test1.txt')"
      ],
      "metadata": {
        "id": "ls82CEo2R4jQ"
      },
      "execution_count": null,
      "outputs": []
    },
    {
      "cell_type": "markdown",
      "source": [
        "#Reading and Writing Files"
      ],
      "metadata": {
        "id": "_NuDQI81nNyW"
      }
    },
    {
      "cell_type": "code",
      "source": [
        "data = {\n",
        "    'name' : 'walter',\n",
        "    'mail_id' : 'ok',\n",
        "    'number' : 3,\n",
        "    'subject' : ['chemistry' , 'organic' , 'inorganic']\n",
        "}"
      ],
      "metadata": {
        "id": "KNk7g-53R-a7"
      },
      "execution_count": null,
      "outputs": []
    },
    {
      "cell_type": "code",
      "source": [
        "import json"
      ],
      "metadata": {
        "id": "H9Ljg21yn3Q4"
      },
      "execution_count": null,
      "outputs": []
    },
    {
      "cell_type": "code",
      "source": [
        "with open ('test1.json' , 'w') as f:\n",
        "  json.dump(data, f)"
      ],
      "metadata": {
        "id": "Ypg0SK4Yn58v"
      },
      "execution_count": null,
      "outputs": []
    },
    {
      "cell_type": "code",
      "source": [
        "with open('test1.json' , 'r') as f:\n",
        "  data1 = json.load(f)"
      ],
      "metadata": {
        "id": "VnAAd3vnorHc"
      },
      "execution_count": null,
      "outputs": []
    },
    {
      "cell_type": "code",
      "source": [
        "data1"
      ],
      "metadata": {
        "colab": {
          "base_uri": "https://localhost:8080/"
        },
        "id": "vNPXWlaDo6l9",
        "outputId": "38995f20-51d9-4e80-e7d9-48753b01f519"
      },
      "execution_count": null,
      "outputs": [
        {
          "output_type": "execute_result",
          "data": {
            "text/plain": [
              "{'name': 'walter',\n",
              " 'mail_id': 'ok',\n",
              " 'number': 3,\n",
              " 'subject': ['chemistry', 'organic', 'inorganic']}"
            ]
          },
          "metadata": {},
          "execution_count": 6
        }
      ]
    },
    {
      "cell_type": "code",
      "source": [
        "data1['subject'][1]"
      ],
      "metadata": {
        "colab": {
          "base_uri": "https://localhost:8080/",
          "height": 36
        },
        "id": "ih9CLHaxo9bC",
        "outputId": "4caf152d-5d57-4346-9b64-67850d72c9a3"
      },
      "execution_count": null,
      "outputs": [
        {
          "output_type": "execute_result",
          "data": {
            "text/plain": [
              "'organic'"
            ],
            "application/vnd.google.colaboratory.intrinsic+json": {
              "type": "string"
            }
          },
          "metadata": {},
          "execution_count": 7
        }
      ]
    },
    {
      "cell_type": "code",
      "source": [
        "data = [['name' , 'email_id' , 'number'],\n",
        "        ['walter', 'ok', 3],\n",
        "        ['jesse' , 'hi' , 10]\n",
        "        ]"
      ],
      "metadata": {
        "id": "Q5lI4TrxpUEH"
      },
      "execution_count": null,
      "outputs": []
    },
    {
      "cell_type": "code",
      "source": [
        "import csv"
      ],
      "metadata": {
        "id": "PkeKeB_epVf1"
      },
      "execution_count": null,
      "outputs": []
    },
    {
      "cell_type": "code",
      "source": [
        "with open ('test3.csv' , 'w') as f:\n",
        "  w = csv.writer(f)\n",
        "  for i in data:\n",
        "    w.writerow(i)"
      ],
      "metadata": {
        "id": "XjqYr7uWpXYv"
      },
      "execution_count": null,
      "outputs": []
    },
    {
      "cell_type": "code",
      "source": [
        "with open('test3.csv' , 'r') as f:\n",
        "  read = csv.reader(f)\n",
        "  for i in read:\n",
        "    print(i)"
      ],
      "metadata": {
        "colab": {
          "base_uri": "https://localhost:8080/"
        },
        "id": "UfqRiPt-p5H0",
        "outputId": "3aa69763-4a22-48f4-a3d4-1a662a18434a"
      },
      "execution_count": null,
      "outputs": [
        {
          "output_type": "stream",
          "name": "stdout",
          "text": [
            "['name', 'email_id', 'number']\n",
            "['walter', 'ok', '3']\n",
            "['jesse', 'hi', '10']\n"
          ]
        }
      ]
    },
    {
      "cell_type": "code",
      "source": [
        "#binary file , wb = write binary\n",
        "with open('test4.bin' , 'wb') as f:\n",
        "  f.write(b'\\x01\\x02\\x03')"
      ],
      "metadata": {
        "id": "IT8OvFECqNN9"
      },
      "execution_count": null,
      "outputs": []
    },
    {
      "cell_type": "code",
      "source": [
        "with open('test4.bin' , 'rb') as f:\n",
        "  print(f.read())"
      ],
      "metadata": {
        "colab": {
          "base_uri": "https://localhost:8080/"
        },
        "id": "OJYpk4W5qqj1",
        "outputId": "c6ebbdd4-69fa-4de1-9679-e4cfc2c47a7c"
      },
      "execution_count": null,
      "outputs": [
        {
          "output_type": "stream",
          "name": "stdout",
          "text": [
            "b'\\x01\\x02\\x03'\n"
          ]
        }
      ]
    },
    {
      "cell_type": "markdown",
      "source": [
        "#Buffered Read and Write & other File methods"
      ],
      "metadata": {
        "id": "1pT2O2sQq7dl"
      }
    },
    {
      "cell_type": "code",
      "source": [
        "#for large files"
      ],
      "metadata": {
        "id": "-SyGayses6R8"
      },
      "execution_count": null,
      "outputs": []
    },
    {
      "cell_type": "code",
      "source": [
        "import io"
      ],
      "metadata": {
        "id": "oBx3ODu4rAsQ"
      },
      "execution_count": null,
      "outputs": []
    },
    {
      "cell_type": "code",
      "source": [
        "with open('test.txt' , 'wb') as f:\n",
        "  file = io.BufferedWriter(f)\n",
        "  file.write(b'Data Science Masters course is highly curated and uniquely designed according to the latest industry standards. This program instills students the skills essential to knowledge discovery efforts to identify standard, novel, and truly differentiated solutions and decision-making, including skills in managing, querying, analyzing, visualizing, and extracting meaning from extremely large data sets.\\n')\n",
        "  file.write(b'second line')\n",
        "  file.flush()"
      ],
      "metadata": {
        "id": "9zEApS9arKev"
      },
      "execution_count": null,
      "outputs": []
    },
    {
      "cell_type": "code",
      "source": [
        "with open('test.txt' , 'rb') as f:\n",
        "  file = io.BufferedReader(f)\n",
        "  data = file.read()\n",
        "  print(data)"
      ],
      "metadata": {
        "colab": {
          "base_uri": "https://localhost:8080/"
        },
        "id": "DWc5Ig4Hq61l",
        "outputId": "f583381a-3780-4581-a906-ab7a3b6dba91"
      },
      "execution_count": null,
      "outputs": [
        {
          "output_type": "stream",
          "name": "stdout",
          "text": [
            "b'Data Science Masters course is highly curated and uniquely designed according to the latest industry standards. This program instills students the skills essential to knowledge discovery efforts to identify standard, novel, and truly differentiated solutions and decision-making, including skills in managing, querying, analyzing, visualizing, and extracting meaning from extremely large data sets.\\nsecond line'\n"
          ]
        }
      ]
    },
    {
      "cell_type": "code",
      "source": [
        "with open('test.txt' , 'rb') as f:\n",
        "  file = io.BufferedReader(f)\n",
        "  data = file.read(15)\n",
        "  print(data)"
      ],
      "metadata": {
        "colab": {
          "base_uri": "https://localhost:8080/"
        },
        "id": "gg8DsT2kswju",
        "outputId": "a075f5ad-a669-4f96-e3eb-0674b729b9bb"
      },
      "execution_count": null,
      "outputs": [
        {
          "output_type": "stream",
          "name": "stdout",
          "text": [
            "b'Data Science Ma'\n"
          ]
        }
      ]
    },
    {
      "cell_type": "code",
      "source": [
        "with open('test.txt' , 'rb') as f:\n",
        "  file = io.BufferedReader(f)\n",
        "  print(file.read(15))"
      ],
      "metadata": {
        "colab": {
          "base_uri": "https://localhost:8080/"
        },
        "id": "xrPLm4anszU9",
        "outputId": "36e11d6f-90b7-49bc-d4f7-0dadf3332735"
      },
      "execution_count": null,
      "outputs": [
        {
          "output_type": "stream",
          "name": "stdout",
          "text": [
            "b'Data Science Ma'\n"
          ]
        }
      ]
    },
    {
      "cell_type": "markdown",
      "source": [
        "#Logging & Debugger"
      ],
      "metadata": {
        "id": "hYbnBYhCvYhu"
      }
    },
    {
      "cell_type": "code",
      "source": [
        "#in production grade code, print is not supposed to be used; requirement of permanent storage\n",
        "print('this is my print statement')"
      ],
      "metadata": {
        "colab": {
          "base_uri": "https://localhost:8080/"
        },
        "id": "ngBkwLSCvbXQ",
        "outputId": "4c980cbb-553f-4e53-ed01-c2fb5107ea2c"
      },
      "execution_count": null,
      "outputs": [
        {
          "output_type": "stream",
          "name": "stdout",
          "text": [
            "this is my print statement\n"
          ]
        }
      ]
    },
    {
      "cell_type": "code",
      "source": [
        "import logging"
      ],
      "metadata": {
        "id": "h1y3KNBWvjEU"
      },
      "execution_count": 1,
      "outputs": []
    },
    {
      "cell_type": "code",
      "source": [
        "logging.basicConfig(filename = 'test.log' , level = logging.INFO)"
      ],
      "metadata": {
        "id": "-t1V1SQTv8oH"
      },
      "execution_count": null,
      "outputs": []
    },
    {
      "cell_type": "code",
      "source": [
        "pwd"
      ],
      "metadata": {
        "id": "UiwciyKRvT1v",
        "colab": {
          "base_uri": "https://localhost:8080/",
          "height": 36
        },
        "outputId": "b0721230-5dc9-4595-bb8f-cf242e1e8bbe"
      },
      "execution_count": null,
      "outputs": [
        {
          "output_type": "execute_result",
          "data": {
            "text/plain": [
              "'/content'"
            ],
            "application/vnd.google.colaboratory.intrinsic+json": {
              "type": "string"
            }
          },
          "metadata": {},
          "execution_count": 30
        }
      ]
    },
    {
      "cell_type": "code",
      "source": [
        "logging.info('line of execution')"
      ],
      "metadata": {
        "id": "7X-WNsAWySDG"
      },
      "execution_count": null,
      "outputs": []
    },
    {
      "cell_type": "code",
      "source": [
        "logging.error('this is my error')"
      ],
      "metadata": {
        "id": "e6kPUb6Syh23",
        "colab": {
          "base_uri": "https://localhost:8080/"
        },
        "outputId": "5964e86f-3d70-4df9-d37b-8f1498bb2d4b"
      },
      "execution_count": null,
      "outputs": [
        {
          "output_type": "stream",
          "name": "stderr",
          "text": [
            "ERROR:root:this is my error\n"
          ]
        }
      ]
    },
    {
      "cell_type": "code",
      "source": [
        "logging.critical('this is my critical')"
      ],
      "metadata": {
        "colab": {
          "base_uri": "https://localhost:8080/"
        },
        "id": "HUBRuSLrz1fc",
        "outputId": "5d37edaf-47b7-4dc2-fafc-f8a30601898c"
      },
      "execution_count": null,
      "outputs": [
        {
          "output_type": "stream",
          "name": "stderr",
          "text": [
            "CRITICAL:root:this is my critical\n"
          ]
        }
      ]
    },
    {
      "cell_type": "code",
      "source": [
        "'''\n",
        "hierarchy\n",
        "\n",
        "1. NOSET\n",
        "2. DEBUG\n",
        "3. INFO\n",
        "4. WARNING\n",
        "5. ERROR\n",
        "6. CRITICAL\n",
        "\n",
        "'''"
      ],
      "metadata": {
        "id": "6QwiK9Wg0LW-"
      },
      "execution_count": null,
      "outputs": []
    },
    {
      "cell_type": "code",
      "source": [
        "logging.warning('this is my warning')"
      ],
      "metadata": {
        "colab": {
          "base_uri": "https://localhost:8080/"
        },
        "id": "mL6BI_tQ0EM8",
        "outputId": "c922db5f-0037-422c-9d1b-64883392f225"
      },
      "execution_count": null,
      "outputs": [
        {
          "output_type": "stream",
          "name": "stderr",
          "text": [
            "WARNING:root:this is my warning\n"
          ]
        }
      ]
    },
    {
      "cell_type": "code",
      "source": [
        "logging.debug('this my debug')"
      ],
      "metadata": {
        "id": "oBjQ7jF00eV7"
      },
      "execution_count": null,
      "outputs": []
    },
    {
      "cell_type": "code",
      "source": [
        "#since level of file is info hence it wont be able to log anything above that level , in this case , debug"
      ],
      "metadata": {
        "id": "UyTD8AxU0oaX"
      },
      "execution_count": null,
      "outputs": []
    },
    {
      "cell_type": "code",
      "source": [
        "logging.shutdown()"
      ],
      "metadata": {
        "id": "tCibqeCR0wVB"
      },
      "execution_count": 52,
      "outputs": []
    },
    {
      "cell_type": "code",
      "source": [
        "logging.basicConfig(filename = 'test2.log' , level = logging.DEBUG , format = '%(asctime)s %(message)s')"
      ],
      "metadata": {
        "id": "CkPIndUg5FJa"
      },
      "execution_count": 2,
      "outputs": []
    },
    {
      "cell_type": "code",
      "source": [
        "logging.info('this is my info log')"
      ],
      "metadata": {
        "id": "LPOD_Uww8PeZ"
      },
      "execution_count": 54,
      "outputs": []
    },
    {
      "cell_type": "code",
      "source": [
        "logging.debug('debug log')"
      ],
      "metadata": {
        "id": "5Uc8hUdn8TTx"
      },
      "execution_count": 55,
      "outputs": []
    },
    {
      "cell_type": "code",
      "source": [
        "logging.warning('warning log')"
      ],
      "metadata": {
        "id": "GIFaqVxh8WCo"
      },
      "execution_count": null,
      "outputs": []
    },
    {
      "cell_type": "code",
      "source": [
        "logging.shutdown()"
      ],
      "metadata": {
        "id": "23mODnkG9uc_"
      },
      "execution_count": 57,
      "outputs": []
    },
    {
      "cell_type": "code",
      "source": [
        "logging.basicConfig(filename = 'test3.log' , level = logging.DEBUG , format = '%(asctime)s %(name)s %(levelname)s %(message)s')"
      ],
      "metadata": {
        "id": "0uvDFVhn_uAU"
      },
      "execution_count": 59,
      "outputs": []
    },
    {
      "cell_type": "code",
      "source": [
        "logging.info('info log')"
      ],
      "metadata": {
        "id": "O7r1_AXm_r6P"
      },
      "execution_count": 3,
      "outputs": []
    },
    {
      "cell_type": "code",
      "source": [
        "l = [1,2,3,4,[4,5,6],'walter','ok']"
      ],
      "metadata": {
        "id": "AQNgLpOcAyec"
      },
      "execution_count": 4,
      "outputs": []
    },
    {
      "cell_type": "code",
      "source": [
        "l1_int = []\n",
        "l2_str = []\n",
        "for i in l:\n",
        "  logging.info('start of first for loop {}.format(l)')\n",
        "  logging.info('value of  being logged {}.format(i)')\n",
        "  if type(i) == list:\n",
        "    for j in i:\n",
        "      logging.info('logging j {j} and i {i}.format(j = j,i = i)')\n",
        "      if type(j) == int:\n",
        "        l1_int.append(j)\n",
        "  elif type(i) == int:\n",
        "    l1_int.append(i)\n",
        "  else:\n",
        "    if type(i) == str:\n",
        "      l2_str.append(i)\n",
        "logging.info('final result with all int {l1} and with all str {l2}. format(l1 = l1_int, l2 = l2_str)')\n",
        "\n",
        "#notice how logging replaced print; advantage: permanent storage"
      ],
      "metadata": {
        "id": "2CFV2EH1BFaX"
      },
      "execution_count": 11,
      "outputs": []
    },
    {
      "cell_type": "code",
      "source": [
        "l1_int"
      ],
      "metadata": {
        "colab": {
          "base_uri": "https://localhost:8080/"
        },
        "id": "AckbK_DQBMUq",
        "outputId": "8f9ecbef-930a-4654-bc97-176af3bca713"
      },
      "execution_count": 8,
      "outputs": [
        {
          "output_type": "execute_result",
          "data": {
            "text/plain": [
              "[1, 2, 3, 4, 4, 5, 6]"
            ]
          },
          "metadata": {},
          "execution_count": 8
        }
      ]
    },
    {
      "cell_type": "code",
      "source": [
        "l2_str"
      ],
      "metadata": {
        "colab": {
          "base_uri": "https://localhost:8080/"
        },
        "id": "onz4zRpUBnJL",
        "outputId": "b487f8ab-e603-41e6-d70f-227e163a9051"
      },
      "execution_count": 9,
      "outputs": [
        {
          "output_type": "execute_result",
          "data": {
            "text/plain": [
              "['walter', 'ok']"
            ]
          },
          "metadata": {},
          "execution_count": 9
        }
      ]
    },
    {
      "cell_type": "markdown",
      "source": [
        "#Modules & Import Statements"
      ],
      "metadata": {
        "id": "SEFIMbuGC6X3"
      }
    },
    {
      "cell_type": "code",
      "source": [
        "#course_details:\n",
        "import os, sys\n",
        "from os.path import dirname, join, abspath\n",
        "\n",
        "sys.path.insert(0, abspath(join(dirname(__file__) , '..')))\n",
        "\n",
        "#from payment import payment_details\n",
        "\n",
        "def course():\n",
        "    print('this is the course file')\n",
        "\n",
        "\n",
        "#payment_details.payment()"
      ],
      "metadata": {
        "id": "tEwS3p4LIp5J"
      },
      "execution_count": null,
      "outputs": []
    },
    {
      "cell_type": "code",
      "source": [
        "#payment_details:\n",
        "import os, sys\n",
        "from os.path import dirname, join, abspath\n",
        "\n",
        "sys.path.insert(0, abspath(join(dirname(__file__) , '..')))\n",
        "\n",
        "\n",
        "from course import course_details\n",
        "\n",
        "def payment():\n",
        "    print('this is the payment file')\n",
        "\n",
        "course_details.course()"
      ],
      "metadata": {
        "id": "jaRFq0nTIctp"
      },
      "execution_count": null,
      "outputs": []
    }
  ]
}