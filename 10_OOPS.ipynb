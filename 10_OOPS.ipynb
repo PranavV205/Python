{
  "nbformat": 4,
  "nbformat_minor": 0,
  "metadata": {
    "colab": {
      "provenance": []
    },
    "kernelspec": {
      "name": "python3",
      "display_name": "Python 3"
    },
    "language_info": {
      "name": "python"
    }
  },
  "cells": [
    {
      "cell_type": "markdown",
      "source": [
        "Recording - 10th Feb"
      ],
      "metadata": {
        "id": "bVtNanS7hEmR"
      }
    },
    {
      "cell_type": "markdown",
      "source": [
        "# Decorators"
      ],
      "metadata": {
        "id": "ClvqcKN6hWUx"
      }
    },
    {
      "cell_type": "code",
      "source": [
        "'''\n",
        "\n",
        "Decorators are a very powerful and useful tool in Python since it allows programmers to modify the behaviour of a function or class.\n",
        "Decorators allow us to wrap another function in order to extend the behaviour of the wrapped function, without permanently modifying it.\n",
        "\n",
        "First Class Objects:\n",
        "In Python, functions are first class objects which means that functions in Python can be used or passed as arguments.\n",
        "\n",
        "Properties of first class functions:\n",
        "A function is an instance of the Object type.\n",
        "You can store the function in a variable.\n",
        "You can pass the function as a parameter to another function.\n",
        "You can return the function from a function.\n",
        "You can store them in data structures such as hash tables, lists, etc\n",
        "\n",
        "'''"
      ],
      "metadata": {
        "id": "o6S74yZDnjb_"
      },
      "execution_count": null,
      "outputs": []
    },
    {
      "cell_type": "code",
      "source": [
        "# modifies the behaviour of a function"
      ],
      "metadata": {
        "id": "83a8YuLZwGUe"
      },
      "execution_count": null,
      "outputs": []
    },
    {
      "cell_type": "code",
      "execution_count": null,
      "metadata": {
        "id": "rAbtqizhfjYl"
      },
      "outputs": [],
      "source": [
        "def test():\n",
        "  print('start')\n",
        "  print(4+5)\n",
        "  print('end')\n"
      ]
    },
    {
      "cell_type": "code",
      "source": [
        "test()"
      ],
      "metadata": {
        "colab": {
          "base_uri": "https://localhost:8080/"
        },
        "id": "PXnC4oJGh6aa",
        "outputId": "afa8f6e7-6083-4989-f44f-c8fec7953e9e"
      },
      "execution_count": null,
      "outputs": [
        {
          "output_type": "stream",
          "name": "stdout",
          "text": [
            "start\n",
            "9\n",
            "end\n"
          ]
        }
      ]
    },
    {
      "cell_type": "code",
      "source": [
        "def deco(func):\n",
        "  def inner_deco():\n",
        "    print('start')\n",
        "    func()\n",
        "    print('end')\n",
        "  return inner_deco"
      ],
      "metadata": {
        "id": "a5kx-hBeh89I"
      },
      "execution_count": null,
      "outputs": []
    },
    {
      "cell_type": "code",
      "source": [
        "@deco\n",
        "def test1():\n",
        "  print(4+5)"
      ],
      "metadata": {
        "id": "tn42eEMCjH2z"
      },
      "execution_count": null,
      "outputs": []
    },
    {
      "cell_type": "code",
      "source": [
        "test1()"
      ],
      "metadata": {
        "colab": {
          "base_uri": "https://localhost:8080/"
        },
        "id": "2zhiHHHMjNOJ",
        "outputId": "8621e4d9-1640-413b-dc64-6198be4495a3"
      },
      "execution_count": null,
      "outputs": [
        {
          "output_type": "stream",
          "name": "stdout",
          "text": [
            "start\n",
            "9\n",
            "end\n"
          ]
        }
      ]
    },
    {
      "cell_type": "code",
      "source": [
        "import time"
      ],
      "metadata": {
        "id": "xZ3NssPtjOkS"
      },
      "execution_count": null,
      "outputs": []
    },
    {
      "cell_type": "code",
      "source": [
        "def timer_test(func):\n",
        "  def timer_test_inner():\n",
        "    start = time.time()\n",
        "    func()\n",
        "    end = time.time()\n",
        "    print(end-start)\n",
        "  return timer_test_inner"
      ],
      "metadata": {
        "id": "ndUZrjinjdBa"
      },
      "execution_count": null,
      "outputs": []
    },
    {
      "cell_type": "code",
      "source": [
        "@timer_test\n",
        "def test2():\n",
        "  print(45+67)"
      ],
      "metadata": {
        "id": "f8FiFMlEjvaJ"
      },
      "execution_count": null,
      "outputs": []
    },
    {
      "cell_type": "code",
      "source": [
        "timer_test(test2)()"
      ],
      "metadata": {
        "colab": {
          "base_uri": "https://localhost:8080/"
        },
        "id": "47u__r0-wUXm",
        "outputId": "29a7fa5d-ca61-4a70-86af-3402e255e68f"
      },
      "execution_count": null,
      "outputs": [
        {
          "output_type": "stream",
          "name": "stdout",
          "text": [
            "112\n",
            "5.745887756347656e-05\n",
            "8.249282836914062e-05\n"
          ]
        }
      ]
    },
    {
      "cell_type": "code",
      "source": [
        "test2()"
      ],
      "metadata": {
        "colab": {
          "base_uri": "https://localhost:8080/"
        },
        "id": "2vh89ISVj0jY",
        "outputId": "c602d381-caf3-4089-a0d5-d0ab22812e8e"
      },
      "execution_count": null,
      "outputs": [
        {
          "output_type": "stream",
          "name": "stdout",
          "text": [
            "112\n",
            "5.91278076171875e-05\n"
          ]
        }
      ]
    },
    {
      "cell_type": "code",
      "source": [
        "@timer_test\n",
        "def test3():\n",
        "  for i in range(100000000):\n",
        "    pass"
      ],
      "metadata": {
        "id": "enSmtcT6j7Va"
      },
      "execution_count": null,
      "outputs": []
    },
    {
      "cell_type": "code",
      "source": [
        "test3()"
      ],
      "metadata": {
        "id": "VoTF45IvkD70",
        "outputId": "32925819-984d-4491-c334-9b0b31d6722c",
        "colab": {
          "base_uri": "https://localhost:8080/"
        }
      },
      "execution_count": null,
      "outputs": [
        {
          "output_type": "stream",
          "name": "stdout",
          "text": [
            "2.52105975151062\n"
          ]
        }
      ]
    },
    {
      "cell_type": "markdown",
      "source": [
        "# Class Methods"
      ],
      "metadata": {
        "id": "m8IhbI2SvUeG"
      }
    },
    {
      "cell_type": "code",
      "source": [
        "class pwskills:\n",
        "\n",
        "  def __init__(self, name, email):\n",
        "\n",
        "    self.name = name\n",
        "    self.email = email\n",
        "\n",
        "  def student_details(self):\n",
        "    print(self.name, self.email)"
      ],
      "metadata": {
        "id": "696hlJG7vSfi"
      },
      "execution_count": null,
      "outputs": []
    },
    {
      "cell_type": "code",
      "source": [
        "pw = pwskills('Pranav' , 'ok')"
      ],
      "metadata": {
        "id": "lttD96fmyyyV"
      },
      "execution_count": null,
      "outputs": []
    },
    {
      "cell_type": "code",
      "source": [
        "pw.name"
      ],
      "metadata": {
        "colab": {
          "base_uri": "https://localhost:8080/",
          "height": 35
        },
        "id": "GPYRxXlGy45c",
        "outputId": "1be0d734-3aab-403d-f672-715a53e77631"
      },
      "execution_count": null,
      "outputs": [
        {
          "output_type": "execute_result",
          "data": {
            "text/plain": [
              "'Pranav'"
            ],
            "application/vnd.google.colaboratory.intrinsic+json": {
              "type": "string"
            }
          },
          "metadata": {},
          "execution_count": 17
        }
      ]
    },
    {
      "cell_type": "code",
      "source": [
        "pw.email"
      ],
      "metadata": {
        "colab": {
          "base_uri": "https://localhost:8080/",
          "height": 35
        },
        "id": "XTiJL91Zy6EW",
        "outputId": "6ed1f346-2e2f-4042-99ea-7b79f928ae2c"
      },
      "execution_count": null,
      "outputs": [
        {
          "output_type": "execute_result",
          "data": {
            "text/plain": [
              "'ok'"
            ],
            "application/vnd.google.colaboratory.intrinsic+json": {
              "type": "string"
            }
          },
          "metadata": {},
          "execution_count": 18
        }
      ]
    },
    {
      "cell_type": "code",
      "source": [
        "pw.student_details()"
      ],
      "metadata": {
        "colab": {
          "base_uri": "https://localhost:8080/"
        },
        "id": "ZYz25lfey9RF",
        "outputId": "7d1f2c8b-dbc9-4ba1-b1e9-adc8c5ac2ac9"
      },
      "execution_count": null,
      "outputs": [
        {
          "output_type": "stream",
          "name": "stdout",
          "text": [
            "Pranav ok\n"
          ]
        }
      ]
    },
    {
      "cell_type": "code",
      "source": [
        "class pwskills1:\n",
        "\n",
        "  def __init__(self, name, email):\n",
        "\n",
        "    self.name = name\n",
        "    self.email = email\n",
        "\n",
        "  @classmethod\n",
        "  def details(cls, name, email):\n",
        "    return cls(name, email)\n",
        "\n",
        "  def student_details(self):\n",
        "    print(self.name, self.email)"
      ],
      "metadata": {
        "id": "a2-NiKqwzAFl"
      },
      "execution_count": null,
      "outputs": []
    },
    {
      "cell_type": "code",
      "source": [
        "pw1 = pwskills1.details('mohan','gm')"
      ],
      "metadata": {
        "id": "-RsJzPMsz9rk"
      },
      "execution_count": null,
      "outputs": []
    },
    {
      "cell_type": "code",
      "source": [
        "pw1.name"
      ],
      "metadata": {
        "colab": {
          "base_uri": "https://localhost:8080/",
          "height": 35
        },
        "id": "gNb7fcaK0Gob",
        "outputId": "48892557-8dae-499d-82e3-d3bb35aeb437"
      },
      "execution_count": null,
      "outputs": [
        {
          "output_type": "execute_result",
          "data": {
            "text/plain": [
              "'mohan'"
            ],
            "application/vnd.google.colaboratory.intrinsic+json": {
              "type": "string"
            }
          },
          "metadata": {},
          "execution_count": 23
        }
      ]
    },
    {
      "cell_type": "code",
      "source": [
        "pw1.email"
      ],
      "metadata": {
        "colab": {
          "base_uri": "https://localhost:8080/",
          "height": 35
        },
        "id": "AKIghdDH0II0",
        "outputId": "f8647031-8bb0-49f0-9477-d8a1a6a78b78"
      },
      "execution_count": null,
      "outputs": [
        {
          "output_type": "execute_result",
          "data": {
            "text/plain": [
              "'gm'"
            ],
            "application/vnd.google.colaboratory.intrinsic+json": {
              "type": "string"
            }
          },
          "metadata": {},
          "execution_count": 24
        }
      ]
    },
    {
      "cell_type": "code",
      "source": [
        "pw1.student_details()"
      ],
      "metadata": {
        "colab": {
          "base_uri": "https://localhost:8080/"
        },
        "id": "JsSUccA6z9xc",
        "outputId": "1ee26a78-14f1-4117-af11-6747f7e7345b"
      },
      "execution_count": null,
      "outputs": [
        {
          "output_type": "stream",
          "name": "stdout",
          "text": [
            "mohan gm\n"
          ]
        }
      ]
    },
    {
      "cell_type": "code",
      "source": [
        "class pwskills2:\n",
        "\n",
        "  mobile_no = 10\n",
        "\n",
        "  def __init__(self, name, email):\n",
        "\n",
        "    self.name = name\n",
        "    self.email = email\n",
        "\n",
        "  @classmethod\n",
        "  def details(cls, name, email):\n",
        "    return cls(name, email)\n",
        "\n",
        "\n",
        "  def student_details(self):\n",
        "    print(self.name, self.email, pwskills2.mobile_no)"
      ],
      "metadata": {
        "id": "fbTNs9eQ0aD-"
      },
      "execution_count": null,
      "outputs": []
    },
    {
      "cell_type": "code",
      "source": [
        "pwskills2.mobile_no"
      ],
      "metadata": {
        "colab": {
          "base_uri": "https://localhost:8080/"
        },
        "id": "0POmsqwL0kK6",
        "outputId": "70505370-72b5-4e4c-8b33-eac850370adc"
      },
      "execution_count": null,
      "outputs": [
        {
          "output_type": "execute_result",
          "data": {
            "text/plain": [
              "10"
            ]
          },
          "metadata": {},
          "execution_count": 27
        }
      ]
    },
    {
      "cell_type": "code",
      "source": [
        "pw2 = pwskills2.details('rohan','gn`')"
      ],
      "metadata": {
        "id": "G-4RjPlq0np-"
      },
      "execution_count": null,
      "outputs": []
    },
    {
      "cell_type": "code",
      "source": [
        "pw2.student_details()"
      ],
      "metadata": {
        "colab": {
          "base_uri": "https://localhost:8080/"
        },
        "id": "bIChIXKP07er",
        "outputId": "25b44900-c5a0-48e1-e93f-5bf42ca9c459"
      },
      "execution_count": null,
      "outputs": [
        {
          "output_type": "stream",
          "name": "stdout",
          "text": [
            "rohan gn 10\n"
          ]
        }
      ]
    },
    {
      "cell_type": "code",
      "source": [
        "pw2obj = pwskills2('walter','hw')"
      ],
      "metadata": {
        "id": "fK1ArsNr09u7"
      },
      "execution_count": null,
      "outputs": []
    },
    {
      "cell_type": "code",
      "source": [
        "pw2obj.student_details()"
      ],
      "metadata": {
        "colab": {
          "base_uri": "https://localhost:8080/"
        },
        "id": "Q2l34jIQ0izL",
        "outputId": "f951984e-137a-4abf-af86-bca846b5a1ea"
      },
      "execution_count": null,
      "outputs": [
        {
          "output_type": "stream",
          "name": "stdout",
          "text": [
            "walter hw 10\n"
          ]
        }
      ]
    },
    {
      "cell_type": "code",
      "source": [
        "class pwskills3:\n",
        "\n",
        "  mobile_no = 10\n",
        "\n",
        "  def __init__(self, name, email):\n",
        "\n",
        "    self.name = name\n",
        "    self.email = email\n",
        "\n",
        "  @classmethod\n",
        "  def change_number(cls,mobile):\n",
        "    pwskills2.mobile_no = 2\n",
        "\n",
        "\n",
        "  @classmethod\n",
        "  def details(cls, name, email):\n",
        "    return cls(name, email)\n",
        "\n",
        "\n",
        "  def student_details(self):\n",
        "    print(self.name, self.email, pwskills2.mobile_no)"
      ],
      "metadata": {
        "id": "bE3nvEbv1Np0"
      },
      "execution_count": null,
      "outputs": []
    },
    {
      "cell_type": "code",
      "source": [
        "pwskills3.mobile_no"
      ],
      "metadata": {
        "colab": {
          "base_uri": "https://localhost:8080/"
        },
        "id": "ziU_ILTB1lTq",
        "outputId": "65ceee46-f9c8-4b08-c129-8dd5b384461a"
      },
      "execution_count": null,
      "outputs": [
        {
          "output_type": "execute_result",
          "data": {
            "text/plain": [
              "10"
            ]
          },
          "metadata": {},
          "execution_count": 38
        }
      ]
    },
    {
      "cell_type": "code",
      "source": [
        "pwskills3.change_number(11)"
      ],
      "metadata": {
        "id": "pe32cT4L1stZ"
      },
      "execution_count": null,
      "outputs": []
    },
    {
      "cell_type": "code",
      "source": [
        "pwskills3.mobile_no"
      ],
      "metadata": {
        "colab": {
          "base_uri": "https://localhost:8080/"
        },
        "id": "QBXpLhrp1y1y",
        "outputId": "40c0365d-6bbf-401e-c457-c592076ffdf4"
      },
      "execution_count": null,
      "outputs": [
        {
          "output_type": "execute_result",
          "data": {
            "text/plain": [
              "10"
            ]
          },
          "metadata": {},
          "execution_count": 40
        }
      ]
    },
    {
      "cell_type": "code",
      "source": [
        "def course_details(cls, course_name):\n",
        "  print('course details',course_name)"
      ],
      "metadata": {
        "id": "2nxSzwHL13F6"
      },
      "execution_count": null,
      "outputs": []
    },
    {
      "cell_type": "code",
      "source": [
        "pwskills3.course_details = classmethod(course_details)"
      ],
      "metadata": {
        "id": "lYb5BEQJ3-ta"
      },
      "execution_count": null,
      "outputs": []
    },
    {
      "cell_type": "code",
      "source": [
        "pwskills3.course_details('ds')"
      ],
      "metadata": {
        "colab": {
          "base_uri": "https://localhost:8080/"
        },
        "id": "rvJ-kTg-4Ely",
        "outputId": "b7224716-22ba-472e-b1f7-03edd46744e6"
      },
      "execution_count": null,
      "outputs": [
        {
          "output_type": "stream",
          "name": "stdout",
          "text": [
            "course details ds\n"
          ]
        }
      ]
    },
    {
      "cell_type": "code",
      "source": [
        "class pwskills4:\n",
        "\n",
        "  mobile_no = 10\n",
        "\n",
        "  def __init__(self, name, email):\n",
        "\n",
        "    self.name = name\n",
        "    self.email = email\n",
        "\n",
        "  @classmethod\n",
        "  def change_number(cls,mobile):\n",
        "    pwskills2.mobile_no = 2\n",
        "\n",
        "\n",
        "  @classmethod\n",
        "  def details(cls, name, email):\n",
        "    return cls(name, email)\n",
        "\n",
        "\n",
        "  def student_details(self):\n",
        "    print(self.name, self.email, pwskills2.mobile_no)"
      ],
      "metadata": {
        "id": "1chNEi7H4OG6"
      },
      "execution_count": null,
      "outputs": []
    },
    {
      "cell_type": "code",
      "source": [
        "del pwskills4.details"
      ],
      "metadata": {
        "id": "Zm_qW_bc4QPS"
      },
      "execution_count": null,
      "outputs": []
    },
    {
      "cell_type": "code",
      "source": [
        "delattr(pwskills4, 'mobile_no')"
      ],
      "metadata": {
        "id": "4qgbXOme4s3q"
      },
      "execution_count": null,
      "outputs": []
    },
    {
      "cell_type": "code",
      "source": [
        "pwskills4.mobile_no"
      ],
      "metadata": {
        "colab": {
          "base_uri": "https://localhost:8080/",
          "height": 165
        },
        "id": "-KG1RwZv42wH",
        "outputId": "c9bab587-b242-4a75-c4d0-4c498b8555e8"
      },
      "execution_count": null,
      "outputs": [
        {
          "output_type": "error",
          "ename": "AttributeError",
          "evalue": "ignored",
          "traceback": [
            "\u001b[0;31m---------------------------------------------------------------------------\u001b[0m",
            "\u001b[0;31mAttributeError\u001b[0m                            Traceback (most recent call last)",
            "\u001b[0;32m<ipython-input-53-893b3f474928>\u001b[0m in \u001b[0;36m<cell line: 1>\u001b[0;34m()\u001b[0m\n\u001b[0;32m----> 1\u001b[0;31m \u001b[0mpwskills4\u001b[0m\u001b[0;34m.\u001b[0m\u001b[0mmobile_no\u001b[0m\u001b[0;34m\u001b[0m\u001b[0;34m\u001b[0m\u001b[0m\n\u001b[0m",
            "\u001b[0;31mAttributeError\u001b[0m: type object 'pwskills4' has no attribute 'mobile_no'"
          ]
        }
      ]
    },
    {
      "cell_type": "markdown",
      "source": [
        "# Class Methods again"
      ],
      "metadata": {
        "id": "_YKdHc1S6nvB"
      }
    },
    {
      "cell_type": "code",
      "source": [
        "'''\n",
        "\n",
        "What are Python Class Methods?\n",
        "A class method is a type of method that is bound to the class and not the instance of the class.\n",
        "In other words, it operates on the class as a whole, rather than on a specific instance of the class.\n",
        "Class methods are defined using the \"@classmethod\" decorator, followed by a function definition.\n",
        "The first argument of the function is always \"cls,\" which represents the class itself.\n",
        "\n",
        "Why Use Python Class Methods?\n",
        "Class methods are useful in several situations.\n",
        "For example, you might want to create a factory method that creates instances of your class in a specific way.\n",
        "You could define a class method that creates the instance and returns it to the caller.\n",
        "Another common use case is to provide alternative constructors for your class.\n",
        "This can be useful if you want to create instances of your class in multiple ways, but still have a consistent interface for doing so.\n",
        "\n",
        "It's important to note that class methods cannot modify the class in any way.\n",
        "If you need to modify the class, you should use a class level variable instead.\n",
        "\n",
        "In object-oriented programming, the term \"constructor\" refers to a special type of method that is automatically executed when an object is created from a class.\n",
        "The purpose of a constructor is to initialize the object's attributes, allowing the object to be fully functional and ready to use.\n",
        "\n",
        "However, there are times when you may want to create an object in a different way, or with different initial values, than what is provided by the default constructor.\n",
        "This is where class methods can be used as alternative constructors.\n",
        "\n",
        "A class method belongs to the class rather than to an instance of the class.\n",
        "One common use case for class methods as alternative constructors is when you want to create an object from data that is stored in a different format, such as a string or a dictionary.\n",
        "\n",
        "Another common use case for class methods as alternative constructors is when you want to create an object with a different set of default values than what is provided by the default constructor.\n",
        "For example, consider a class named \"Rectangle\" that has two attributes: \"width\" and \"height\".\n",
        "The default constructor for the class might look like this:\n",
        "\n",
        "class Rectangle:\n",
        "    def __init__(self, width, height):\n",
        "        self.width = width\n",
        "        self.height = height\n",
        "\n",
        "But what if you want to create a Rectangle object with a default width of 10 and a default height of 5?\n",
        "You can define a class method named \"square\" to do this:\n",
        "\n",
        "class Rectangle:\n",
        "  def __init__(self, width, height):\n",
        "    self.width = width\n",
        "    self.height = height\n",
        "\n",
        "  @classmethod\n",
        "  def square(cls, size):\n",
        "    return cls(size, size)\n",
        "\n",
        "Now you can create a square rectangle like this:\n",
        "\n",
        "rectangle = Rectangle.square(10)\n",
        "\n",
        "'''"
      ],
      "metadata": {
        "id": "6gKdz4_BMBl8"
      },
      "execution_count": null,
      "outputs": []
    },
    {
      "cell_type": "code",
      "source": [
        "# type of method that is bound to the class and not the instance of the class\n",
        "# operates on the class as a whole rather than a specific instance of the class"
      ],
      "metadata": {
        "id": "gKVzmuyd467q"
      },
      "execution_count": null,
      "outputs": []
    },
    {
      "cell_type": "code",
      "source": [
        "class Employee:\n",
        "  company = 'Apple'\n",
        "  def show(self):\n",
        "    print(f'the name is {self.name} and company is {self.company}')\n",
        "\n",
        "  def changeCompany(cls, newCompany):\n",
        "   cls.company = newCompany"
      ],
      "metadata": {
        "id": "G8BmpXph9Dzw"
      },
      "execution_count": null,
      "outputs": []
    },
    {
      "cell_type": "code",
      "source": [
        "e1 = Employee()\n",
        "e1.name = 'Harry'\n",
        "e1.show()\n",
        "e1.changeCompany(\"Tesla\")\n",
        "e1.show()\n",
        "print(Employee.company)"
      ],
      "metadata": {
        "colab": {
          "base_uri": "https://localhost:8080/"
        },
        "id": "KrmibSg1FynY",
        "outputId": "0bd0b37d-f36f-47e8-c6da-4a335f9c63de"
      },
      "execution_count": null,
      "outputs": [
        {
          "output_type": "stream",
          "name": "stdout",
          "text": [
            "the name is Harry and company is Apple\n",
            "the name is Harry and company is Tesla\n",
            "Apple\n"
          ]
        }
      ]
    },
    {
      "cell_type": "code",
      "source": [
        "# using class method\n",
        "class Employee:\n",
        "  company = 'Apple'\n",
        "  def show(self):\n",
        "    print(f'the name is {self.name} and company is {self.company}')\n",
        "\n",
        "  @classmethod\n",
        "  def changeCompany(cls, newCompany):\n",
        "   cls.company = newCompany"
      ],
      "metadata": {
        "id": "PpGVB3JtFhWZ"
      },
      "execution_count": null,
      "outputs": []
    },
    {
      "cell_type": "code",
      "source": [
        "e1 = Employee()\n",
        "e1.name = 'Harry'\n",
        "e1.show()\n",
        "e1.changeCompany(\"Tesla\")\n",
        "e1.show()\n",
        "print(Employee.company)"
      ],
      "metadata": {
        "colab": {
          "base_uri": "https://localhost:8080/"
        },
        "id": "r9OZxJWfFm6g",
        "outputId": "94dbb02e-4ee3-4c44-9d80-b042a92f8a50"
      },
      "execution_count": null,
      "outputs": [
        {
          "output_type": "stream",
          "name": "stdout",
          "text": [
            "the name is Harry and company is Apple\n",
            "the name is Harry and company is Tesla\n",
            "Tesla\n"
          ]
        }
      ]
    },
    {
      "cell_type": "code",
      "source": [
        "# Class methods as alternative constructors"
      ],
      "metadata": {
        "id": "8Kotjrk7HxNZ"
      },
      "execution_count": null,
      "outputs": []
    },
    {
      "cell_type": "code",
      "source": [
        "class Employee:\n",
        "\n",
        "  def __init__(self, name, salary):\n",
        "    self.name = name\n",
        "    self.salary = salary\n"
      ],
      "metadata": {
        "id": "45lWim2bIA_Y"
      },
      "execution_count": null,
      "outputs": []
    },
    {
      "cell_type": "code",
      "source": [
        "e1 = Employee('Harry', 12000)\n",
        "print(e1.name)\n",
        "print(e1.salary)"
      ],
      "metadata": {
        "colab": {
          "base_uri": "https://localhost:8080/"
        },
        "id": "nJBYPIBqLYNF",
        "outputId": "5e669377-72ee-446f-ae10-d38061f253c6"
      },
      "execution_count": null,
      "outputs": [
        {
          "output_type": "stream",
          "name": "stdout",
          "text": [
            "Harry\n",
            "12000\n"
          ]
        }
      ]
    },
    {
      "cell_type": "code",
      "source": [
        "str1 = 'John-12000'"
      ],
      "metadata": {
        "id": "98sYdu7mLhdE"
      },
      "execution_count": null,
      "outputs": []
    },
    {
      "cell_type": "code",
      "source": [
        "class Employee:\n",
        "\n",
        "  def __init__(self, name, salary):\n",
        "    self.name = name\n",
        "    self.salary = salary\n",
        "\n",
        "  @classmethod\n",
        "  def fromStr(cls, string):\n",
        "    return cls(string.split('-')[0], int(string.split('-')[1]))"
      ],
      "metadata": {
        "id": "8fOrkrMELo6k"
      },
      "execution_count": null,
      "outputs": []
    },
    {
      "cell_type": "code",
      "source": [
        "str1 = 'John-12000'"
      ],
      "metadata": {
        "id": "oMdkG36yLtrL"
      },
      "execution_count": null,
      "outputs": []
    },
    {
      "cell_type": "code",
      "source": [
        "e2 = Employee.fromStr(str1)\n",
        "print(e2.name)\n",
        "print(e2.salary)"
      ],
      "metadata": {
        "colab": {
          "base_uri": "https://localhost:8080/"
        },
        "id": "XfLhK7yUL0jU",
        "outputId": "aeb7d1b3-356e-4757-935a-6ceb3ef1c385"
      },
      "execution_count": null,
      "outputs": [
        {
          "output_type": "stream",
          "name": "stdout",
          "text": [
            "John\n",
            "12000\n"
          ]
        }
      ]
    },
    {
      "cell_type": "code",
      "source": [],
      "metadata": {
        "id": "V-nKQ1eYLzuj"
      },
      "execution_count": null,
      "outputs": []
    },
    {
      "cell_type": "markdown",
      "source": [
        "# Static Methods"
      ],
      "metadata": {
        "id": "Yc20pFxTF_En"
      }
    },
    {
      "cell_type": "code",
      "source": [
        "'''\n",
        "\n",
        "Static methods in Python are methods that belong to a class rather than an instance of the class.\n",
        "They are defined using the @staticmethod decorator and do not have access to the instance of the class (i.e. self).\n",
        "They are called on the class itself, not on an instance of the class.\n",
        "Static methods are often used to create utility functions that don't need access to instance data.\n",
        "\n",
        "Static methods are commonly used for utility functions or helper methods that are related to the class but do not require instance-specific data.\n",
        "They can be used for performing calculations, data transformations, or any other operation that is not dependent on the instance's state.\n",
        "\n",
        "'''"
      ],
      "metadata": {
        "id": "G8c7t0G4Mnkf"
      },
      "execution_count": null,
      "outputs": []
    },
    {
      "cell_type": "code",
      "source": [
        "class Math:\n",
        "\n",
        "  def __init__(self, num):\n",
        "    self.num = num\n",
        "\n",
        "  def addtonum(self, n):\n",
        "    self.num += n\n",
        "\n",
        "  @staticmethod\n",
        "  def add(a,b):\n",
        "    return a + b"
      ],
      "metadata": {
        "id": "Vg2pukSY4OaK"
      },
      "execution_count": null,
      "outputs": []
    },
    {
      "cell_type": "code",
      "source": [
        "a = Math(5)\n",
        "print(a.num)\n",
        "a.addtonum(6)\n",
        "print(a.num)\n",
        "\n",
        "print(Math.add(7,2))"
      ],
      "metadata": {
        "colab": {
          "base_uri": "https://localhost:8080/"
        },
        "id": "uLNJQj2BIYMR",
        "outputId": "ecd45981-2d46-4a4e-af0a-51ba155edf6b"
      },
      "execution_count": null,
      "outputs": [
        {
          "output_type": "stream",
          "name": "stdout",
          "text": [
            "5\n",
            "11\n",
            "9\n"
          ]
        }
      ]
    },
    {
      "cell_type": "markdown",
      "source": [
        "# Magic/Dunder Methods"
      ],
      "metadata": {
        "id": "K6bm4QiwRgym"
      }
    },
    {
      "cell_type": "code",
      "source": [
        "'''\n",
        "\n",
        "These are special methods that you can define in your classes, and when invoked, they give you a powerful way to manipulate objects and their behaviour.\n",
        "\n",
        "Magic methods, also known as “dunders” from the double underscores surrounding their names, are powerful tools that allow you to customize the behaviour of your classes.\n",
        "They are used to implement special methods such as the addition, subtraction and comparison operators, as well as some more advanced techniques like descriptors and properties.\n",
        "\n",
        "__init__ method\n",
        "The init method is a special method that is automatically invoked when you create a new instance of a class.\n",
        "This method is responsible for setting up the object’s initial state, and it is where you would typically define any instance variables that you need.\n",
        "Also called \"constructor\".\n",
        "\n",
        "__str__ and __repr__ methods\n",
        "The str and repr methods are both used to convert an object to a string representation.\n",
        "The str method is used when you want to print out an object, while the repr method is used when you want to get a string representation of an object that can be used to recreate the object.\n",
        "\n",
        "__len__ method\n",
        "The len method is used to get the length of an object.\n",
        "This is useful when you want to be able to find the size of a data structure, such as a list or dictionary.\n",
        "\n",
        "__call__ method\n",
        "The call method is used to make an object callable, meaning that you can pass it as a parameter to a function and it will be executed when the function is called.\n",
        "This is an incredibly powerful tool that allows you to create objects that behave like functions.\n",
        "\n",
        "'''"
      ],
      "metadata": {
        "id": "EjcP6FlI3DU7"
      },
      "execution_count": null,
      "outputs": []
    },
    {
      "cell_type": "code",
      "source": [
        "dir(int)"
      ],
      "metadata": {
        "colab": {
          "base_uri": "https://localhost:8080/"
        },
        "id": "LXCH4biQRkaC",
        "outputId": "91d046f9-7bee-401f-cbcf-6f9f24e14d70"
      },
      "execution_count": null,
      "outputs": [
        {
          "output_type": "execute_result",
          "data": {
            "text/plain": [
              "['__abs__',\n",
              " '__add__',\n",
              " '__and__',\n",
              " '__bool__',\n",
              " '__ceil__',\n",
              " '__class__',\n",
              " '__delattr__',\n",
              " '__dir__',\n",
              " '__divmod__',\n",
              " '__doc__',\n",
              " '__eq__',\n",
              " '__float__',\n",
              " '__floor__',\n",
              " '__floordiv__',\n",
              " '__format__',\n",
              " '__ge__',\n",
              " '__getattribute__',\n",
              " '__getnewargs__',\n",
              " '__gt__',\n",
              " '__hash__',\n",
              " '__index__',\n",
              " '__init__',\n",
              " '__init_subclass__',\n",
              " '__int__',\n",
              " '__invert__',\n",
              " '__le__',\n",
              " '__lshift__',\n",
              " '__lt__',\n",
              " '__mod__',\n",
              " '__mul__',\n",
              " '__ne__',\n",
              " '__neg__',\n",
              " '__new__',\n",
              " '__or__',\n",
              " '__pos__',\n",
              " '__pow__',\n",
              " '__radd__',\n",
              " '__rand__',\n",
              " '__rdivmod__',\n",
              " '__reduce__',\n",
              " '__reduce_ex__',\n",
              " '__repr__',\n",
              " '__rfloordiv__',\n",
              " '__rlshift__',\n",
              " '__rmod__',\n",
              " '__rmul__',\n",
              " '__ror__',\n",
              " '__round__',\n",
              " '__rpow__',\n",
              " '__rrshift__',\n",
              " '__rshift__',\n",
              " '__rsub__',\n",
              " '__rtruediv__',\n",
              " '__rxor__',\n",
              " '__setattr__',\n",
              " '__sizeof__',\n",
              " '__str__',\n",
              " '__sub__',\n",
              " '__subclasshook__',\n",
              " '__truediv__',\n",
              " '__trunc__',\n",
              " '__xor__',\n",
              " 'as_integer_ratio',\n",
              " 'bit_count',\n",
              " 'bit_length',\n",
              " 'conjugate',\n",
              " 'denominator',\n",
              " 'from_bytes',\n",
              " 'imag',\n",
              " 'numerator',\n",
              " 'real',\n",
              " 'to_bytes']"
            ]
          },
          "metadata": {},
          "execution_count": 1
        }
      ]
    },
    {
      "cell_type": "code",
      "source": [
        "dir(str)"
      ],
      "metadata": {
        "colab": {
          "base_uri": "https://localhost:8080/"
        },
        "id": "y1kJ5h8Yz-rk",
        "outputId": "b32588ee-2550-4311-c5b2-7922c93e5aa8"
      },
      "execution_count": null,
      "outputs": [
        {
          "output_type": "execute_result",
          "data": {
            "text/plain": [
              "['__add__',\n",
              " '__class__',\n",
              " '__contains__',\n",
              " '__delattr__',\n",
              " '__dir__',\n",
              " '__doc__',\n",
              " '__eq__',\n",
              " '__format__',\n",
              " '__ge__',\n",
              " '__getattribute__',\n",
              " '__getitem__',\n",
              " '__getnewargs__',\n",
              " '__gt__',\n",
              " '__hash__',\n",
              " '__init__',\n",
              " '__init_subclass__',\n",
              " '__iter__',\n",
              " '__le__',\n",
              " '__len__',\n",
              " '__lt__',\n",
              " '__mod__',\n",
              " '__mul__',\n",
              " '__ne__',\n",
              " '__new__',\n",
              " '__reduce__',\n",
              " '__reduce_ex__',\n",
              " '__repr__',\n",
              " '__rmod__',\n",
              " '__rmul__',\n",
              " '__setattr__',\n",
              " '__sizeof__',\n",
              " '__str__',\n",
              " '__subclasshook__',\n",
              " 'capitalize',\n",
              " 'casefold',\n",
              " 'center',\n",
              " 'count',\n",
              " 'encode',\n",
              " 'endswith',\n",
              " 'expandtabs',\n",
              " 'find',\n",
              " 'format',\n",
              " 'format_map',\n",
              " 'index',\n",
              " 'isalnum',\n",
              " 'isalpha',\n",
              " 'isascii',\n",
              " 'isdecimal',\n",
              " 'isdigit',\n",
              " 'isidentifier',\n",
              " 'islower',\n",
              " 'isnumeric',\n",
              " 'isprintable',\n",
              " 'isspace',\n",
              " 'istitle',\n",
              " 'isupper',\n",
              " 'join',\n",
              " 'ljust',\n",
              " 'lower',\n",
              " 'lstrip',\n",
              " 'maketrans',\n",
              " 'partition',\n",
              " 'removeprefix',\n",
              " 'removesuffix',\n",
              " 'replace',\n",
              " 'rfind',\n",
              " 'rindex',\n",
              " 'rjust',\n",
              " 'rpartition',\n",
              " 'rsplit',\n",
              " 'rstrip',\n",
              " 'split',\n",
              " 'splitlines',\n",
              " 'startswith',\n",
              " 'strip',\n",
              " 'swapcase',\n",
              " 'title',\n",
              " 'translate',\n",
              " 'upper',\n",
              " 'zfill']"
            ]
          },
          "metadata": {},
          "execution_count": 2
        }
      ]
    },
    {
      "cell_type": "code",
      "source": [
        "dir(dict)"
      ],
      "metadata": {
        "colab": {
          "base_uri": "https://localhost:8080/"
        },
        "id": "dme1r101z_69",
        "outputId": "f6f60bed-f9ed-4dfc-ebd2-c8f7298c5d8f"
      },
      "execution_count": null,
      "outputs": [
        {
          "output_type": "execute_result",
          "data": {
            "text/plain": [
              "['__class__',\n",
              " '__class_getitem__',\n",
              " '__contains__',\n",
              " '__delattr__',\n",
              " '__delitem__',\n",
              " '__dir__',\n",
              " '__doc__',\n",
              " '__eq__',\n",
              " '__format__',\n",
              " '__ge__',\n",
              " '__getattribute__',\n",
              " '__getitem__',\n",
              " '__gt__',\n",
              " '__hash__',\n",
              " '__init__',\n",
              " '__init_subclass__',\n",
              " '__ior__',\n",
              " '__iter__',\n",
              " '__le__',\n",
              " '__len__',\n",
              " '__lt__',\n",
              " '__ne__',\n",
              " '__new__',\n",
              " '__or__',\n",
              " '__reduce__',\n",
              " '__reduce_ex__',\n",
              " '__repr__',\n",
              " '__reversed__',\n",
              " '__ror__',\n",
              " '__setattr__',\n",
              " '__setitem__',\n",
              " '__sizeof__',\n",
              " '__str__',\n",
              " '__subclasshook__',\n",
              " 'clear',\n",
              " 'copy',\n",
              " 'fromkeys',\n",
              " 'get',\n",
              " 'items',\n",
              " 'keys',\n",
              " 'pop',\n",
              " 'popitem',\n",
              " 'setdefault',\n",
              " 'update',\n",
              " 'values']"
            ]
          },
          "metadata": {},
          "execution_count": 3
        }
      ]
    },
    {
      "cell_type": "code",
      "source": [
        "a = 10"
      ],
      "metadata": {
        "id": "3hjHNRCA0EFD"
      },
      "execution_count": null,
      "outputs": []
    },
    {
      "cell_type": "code",
      "source": [
        "a + 6"
      ],
      "metadata": {
        "colab": {
          "base_uri": "https://localhost:8080/"
        },
        "id": "QZ8SnQ3q0HQR",
        "outputId": "04a605d7-e1d2-4681-e8c6-e3e5799f9188"
      },
      "execution_count": null,
      "outputs": [
        {
          "output_type": "execute_result",
          "data": {
            "text/plain": [
              "16"
            ]
          },
          "metadata": {},
          "execution_count": 5
        }
      ]
    },
    {
      "cell_type": "code",
      "source": [
        "a.__add__(6)"
      ],
      "metadata": {
        "colab": {
          "base_uri": "https://localhost:8080/"
        },
        "id": "-KrU9exj0IhW",
        "outputId": "324455bd-2d42-4df0-c74c-bd5ffc554a1a"
      },
      "execution_count": null,
      "outputs": [
        {
          "output_type": "execute_result",
          "data": {
            "text/plain": [
              "16"
            ]
          },
          "metadata": {},
          "execution_count": 6
        }
      ]
    },
    {
      "cell_type": "code",
      "source": [
        "class pwskills:\n",
        "\n",
        "  def __init__(self):\n",
        "    print(\"init\")"
      ],
      "metadata": {
        "id": "Catn8GqY0LEj"
      },
      "execution_count": null,
      "outputs": []
    },
    {
      "cell_type": "code",
      "source": [
        "pw = pwskills()"
      ],
      "metadata": {
        "colab": {
          "base_uri": "https://localhost:8080/"
        },
        "id": "4V866jqB0Vjp",
        "outputId": "8900f60a-3b7e-4f11-ed46-d8812bae6b06"
      },
      "execution_count": null,
      "outputs": [
        {
          "output_type": "stream",
          "name": "stdout",
          "text": [
            "init\n"
          ]
        }
      ]
    },
    {
      "cell_type": "code",
      "source": [
        "class pwskills:\n",
        "\n",
        "  def __new__(cls):\n",
        "    print('new')\n",
        "\n",
        "  def __init__(self):\n",
        "    print(\"init\")"
      ],
      "metadata": {
        "id": "HlA-nEU70Zs6"
      },
      "execution_count": null,
      "outputs": []
    },
    {
      "cell_type": "code",
      "source": [
        "pw = pwskills()"
      ],
      "metadata": {
        "colab": {
          "base_uri": "https://localhost:8080/"
        },
        "id": "UPhWyIrT21Fb",
        "outputId": "ab3751aa-3b89-4cd3-eb3f-f95ec3b81e83"
      },
      "execution_count": null,
      "outputs": [
        {
          "output_type": "stream",
          "name": "stdout",
          "text": [
            "new\n"
          ]
        }
      ]
    },
    {
      "cell_type": "code",
      "source": [
        "class pwskills1:\n",
        "  def __init__(self):\n",
        "    self.mobile_number = 10"
      ],
      "metadata": {
        "id": "GB3Y2ecZ22oi"
      },
      "execution_count": null,
      "outputs": []
    },
    {
      "cell_type": "code",
      "source": [
        "pw1 = pwskills1()"
      ],
      "metadata": {
        "id": "Fq6kSw073CRb"
      },
      "execution_count": null,
      "outputs": []
    },
    {
      "cell_type": "code",
      "source": [
        "pw1"
      ],
      "metadata": {
        "colab": {
          "base_uri": "https://localhost:8080/"
        },
        "id": "picTwWPE3HFj",
        "outputId": "e9a5a55d-039e-4647-d737-ea31e2f505fb"
      },
      "execution_count": null,
      "outputs": [
        {
          "output_type": "execute_result",
          "data": {
            "text/plain": [
              "<__main__.pwskills1 at 0x7f0174afad10>"
            ]
          },
          "metadata": {},
          "execution_count": 15
        }
      ]
    },
    {
      "cell_type": "code",
      "source": [
        "print(pw1)"
      ],
      "metadata": {
        "colab": {
          "base_uri": "https://localhost:8080/"
        },
        "id": "5B_dS7zz3HvK",
        "outputId": "05458418-dc3d-4322-d04f-a03fdd5c8c34"
      },
      "execution_count": null,
      "outputs": [
        {
          "output_type": "stream",
          "name": "stdout",
          "text": [
            "<__main__.pwskills1 object at 0x7f0174afad10>\n"
          ]
        }
      ]
    },
    {
      "cell_type": "code",
      "source": [
        "class pwskills1:\n",
        "  def __init__(self):\n",
        "    self.mobile_number = 10\n",
        "\n",
        "  def __str__(self):\n",
        "    return 'magic'"
      ],
      "metadata": {
        "id": "ke6GQ7io3J_D"
      },
      "execution_count": null,
      "outputs": []
    },
    {
      "cell_type": "code",
      "source": [
        "pw1 = pwskills1()"
      ],
      "metadata": {
        "id": "6JZsCORk3C5b"
      },
      "execution_count": null,
      "outputs": []
    },
    {
      "cell_type": "code",
      "source": [
        "pw1"
      ],
      "metadata": {
        "colab": {
          "base_uri": "https://localhost:8080/"
        },
        "id": "x5I05kDD3cCo",
        "outputId": "4266e6dc-039a-4d45-d70a-befe914c5cc0"
      },
      "execution_count": null,
      "outputs": [
        {
          "output_type": "execute_result",
          "data": {
            "text/plain": [
              "<__main__.pwskills1 at 0x7f0185207d30>"
            ]
          },
          "metadata": {},
          "execution_count": 20
        }
      ]
    },
    {
      "cell_type": "code",
      "source": [
        "print(pw1)"
      ],
      "metadata": {
        "colab": {
          "base_uri": "https://localhost:8080/"
        },
        "id": "3mfegGcM3dGu",
        "outputId": "a042a488-ae58-4051-dff3-55af5bbbe768"
      },
      "execution_count": null,
      "outputs": [
        {
          "output_type": "stream",
          "name": "stdout",
          "text": [
            "magic\n"
          ]
        }
      ]
    },
    {
      "cell_type": "markdown",
      "source": [
        "# Property Decorators - Getters, Setters and Deletes"
      ],
      "metadata": {
        "id": "JCh7kaHYWY6A"
      }
    },
    {
      "cell_type": "code",
      "source": [
        "'''\n",
        "\n",
        "Getters:\n",
        "Getters in Python are methods that are used to access the values of an object's properties.\n",
        "They are used to return the value of a specific property, and are typically defined using the @property decorator.\n",
        "\n",
        "Setters:\n",
        "It is important to note that the getters do not take any parameters and we cannot set the value through getter method.\n",
        "For that we need setter method which can be added by decorating method with @property_name.setter\n",
        "\n",
        "'''"
      ],
      "metadata": {
        "id": "nqQJgpqO8CM1"
      },
      "execution_count": null,
      "outputs": []
    },
    {
      "cell_type": "code",
      "source": [
        "class pwskills:\n",
        "\n",
        "  def __init__(self, course_price, course_name):\n",
        "    self.__course_price = course_price\n",
        "    self.course_name = course_name"
      ],
      "metadata": {
        "id": "RvTE2EVAWfAX"
      },
      "execution_count": null,
      "outputs": []
    },
    {
      "cell_type": "code",
      "source": [
        "pw = pwskills(2500, 'data science')"
      ],
      "metadata": {
        "id": "O917A1KH32c8"
      },
      "execution_count": null,
      "outputs": []
    },
    {
      "cell_type": "code",
      "source": [
        "pw.course_name"
      ],
      "metadata": {
        "colab": {
          "base_uri": "https://localhost:8080/",
          "height": 36
        },
        "id": "WbJ_DoR636PP",
        "outputId": "18e1fa52-6f3a-4c6f-cb99-10a1a9575980"
      },
      "execution_count": null,
      "outputs": [
        {
          "output_type": "execute_result",
          "data": {
            "text/plain": [
              "'data science'"
            ],
            "application/vnd.google.colaboratory.intrinsic+json": {
              "type": "string"
            }
          },
          "metadata": {},
          "execution_count": 24
        }
      ]
    },
    {
      "cell_type": "code",
      "source": [
        "pw.__course_price"
      ],
      "metadata": {
        "colab": {
          "base_uri": "https://localhost:8080/",
          "height": 165
        },
        "id": "5WGCL8Jg39iE",
        "outputId": "b635a3e7-04d5-4529-a3e1-85c1d01454fd"
      },
      "execution_count": null,
      "outputs": [
        {
          "output_type": "error",
          "ename": "AttributeError",
          "evalue": "ignored",
          "traceback": [
            "\u001b[0;31m---------------------------------------------------------------------------\u001b[0m",
            "\u001b[0;31mAttributeError\u001b[0m                            Traceback (most recent call last)",
            "\u001b[0;32m<ipython-input-26-46dd1efb5218>\u001b[0m in \u001b[0;36m<cell line: 1>\u001b[0;34m()\u001b[0m\n\u001b[0;32m----> 1\u001b[0;31m \u001b[0mpw\u001b[0m\u001b[0;34m.\u001b[0m\u001b[0m__course_price\u001b[0m\u001b[0;34m\u001b[0m\u001b[0;34m\u001b[0m\u001b[0m\n\u001b[0m",
            "\u001b[0;31mAttributeError\u001b[0m: 'pwskills' object has no attribute '__course_price'"
          ]
        }
      ]
    },
    {
      "cell_type": "code",
      "source": [
        "pw._pwskills__course_price"
      ],
      "metadata": {
        "colab": {
          "base_uri": "https://localhost:8080/"
        },
        "id": "OsVBmdFN4CUk",
        "outputId": "de3a3893-3561-4469-df52-16deaefb8608"
      },
      "execution_count": null,
      "outputs": [
        {
          "output_type": "execute_result",
          "data": {
            "text/plain": [
              "2500"
            ]
          },
          "metadata": {},
          "execution_count": 27
        }
      ]
    },
    {
      "cell_type": "code",
      "source": [
        "class pwskills:\n",
        "\n",
        "  def __init__(self, course_price, course_name):\n",
        "    self.__course_price = course_price\n",
        "    self.course_name = course_name\n",
        "\n",
        "  @property\n",
        "  def course_price_access(self):\n",
        "    return self.__course_price\n",
        "\n",
        "  @course_price_access.setter\n",
        "  def course_price_set(self, price):\n",
        "    if price <= 2500:\n",
        "      pass\n",
        "    else:\n",
        "      self.__course_price = price\n",
        "\n",
        "  @course_price_access.deleter\n",
        "  def course_price_del(self):\n",
        "    del self.__course_price\n"
      ],
      "metadata": {
        "id": "IO2gmsKP39kV"
      },
      "execution_count": null,
      "outputs": []
    },
    {
      "cell_type": "code",
      "source": [
        "pw = pwskills(2500,'data science')"
      ],
      "metadata": {
        "id": "gZfujEKZ39mc"
      },
      "execution_count": null,
      "outputs": []
    },
    {
      "cell_type": "code",
      "source": [
        "pw.course_price_access"
      ],
      "metadata": {
        "colab": {
          "base_uri": "https://localhost:8080/"
        },
        "id": "XruH4caa4kV0",
        "outputId": "34aa4cd9-25b8-4f1a-aa87-23f0c26b9317"
      },
      "execution_count": null,
      "outputs": [
        {
          "output_type": "execute_result",
          "data": {
            "text/plain": [
              "2500"
            ]
          },
          "metadata": {},
          "execution_count": 32
        }
      ]
    },
    {
      "cell_type": "code",
      "source": [
        "pw.course_price_set = 3000"
      ],
      "metadata": {
        "id": "8RCyFXIp39oh"
      },
      "execution_count": null,
      "outputs": []
    },
    {
      "cell_type": "code",
      "source": [
        "pw.course_price_access"
      ],
      "metadata": {
        "colab": {
          "base_uri": "https://localhost:8080/"
        },
        "id": "HDMu1Cgd5Hpk",
        "outputId": "e4682336-ee2e-4ccb-ec92-87a2a800345f"
      },
      "execution_count": null,
      "outputs": [
        {
          "output_type": "execute_result",
          "data": {
            "text/plain": [
              "3000"
            ]
          },
          "metadata": {},
          "execution_count": 37
        }
      ]
    },
    {
      "cell_type": "code",
      "source": [
        "del pw.course_price_del"
      ],
      "metadata": {
        "id": "UTlAk0ZH5a-9"
      },
      "execution_count": null,
      "outputs": []
    },
    {
      "cell_type": "code",
      "source": [
        "pw.course_price_access"
      ],
      "metadata": {
        "colab": {
          "base_uri": "https://localhost:8080/",
          "height": 287
        },
        "id": "ssmOP7PP5frG",
        "outputId": "a42098a7-ddff-41d9-f078-79051a1668d1"
      },
      "execution_count": null,
      "outputs": [
        {
          "output_type": "error",
          "ename": "AttributeError",
          "evalue": "ignored",
          "traceback": [
            "\u001b[0;31m---------------------------------------------------------------------------\u001b[0m",
            "\u001b[0;31mAttributeError\u001b[0m                            Traceback (most recent call last)",
            "\u001b[0;32m<ipython-input-44-605ce0d9a072>\u001b[0m in \u001b[0;36m<cell line: 1>\u001b[0;34m()\u001b[0m\n\u001b[0;32m----> 1\u001b[0;31m \u001b[0mpw\u001b[0m\u001b[0;34m.\u001b[0m\u001b[0mcourse_price_access\u001b[0m\u001b[0;34m\u001b[0m\u001b[0;34m\u001b[0m\u001b[0m\n\u001b[0m",
            "\u001b[0;32m<ipython-input-38-4f50777df1f9>\u001b[0m in \u001b[0;36mcourse_price_access\u001b[0;34m(self)\u001b[0m\n\u001b[1;32m      7\u001b[0m   \u001b[0;34m@\u001b[0m\u001b[0mproperty\u001b[0m\u001b[0;34m\u001b[0m\u001b[0;34m\u001b[0m\u001b[0m\n\u001b[1;32m      8\u001b[0m   \u001b[0;32mdef\u001b[0m \u001b[0mcourse_price_access\u001b[0m\u001b[0;34m(\u001b[0m\u001b[0mself\u001b[0m\u001b[0;34m)\u001b[0m\u001b[0;34m:\u001b[0m\u001b[0;34m\u001b[0m\u001b[0;34m\u001b[0m\u001b[0m\n\u001b[0;32m----> 9\u001b[0;31m     \u001b[0;32mreturn\u001b[0m \u001b[0mself\u001b[0m\u001b[0;34m.\u001b[0m\u001b[0m__course_price\u001b[0m\u001b[0;34m\u001b[0m\u001b[0;34m\u001b[0m\u001b[0m\n\u001b[0m\u001b[1;32m     10\u001b[0m \u001b[0;34m\u001b[0m\u001b[0m\n\u001b[1;32m     11\u001b[0m   \u001b[0;34m@\u001b[0m\u001b[0mcourse_price_access\u001b[0m\u001b[0;34m.\u001b[0m\u001b[0msetter\u001b[0m\u001b[0;34m\u001b[0m\u001b[0;34m\u001b[0m\u001b[0m\n",
            "\u001b[0;31mAttributeError\u001b[0m: 'pwskills' object has no attribute '_pwskills__course_price'"
          ]
        }
      ]
    }
  ]
}