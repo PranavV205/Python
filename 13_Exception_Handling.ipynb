{
  "nbformat": 4,
  "nbformat_minor": 0,
  "metadata": {
    "colab": {
      "provenance": []
    },
    "kernelspec": {
      "name": "python3",
      "display_name": "Python 3"
    },
    "language_info": {
      "name": "python"
    }
  },
  "cells": [
    {
      "cell_type": "markdown",
      "source": [
        "13th feb"
      ],
      "metadata": {
        "id": "Q4pSBGW4GPq3"
      }
    },
    {
      "cell_type": "markdown",
      "source": [
        "#List of General Use Exceptios"
      ],
      "metadata": {
        "id": "MZvmLxGaGWNu"
      }
    },
    {
      "cell_type": "code",
      "source": [
        "try:\n",
        "  a = 10\n",
        "  a/10\n",
        "except ZeroDivisionError as e:\n",
        "  print('e')"
      ],
      "metadata": {
        "id": "6s_tQdo1GSYu"
      },
      "execution_count": 1,
      "outputs": []
    },
    {
      "cell_type": "code",
      "source": [
        "try:\n",
        "  int('ok')\n",
        "except(ValueError, TypeError) as e:\n",
        "  print(e)"
      ],
      "metadata": {
        "colab": {
          "base_uri": "https://localhost:8080/"
        },
        "id": "niY7IFOYGlc2",
        "outputId": "71989ad1-2c12-49b8-9909-659d61afc3df"
      },
      "execution_count": 5,
      "outputs": [
        {
          "output_type": "stream",
          "name": "stdout",
          "text": [
            "invalid literal for int() with base 10: 'ok'\n"
          ]
        }
      ]
    },
    {
      "cell_type": "code",
      "source": [
        "try:\n",
        "  int('ok')\n",
        "except:\n",
        "  print('error')"
      ],
      "metadata": {
        "colab": {
          "base_uri": "https://localhost:8080/"
        },
        "id": "XeGfTwfOGs_X",
        "outputId": "d24ddbef-9a44-44a4-e0b2-0acf1e2f7f54"
      },
      "execution_count": 4,
      "outputs": [
        {
          "output_type": "stream",
          "name": "stdout",
          "text": [
            "error\n"
          ]
        }
      ]
    },
    {
      "cell_type": "code",
      "execution_count": 6,
      "metadata": {
        "colab": {
          "base_uri": "https://localhost:8080/"
        },
        "id": "3bsAL82ZFpo1",
        "outputId": "148d2739-e57b-4616-b22b-4473c4199426"
      },
      "outputs": [
        {
          "output_type": "stream",
          "name": "stdout",
          "text": [
            "No module named 'okj'\n"
          ]
        }
      ],
      "source": [
        "try:\n",
        "  import okj\n",
        "except ImportError as e:\n",
        "  print(e)"
      ]
    },
    {
      "cell_type": "code",
      "source": [
        "try:\n",
        "  d = {1:2 , 'key':'ok'}\n",
        "  d['key1']\n",
        "except KeyError as e:\n",
        "  print(e)"
      ],
      "metadata": {
        "colab": {
          "base_uri": "https://localhost:8080/"
        },
        "id": "qf7sG9chG_ZI",
        "outputId": "61d34c44-4d21-4b25-ec17-e44dde46142b"
      },
      "execution_count": 7,
      "outputs": [
        {
          "output_type": "stream",
          "name": "stdout",
          "text": [
            "'key1'\n"
          ]
        }
      ]
    },
    {
      "cell_type": "code",
      "source": [
        "try:\n",
        "  'ok'.test()\n",
        "except AttributeError as e:\n",
        "  print(e)"
      ],
      "metadata": {
        "colab": {
          "base_uri": "https://localhost:8080/"
        },
        "id": "MDyQ9ReEHNQj",
        "outputId": "4935a34a-9fc1-4797-ecda-51843f3621e6"
      },
      "execution_count": 8,
      "outputs": [
        {
          "output_type": "stream",
          "name": "stdout",
          "text": [
            "'str' object has no attribute 'test'\n"
          ]
        }
      ]
    },
    {
      "cell_type": "code",
      "source": [
        "try:\n",
        "  l = [1,2,3]\n",
        "  l[10]\n",
        "except IndexError as e:\n",
        "  print(e)"
      ],
      "metadata": {
        "colab": {
          "base_uri": "https://localhost:8080/"
        },
        "id": "AHAaZd_nHU-H",
        "outputId": "fa0ecd5d-4259-443b-b69a-27a643de346d"
      },
      "execution_count": 9,
      "outputs": [
        {
          "output_type": "stream",
          "name": "stdout",
          "text": [
            "list index out of range\n"
          ]
        }
      ]
    },
    {
      "cell_type": "code",
      "source": [
        "try:\n",
        "  123 + 'ok'\n",
        "except TypeError as e:\n",
        "  print(e)"
      ],
      "metadata": {
        "colab": {
          "base_uri": "https://localhost:8080/"
        },
        "id": "zVtGnYZ3Hc6W",
        "outputId": "6c93cca8-4a80-4104-ee50-f42e2e75aeac"
      },
      "execution_count": 10,
      "outputs": [
        {
          "output_type": "stream",
          "name": "stdout",
          "text": [
            "unsupported operand type(s) for +: 'int' and 'str'\n"
          ]
        }
      ]
    },
    {
      "cell_type": "code",
      "source": [
        "try:\n",
        "  with open('test.txt' , 'r') as f:\n",
        "    f.read()\n",
        "except FileNotFoundError as e:\n",
        "  print(e)"
      ],
      "metadata": {
        "colab": {
          "base_uri": "https://localhost:8080/"
        },
        "id": "f8uDJbz2HiV5",
        "outputId": "f43d004d-0d1c-4ac8-d378-d8145829ea22"
      },
      "execution_count": 11,
      "outputs": [
        {
          "output_type": "stream",
          "name": "stdout",
          "text": [
            "[Errno 2] No such file or directory: 'test.txt'\n"
          ]
        }
      ]
    },
    {
      "cell_type": "code",
      "source": [
        "try:\n",
        "  with open('test.txt' , 'r') as f:\n",
        "    f.read()\n",
        "except Exception as e:\n",
        "  print('test' , e)\n",
        "except FileNotFoundError as e:\n",
        "  print('this is file error')\n",
        "\n",
        "#never write superclass before subclass"
      ],
      "metadata": {
        "colab": {
          "base_uri": "https://localhost:8080/"
        },
        "id": "hOV1FZZNHtFm",
        "outputId": "3cf7d56c-0569-4b28-e6ba-70d9c2442551"
      },
      "execution_count": 12,
      "outputs": [
        {
          "output_type": "stream",
          "name": "stdout",
          "text": [
            "test [Errno 2] No such file or directory: 'test.txt'\n"
          ]
        }
      ]
    },
    {
      "cell_type": "code",
      "source": [
        "def test(file):\n",
        "  try:\n",
        "   with open('test.txt' , 'r') as f:\n",
        "    f.read()\n",
        "  except Exception as e:\n",
        "   print('test' , e)\n",
        "  except FileNotFoundError as e:\n",
        "   print('this is file error')"
      ],
      "metadata": {
        "id": "b_FtVuM-H_lG"
      },
      "execution_count": 13,
      "outputs": []
    },
    {
      "cell_type": "markdown",
      "source": [
        "#Best Practice Exception Handling"
      ],
      "metadata": {
        "id": "_xw0e3LEIJ_v"
      }
    },
    {
      "cell_type": "code",
      "source": [
        "#always use specific exception\n",
        "try:\n",
        "  10/0\n",
        "except ZeroDivisionError as e:\n",
        "  print(e)"
      ],
      "metadata": {
        "colab": {
          "base_uri": "https://localhost:8080/"
        },
        "id": "TKw-MpUxIJRC",
        "outputId": "1529a745-7b83-44d3-f89f-7b8841281672"
      },
      "execution_count": 14,
      "outputs": [
        {
          "output_type": "stream",
          "name": "stdout",
          "text": [
            "division by zero\n"
          ]
        }
      ]
    },
    {
      "cell_type": "code",
      "source": [
        "#always print a valid msg\n",
        "try:\n",
        "  10/0\n",
        "except ZeroDivisionError as e:\n",
        "  print('this is a zero division error' , e)"
      ],
      "metadata": {
        "colab": {
          "base_uri": "https://localhost:8080/"
        },
        "id": "XquMI8-4IklP",
        "outputId": "690cc00a-b76b-4fde-e4f8-d56cdb14275d"
      },
      "execution_count": 15,
      "outputs": [
        {
          "output_type": "stream",
          "name": "stdout",
          "text": [
            "this is a zero division error division by zero\n"
          ]
        }
      ]
    },
    {
      "cell_type": "code",
      "source": [
        "#always try to log\n",
        "import logging\n",
        "logging.basicConfig(filename = 'error.log' , level = logging.ERROR)\n",
        "try:\n",
        "  10/0\n",
        "except ZeroDivisionError as e:\n",
        "  logging.error('this is a zero division error, {}'.format(e))"
      ],
      "metadata": {
        "colab": {
          "base_uri": "https://localhost:8080/"
        },
        "id": "fSFWRMGVH5mC",
        "outputId": "d09d5fa9-9088-40e0-c8ee-d100991930b0"
      },
      "execution_count": 16,
      "outputs": [
        {
          "output_type": "stream",
          "name": "stderr",
          "text": [
            "ERROR:root:this is a zero division error, division by zero\n"
          ]
        }
      ]
    },
    {
      "cell_type": "code",
      "source": [
        "#avoid writing multiple exception handling (agr malum hai ki zerodivisionerror hai to attribute ya file error mat dalte jaana)"
      ],
      "metadata": {
        "id": "ER8c_rDxJLBS"
      },
      "execution_count": null,
      "outputs": []
    },
    {
      "cell_type": "code",
      "source": [
        "#prepare proper documentation"
      ],
      "metadata": {
        "id": "hTMmKqUTJiwG"
      },
      "execution_count": null,
      "outputs": []
    },
    {
      "cell_type": "code",
      "source": [
        "#cleanup all resources\n",
        "try:\n",
        "  with open('test.txt' , 'w') as f:\n",
        "    f.write('msg')\n",
        "except FileNotFoundError as e:\n",
        "    logging.error('error {}'.format(e))\n",
        "finally:\n",
        "  f.close()"
      ],
      "metadata": {
        "id": "gEKtgzYXJo7T"
      },
      "execution_count": 17,
      "outputs": []
    }
  ]
}