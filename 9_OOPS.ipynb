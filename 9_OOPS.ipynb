{
  "nbformat": 4,
  "nbformat_minor": 0,
  "metadata": {
    "colab": {
      "provenance": []
    },
    "kernelspec": {
      "name": "python3",
      "display_name": "Python 3"
    },
    "language_info": {
      "name": "python"
    }
  },
  "cells": [
    {
      "cell_type": "markdown",
      "source": [
        "***Recording - 8th Feb (OOPS)***"
      ],
      "metadata": {
        "id": "TZcn1nI7OCJ_"
      }
    },
    {
      "cell_type": "markdown",
      "source": [
        "## Polymorphism"
      ],
      "metadata": {
        "id": "mt--Csf1OMVJ"
      }
    },
    {
      "cell_type": "code",
      "source": [
        "'''\n",
        "The word polymorphism means having many forms.\n",
        "In programming, polymorphism means the same function name (but different signatures) being used for different types.\n",
        "The key difference is the data types and number of arguments used in function.\n",
        "\n",
        "Example of inbuilt polymorphic functions:\n",
        "\n",
        "#Python program to demonstrate in-built polymorphic functions\n",
        "len() being used for a string\n",
        "print(len(\"geeks\"))\n",
        "len() being used for a list\n",
        "print(len([10, 20, 30]))\n",
        "\n",
        "Output\n",
        "5\n",
        "3\n",
        "\n",
        "'''\n"
      ],
      "metadata": {
        "id": "yiEUvk931D-k"
      },
      "execution_count": null,
      "outputs": []
    },
    {
      "cell_type": "code",
      "execution_count": null,
      "metadata": {
        "id": "uiQkOgS7N-Gw"
      },
      "outputs": [],
      "source": [
        "def test1(a,b):\n",
        "  return a+b"
      ]
    },
    {
      "cell_type": "code",
      "source": [
        "test1(4,5)"
      ],
      "metadata": {
        "colab": {
          "base_uri": "https://localhost:8080/"
        },
        "id": "aqy0LGlpQW34",
        "outputId": "07f7def1-b3d9-49eb-b849-217792cdb8d5"
      },
      "execution_count": null,
      "outputs": [
        {
          "output_type": "execute_result",
          "data": {
            "text/plain": [
              "9"
            ]
          },
          "metadata": {},
          "execution_count": 2
        }
      ]
    },
    {
      "cell_type": "code",
      "source": [
        "test1('P','V')"
      ],
      "metadata": {
        "colab": {
          "base_uri": "https://localhost:8080/",
          "height": 35
        },
        "id": "3jZmpvZAQY4W",
        "outputId": "7e1d4789-8684-4ae4-8d52-94a32967b600"
      },
      "execution_count": null,
      "outputs": [
        {
          "output_type": "execute_result",
          "data": {
            "text/plain": [
              "'PV'"
            ],
            "application/vnd.google.colaboratory.intrinsic+json": {
              "type": "string"
            }
          },
          "metadata": {},
          "execution_count": 3
        }
      ]
    },
    {
      "cell_type": "code",
      "source": [
        "test1([1,2,3],[4,5])"
      ],
      "metadata": {
        "colab": {
          "base_uri": "https://localhost:8080/"
        },
        "id": "fQGz-fqLQccW",
        "outputId": "1cdb16f9-f24f-4f99-9365-690ea057ef70"
      },
      "execution_count": null,
      "outputs": [
        {
          "output_type": "execute_result",
          "data": {
            "text/plain": [
              "[1, 2, 3, 4, 5]"
            ]
          },
          "metadata": {},
          "execution_count": 4
        }
      ]
    },
    {
      "cell_type": "code",
      "source": [
        "class data_science:\n",
        "  def syllabus(self):\n",
        "   print('method')"
      ],
      "metadata": {
        "id": "RuCeXzfyQp46"
      },
      "execution_count": null,
      "outputs": []
    },
    {
      "cell_type": "code",
      "source": [
        "class web_dev:\n",
        "  def syllabus(self):\n",
        "    print('m for web')"
      ],
      "metadata": {
        "id": "pWy26pd2Q2ex"
      },
      "execution_count": null,
      "outputs": []
    },
    {
      "cell_type": "code",
      "source": [
        "def class_parcer(class_obj):\n",
        "  for i in class_obj:\n",
        "    i.syllabus()"
      ],
      "metadata": {
        "id": "o2l4zjL7Q_Be"
      },
      "execution_count": null,
      "outputs": []
    },
    {
      "cell_type": "code",
      "source": [
        "obj_data_science = data_science()"
      ],
      "metadata": {
        "id": "b9WmHWIgQrra"
      },
      "execution_count": null,
      "outputs": []
    },
    {
      "cell_type": "code",
      "source": [
        "obj_web_dev = web_dev()"
      ],
      "metadata": {
        "id": "6Ci1dEvNRU4B"
      },
      "execution_count": null,
      "outputs": []
    },
    {
      "cell_type": "code",
      "source": [
        "class_obj = [obj_data_science, obj_web_dev]"
      ],
      "metadata": {
        "id": "UqqGDY4eRYlv"
      },
      "execution_count": null,
      "outputs": []
    },
    {
      "cell_type": "code",
      "source": [
        "class_parcer(class_obj)"
      ],
      "metadata": {
        "colab": {
          "base_uri": "https://localhost:8080/"
        },
        "id": "X4kqOoY0RfXx",
        "outputId": "e9d124df-d9b3-40db-ef66-0e37db00931d"
      },
      "execution_count": null,
      "outputs": [
        {
          "output_type": "stream",
          "name": "stdout",
          "text": [
            "method\n",
            "m for web\n"
          ]
        }
      ]
    },
    {
      "cell_type": "code",
      "source": [
        "'''\n",
        "\n",
        "What is Polymorphism: The word polymorphism means having many forms.\n",
        "In programming, polymorphism means the same function name (but different signatures) being used for different types.\n",
        "The key difference is the data types and number of arguments used in function.\n",
        "\n",
        "Example of inbuilt polymorphic function: len()\n",
        "\n",
        "Examples of user-defined polymorphic functions:\n",
        "def add(x, y, z = 0):\n",
        "    return x + y+z\n",
        "print(add(2, 3))\n",
        "print(add(2, 3, 4))\n",
        "Output\n",
        "5\n",
        "9\n",
        "\n",
        "'''"
      ],
      "metadata": {
        "id": "t9VsTBugDsFg"
      },
      "execution_count": null,
      "outputs": []
    },
    {
      "cell_type": "markdown",
      "source": [
        "# Encapsulation"
      ],
      "metadata": {
        "id": "-Yv20HkkR1ze"
      }
    },
    {
      "cell_type": "code",
      "source": [
        "'''\n",
        "\n",
        "Encapsulation is one of the fundamental concepts in object-oriented programming (OOP).\n",
        "It describes the idea of wrapping data and the methods that work on data within one unit.\n",
        "This puts restrictions on accessing variables and methods directly and can prevent the accidental modification of data.\n",
        "To prevent accidental change, an object’s variable can only be changed by an object’s method.\n",
        "Those types of variables are known as private variables.\n",
        "\n",
        "A class is an example of encapsulation as it encapsulates all the data that is member functions, variables, etc.\n",
        "The goal of information hiding is to ensure that an object’s state is always valid by controlling access to attributes that are hidden from the outside world.\n",
        "\n",
        "Consider a real-life example of encapsulation, in a company, there are different sections like the accounts section, finance section, sales section etc.\n",
        "The finance section handles all the financial transactions and keeps records of all the data related to finance.\n",
        "Similarly, the sales section handles all the sales-related activities and keeps records of all the sales.\n",
        "Now there may arise a situation when due to some reason an official from the finance section needs all the data about sales in a particular month.\n",
        "In this case, he is not allowed to directly access the data of the sales section.\n",
        "He will first have to contact some other officer in the sales section and then request him to give the particular data.\n",
        "This is what encapsulation is. Here the data of the sales section and the employees that can manipulate them are wrapped under a single name “sales section”.\n",
        "Using encapsulation also hides the data. In this example, the data of the sections like sales, finance, or accounts are hidden from any other section.\n",
        "\n",
        "Protected members\n",
        "Protected members (in C++ and JAVA) are those members of the class that cannot be accessed outside the class but can be accessed from within the class and its subclasses.\n",
        "To accomplish this in Python, just follow the convention by prefixing the name of the member by a single underscore “_”.\n",
        "Although the protected variable can be accessed out of the class as well as in the derived class (modified too in derived class), it is customary(convention not a rule) to not access the protected out the class body.\n",
        "\n",
        "Private members\n",
        "Private members are similar to protected members, the difference is that the class members declared private should neither be accessed outside the class nor by any base class.\n",
        "In Python, there is no existence of Private instance variables that cannot be accessed except inside a class.\n",
        "However, to define a private member prefix the member name with double underscore “__”.\n",
        "\n",
        "'''"
      ],
      "metadata": {
        "id": "UQCL-hGyIy8Q"
      },
      "execution_count": null,
      "outputs": []
    },
    {
      "cell_type": "code",
      "source": [
        "class test():\n",
        "  def __init__(self , a,b):\n",
        "    self.a = a\n",
        "    self.b = b"
      ],
      "metadata": {
        "id": "5GgDfKTER52o"
      },
      "execution_count": null,
      "outputs": []
    },
    {
      "cell_type": "code",
      "source": [
        "t = test(45,67)"
      ],
      "metadata": {
        "id": "jeeDLMxJSN6D"
      },
      "execution_count": null,
      "outputs": []
    },
    {
      "cell_type": "code",
      "source": [
        "t.a"
      ],
      "metadata": {
        "colab": {
          "base_uri": "https://localhost:8080/"
        },
        "id": "5Ov2gStfSQYH",
        "outputId": "fa3e4ca5-60fc-47ef-aeea-cf3226cd0f13"
      },
      "execution_count": null,
      "outputs": [
        {
          "output_type": "execute_result",
          "data": {
            "text/plain": [
              "45"
            ]
          },
          "metadata": {},
          "execution_count": 19
        }
      ]
    },
    {
      "cell_type": "code",
      "source": [
        "t.b"
      ],
      "metadata": {
        "colab": {
          "base_uri": "https://localhost:8080/"
        },
        "id": "Zu81bU9YSRSm",
        "outputId": "e5681ce0-1e9d-45d6-9e91-c9bd3547d598"
      },
      "execution_count": null,
      "outputs": [
        {
          "output_type": "execute_result",
          "data": {
            "text/plain": [
              "67"
            ]
          },
          "metadata": {},
          "execution_count": 20
        }
      ]
    },
    {
      "cell_type": "code",
      "source": [
        "t.a = 3456"
      ],
      "metadata": {
        "id": "tvBH9sm5STr3"
      },
      "execution_count": null,
      "outputs": []
    },
    {
      "cell_type": "code",
      "source": [
        "t.a"
      ],
      "metadata": {
        "colab": {
          "base_uri": "https://localhost:8080/"
        },
        "id": "gJV2WiitSXwZ",
        "outputId": "e51023f5-0ab1-43de-bd7e-9fd28ab86f17"
      },
      "execution_count": null,
      "outputs": [
        {
          "output_type": "execute_result",
          "data": {
            "text/plain": [
              "3456"
            ]
          },
          "metadata": {},
          "execution_count": 22
        }
      ]
    },
    {
      "cell_type": "code",
      "source": [
        "class car:\n",
        "\n",
        "  def __init__(self, year, make, model, speed):\n",
        "    self.__year = year\n",
        "    self.__make = make\n",
        "    self.__model = model\n",
        "    self.__speed = 0\n",
        "\n",
        "  def set_speed(self, speed) :\n",
        "    self.__speed = 0 if speed < 0 else speed\n",
        "\n",
        "  def get_speed(self):\n",
        "    return self.__speed"
      ],
      "metadata": {
        "id": "cVEEc-TVSZSA"
      },
      "execution_count": null,
      "outputs": []
    },
    {
      "cell_type": "code",
      "source": [
        "obj_car.get_speed()"
      ],
      "metadata": {
        "colab": {
          "base_uri": "https://localhost:8080/"
        },
        "id": "4835JDM4U7RB",
        "outputId": "8d58c3ee-88f3-4c6a-aef0-55ef13856f5e"
      },
      "execution_count": null,
      "outputs": [
        {
          "output_type": "execute_result",
          "data": {
            "text/plain": [
              "1234"
            ]
          },
          "metadata": {},
          "execution_count": 49
        }
      ]
    },
    {
      "cell_type": "code",
      "source": [
        "obj_car.set_speed(-1234)"
      ],
      "metadata": {
        "id": "uje3l_xsT8NZ"
      },
      "execution_count": null,
      "outputs": []
    },
    {
      "cell_type": "code",
      "source": [
        "obj_car._car__speed"
      ],
      "metadata": {
        "colab": {
          "base_uri": "https://localhost:8080/"
        },
        "id": "NdAK8_JzUp8X",
        "outputId": "64a23228-e4eb-45c7-ae09-c72a913a5dcd"
      },
      "execution_count": null,
      "outputs": [
        {
          "output_type": "execute_result",
          "data": {
            "text/plain": [
              "0"
            ]
          },
          "metadata": {},
          "execution_count": 40
        }
      ]
    },
    {
      "cell_type": "code",
      "source": [
        "obj_car.set_speed(1234)"
      ],
      "metadata": {
        "id": "Ps5TC0AuUinH"
      },
      "execution_count": null,
      "outputs": []
    },
    {
      "cell_type": "code",
      "source": [
        "obj_car._car__speed"
      ],
      "metadata": {
        "colab": {
          "base_uri": "https://localhost:8080/"
        },
        "id": "ABEYSyo4UwEv",
        "outputId": "45f08b89-d2b4-41f8-f01d-05ad442ad214"
      },
      "execution_count": null,
      "outputs": [
        {
          "output_type": "execute_result",
          "data": {
            "text/plain": [
              "1234"
            ]
          },
          "metadata": {},
          "execution_count": 43
        }
      ]
    },
    {
      "cell_type": "code",
      "source": [
        "obj_car = car(2021, \"Toyota\", \"Innova\", 12)"
      ],
      "metadata": {
        "id": "lpCEW0P1TCWm"
      },
      "execution_count": null,
      "outputs": []
    },
    {
      "cell_type": "code",
      "source": [
        "obj_car.year"
      ],
      "metadata": {
        "colab": {
          "base_uri": "https://localhost:8080/",
          "height": 165
        },
        "id": "3fnXz_DTTKKA",
        "outputId": "e70d6aa8-9907-436f-d89b-62f3259faf99"
      },
      "execution_count": null,
      "outputs": [
        {
          "output_type": "error",
          "ename": "AttributeError",
          "evalue": "ignored",
          "traceback": [
            "\u001b[0;31m---------------------------------------------------------------------------\u001b[0m",
            "\u001b[0;31mAttributeError\u001b[0m                            Traceback (most recent call last)",
            "\u001b[0;32m<ipython-input-27-60db2130d9db>\u001b[0m in \u001b[0;36m<cell line: 1>\u001b[0;34m()\u001b[0m\n\u001b[0;32m----> 1\u001b[0;31m \u001b[0mobj_car\u001b[0m\u001b[0;34m.\u001b[0m\u001b[0myear\u001b[0m\u001b[0;34m\u001b[0m\u001b[0;34m\u001b[0m\u001b[0m\n\u001b[0m",
            "\u001b[0;31mAttributeError\u001b[0m: 'car' object has no attribute 'year'"
          ]
        }
      ]
    },
    {
      "cell_type": "code",
      "source": [
        "obj_car.__year"
      ],
      "metadata": {
        "colab": {
          "base_uri": "https://localhost:8080/",
          "height": 165
        },
        "id": "h1SDKAxzTZ1Y",
        "outputId": "2d5c9226-f59f-46a2-cde8-6251af404c10"
      },
      "execution_count": null,
      "outputs": [
        {
          "output_type": "error",
          "ename": "AttributeError",
          "evalue": "ignored",
          "traceback": [
            "\u001b[0;31m---------------------------------------------------------------------------\u001b[0m",
            "\u001b[0;31mAttributeError\u001b[0m                            Traceback (most recent call last)",
            "\u001b[0;32m<ipython-input-28-8266941e2182>\u001b[0m in \u001b[0;36m<cell line: 1>\u001b[0;34m()\u001b[0m\n\u001b[0;32m----> 1\u001b[0;31m \u001b[0mobj_car\u001b[0m\u001b[0;34m.\u001b[0m\u001b[0m__year\u001b[0m\u001b[0;34m\u001b[0m\u001b[0;34m\u001b[0m\u001b[0m\n\u001b[0m",
            "\u001b[0;31mAttributeError\u001b[0m: 'car' object has no attribute '__year'"
          ]
        }
      ]
    },
    {
      "cell_type": "code",
      "source": [
        "obj_car._car__year"
      ],
      "metadata": {
        "colab": {
          "base_uri": "https://localhost:8080/"
        },
        "id": "4Ilryok1TeMp",
        "outputId": "baf9e6aa-9877-4df9-d4f2-527b4c5ade23"
      },
      "execution_count": null,
      "outputs": [
        {
          "output_type": "execute_result",
          "data": {
            "text/plain": [
              "2021"
            ]
          },
          "metadata": {},
          "execution_count": 29
        }
      ]
    },
    {
      "cell_type": "code",
      "source": [
        "# only creater would have an idea of this\n",
        "obj_car._car__year = 2023"
      ],
      "metadata": {
        "id": "zOPWd4iPTkwA"
      },
      "execution_count": null,
      "outputs": []
    },
    {
      "cell_type": "code",
      "source": [
        "class bank_account:\n",
        "\n",
        "  def __init__(self, balance):\n",
        "    self.__balance = balance\n",
        "\n",
        "  def deposit(self, amount):\n",
        "    self.__balance += amount\n",
        "\n",
        "  def withdraw(self, amount):\n",
        "    if self.__balance >= amount:\n",
        "      self.__balance -= amount\n",
        "      return True\n",
        "    else:\n",
        "      return False\n",
        "\n",
        "  def get_balance(self):\n",
        "    return self.__balance\n",
        "\n",
        "\n"
      ],
      "metadata": {
        "id": "u1YGny2rU0BA"
      },
      "execution_count": null,
      "outputs": []
    },
    {
      "cell_type": "code",
      "source": [
        "obj_bank_acc = bank_account(1000)"
      ],
      "metadata": {
        "id": "PXtqnjuuWEbI"
      },
      "execution_count": null,
      "outputs": []
    },
    {
      "cell_type": "code",
      "source": [
        "obj_bank_acc.get_balance()"
      ],
      "metadata": {
        "colab": {
          "base_uri": "https://localhost:8080/"
        },
        "id": "BqFMtanmWLXv",
        "outputId": "fb988625-13bc-4c1b-f65a-84e0cea25403"
      },
      "execution_count": null,
      "outputs": [
        {
          "output_type": "execute_result",
          "data": {
            "text/plain": [
              "1000"
            ]
          },
          "metadata": {},
          "execution_count": 53
        }
      ]
    },
    {
      "cell_type": "code",
      "source": [
        "obj_bank_acc.deposit(8000)"
      ],
      "metadata": {
        "id": "giIa2flQWUe5"
      },
      "execution_count": null,
      "outputs": []
    },
    {
      "cell_type": "code",
      "source": [
        "obj_bank_acc.get_balance()"
      ],
      "metadata": {
        "colab": {
          "base_uri": "https://localhost:8080/"
        },
        "id": "_lzeeXrKWYAx",
        "outputId": "64c57fa5-e835-40c5-dfa3-ba4c9999a23c"
      },
      "execution_count": null,
      "outputs": [
        {
          "output_type": "execute_result",
          "data": {
            "text/plain": [
              "9000"
            ]
          },
          "metadata": {},
          "execution_count": 55
        }
      ]
    },
    {
      "cell_type": "code",
      "source": [
        "obj_bank_acc.withdraw(10000)"
      ],
      "metadata": {
        "colab": {
          "base_uri": "https://localhost:8080/"
        },
        "id": "1E91Byp4WbAv",
        "outputId": "3d0568a7-1838-4ebb-9280-8343d4d1a684"
      },
      "execution_count": null,
      "outputs": [
        {
          "output_type": "execute_result",
          "data": {
            "text/plain": [
              "False"
            ]
          },
          "metadata": {},
          "execution_count": 56
        }
      ]
    },
    {
      "cell_type": "code",
      "source": [
        "obj_bank_acc.withdraw(7000)"
      ],
      "metadata": {
        "colab": {
          "base_uri": "https://localhost:8080/"
        },
        "id": "i4UM3zYnVxUn",
        "outputId": "c18875ae-f2a4-4b81-9f77-4f02585649c6"
      },
      "execution_count": null,
      "outputs": [
        {
          "output_type": "execute_result",
          "data": {
            "text/plain": [
              "True"
            ]
          },
          "metadata": {},
          "execution_count": 57
        }
      ]
    },
    {
      "cell_type": "code",
      "source": [
        "obj_bank_acc.get_balance()"
      ],
      "metadata": {
        "colab": {
          "base_uri": "https://localhost:8080/"
        },
        "id": "Fy8OQwygWhm_",
        "outputId": "fc4907e3-a075-4a3a-833e-9e63126ecc59"
      },
      "execution_count": null,
      "outputs": [
        {
          "output_type": "execute_result",
          "data": {
            "text/plain": [
              "2000"
            ]
          },
          "metadata": {},
          "execution_count": 58
        }
      ]
    },
    {
      "cell_type": "markdown",
      "source": [
        "# Inheritance"
      ],
      "metadata": {
        "id": "yTsmrEiRW6kI"
      }
    },
    {
      "cell_type": "code",
      "source": [
        "'''\n",
        "\n",
        "It is a mechanism that allows you to create a hierarchy of classes that share a set of properties and methods by deriving a class from another class.\n",
        "Inheritance is the capability of one class to derive or inherit the properties from another class.\n",
        "Inheritance allows you to inherit the properties of a class, i.e., base class to another, i.e., derived class.\n",
        "\n",
        "The benefits of Inheritance in Python are as follows:\n",
        "It represents real-world relationships well.\n",
        "It provides the reusability of a code. We don’t have to write the same code again and again. Also, it allows us to add more features to a class without modifying it.\n",
        "It is transitive in nature, which means that if class B inherits from another class A, then all the subclasses of B would automatically inherit from class A.\n",
        "Inheritance offers a simple, understandable model structure.\n",
        "Less development and maintenance expenses result from an inheritance.\n",
        "\n",
        "'''"
      ],
      "metadata": {
        "id": "QtoatZfrjDOX"
      },
      "execution_count": null,
      "outputs": []
    },
    {
      "cell_type": "code",
      "source": [
        "class parent:\n",
        "\n",
        "  def test_parent(self):\n",
        "    print('parent class')"
      ],
      "metadata": {
        "id": "5dz74RCCWmvT"
      },
      "execution_count": null,
      "outputs": []
    },
    {
      "cell_type": "code",
      "source": [
        "class child_class(parent):\n",
        "  pass"
      ],
      "metadata": {
        "id": "x5ObZRwNXMAx"
      },
      "execution_count": null,
      "outputs": []
    },
    {
      "cell_type": "code",
      "source": [
        "child_obj = child_class()"
      ],
      "metadata": {
        "id": "hjKFtaayXXG4"
      },
      "execution_count": null,
      "outputs": []
    },
    {
      "cell_type": "code",
      "source": [
        "child_obj.test_parent()"
      ],
      "metadata": {
        "colab": {
          "base_uri": "https://localhost:8080/"
        },
        "id": "XzUhu46KXd2-",
        "outputId": "9a3b8e79-069e-45e9-f944-4a0552d5122c"
      },
      "execution_count": null,
      "outputs": [
        {
          "output_type": "stream",
          "name": "stdout",
          "text": [
            "parent class\n"
          ]
        }
      ]
    },
    {
      "cell_type": "code",
      "source": [
        "class class1:\n",
        "  def test_class1(self):\n",
        "    print('1')"
      ],
      "metadata": {
        "id": "4jdxRSaTXnKT"
      },
      "execution_count": null,
      "outputs": []
    },
    {
      "cell_type": "code",
      "source": [
        "class class2(class1):\n",
        "  def test_class2(self):\n",
        "    print('2')"
      ],
      "metadata": {
        "id": "QrnuQVOwYDsn"
      },
      "execution_count": null,
      "outputs": []
    },
    {
      "cell_type": "code",
      "source": [
        "class class3(class2):\n",
        "  def test_class3(self):\n",
        "    print('3')"
      ],
      "metadata": {
        "id": "HgQ6JxTwYQ5n"
      },
      "execution_count": null,
      "outputs": []
    },
    {
      "cell_type": "code",
      "source": [
        "class3_obj = class3()"
      ],
      "metadata": {
        "id": "VAkD8K0dYZtw"
      },
      "execution_count": null,
      "outputs": []
    },
    {
      "cell_type": "code",
      "source": [
        "class3_obj.test_class1()"
      ],
      "metadata": {
        "colab": {
          "base_uri": "https://localhost:8080/"
        },
        "id": "Rj1Qc9w9YmX3",
        "outputId": "f30f98db-424a-4ed6-d7c5-3876e44f2413"
      },
      "execution_count": null,
      "outputs": [
        {
          "output_type": "stream",
          "name": "stdout",
          "text": [
            "1\n"
          ]
        }
      ]
    },
    {
      "cell_type": "code",
      "source": [
        "class3_obj.test_class2()\n",
        "# Multilevel inheritance"
      ],
      "metadata": {
        "colab": {
          "base_uri": "https://localhost:8080/"
        },
        "id": "kUGAWzdeYtGY",
        "outputId": "d27855f0-7c09-4b7d-c7e9-7be3f74c555e"
      },
      "execution_count": null,
      "outputs": [
        {
          "output_type": "stream",
          "name": "stdout",
          "text": [
            "2\n"
          ]
        }
      ]
    },
    {
      "cell_type": "code",
      "source": [
        "# Multiple inheritance\n",
        "class class1:\n",
        "  def test_class1(self):\n",
        "    print('1')"
      ],
      "metadata": {
        "id": "Jmzm_upfY8Oo"
      },
      "execution_count": null,
      "outputs": []
    },
    {
      "cell_type": "code",
      "source": [
        "class class2:\n",
        "  def test_class2(self):\n",
        "    print('2')"
      ],
      "metadata": {
        "id": "fyA4zPEPZ8qf"
      },
      "execution_count": null,
      "outputs": []
    },
    {
      "cell_type": "code",
      "source": [
        "class class3(class1,class2):\n",
        "  pass"
      ],
      "metadata": {
        "id": "sKVHUOlnaC9w"
      },
      "execution_count": null,
      "outputs": []
    },
    {
      "cell_type": "code",
      "source": [
        "class3_obj = class3()"
      ],
      "metadata": {
        "id": "GTsmYBE6aG6R"
      },
      "execution_count": null,
      "outputs": []
    },
    {
      "cell_type": "code",
      "source": [
        "class3_obj.test_class1()"
      ],
      "metadata": {
        "colab": {
          "base_uri": "https://localhost:8080/"
        },
        "id": "q3pbnazIaL3R",
        "outputId": "8fa83d08-d27d-4f96-8002-56bfbece7f80"
      },
      "execution_count": null,
      "outputs": [
        {
          "output_type": "stream",
          "name": "stdout",
          "text": [
            "1\n"
          ]
        }
      ]
    },
    {
      "cell_type": "code",
      "source": [
        "class3_obj.test_class2()"
      ],
      "metadata": {
        "colab": {
          "base_uri": "https://localhost:8080/"
        },
        "id": "HMKCiKj1aOnw",
        "outputId": "709b05b5-76c9-4a8d-dae8-6881281de461"
      },
      "execution_count": null,
      "outputs": [
        {
          "output_type": "stream",
          "name": "stdout",
          "text": [
            "2\n"
          ]
        }
      ]
    },
    {
      "cell_type": "markdown",
      "source": [
        "# Abstraction\n"
      ],
      "metadata": {
        "id": "Zhybhny6aUNp"
      }
    },
    {
      "cell_type": "code",
      "source": [
        "'''\n",
        "\n",
        "An abstract class can be considered as a blueprint for other classes.\n",
        "It allows you to create a set of methods that must be created within any child classes built from the abstract class.\n",
        "A class which contains one or more abstract methods is called an abstract class.\n",
        "An abstract method is a method that has a declaration but does not have an implementation.\n",
        "While we are designing large functional units we use an abstract class.\n",
        "When we want to provide a common interface for different implementations of a component, we use an abstract class.\n",
        "\n",
        "Why use Abstract Base Classes :\n",
        "By defining an abstract base class, you can define a common Application Program Interface(API) for a set of subclasses.\n",
        "This capability is especially useful in situations where a third-party is going to provide implementations, such as with plugins, but can also help you when working in a large team or with a large code-base where keeping all classes in your mind is difficult or not possible.\n",
        "\n",
        "How Abstract Base classes work :\n",
        "By default, Python does not provide abstract classes.\n",
        "Python comes with a module that provides the base for defining Abstract Base classes(ABC) and that module name is ABC.\n",
        "ABC works by decorating methods of the base class as abstract and then registering concrete classes as implementations of the abstract base.\n",
        "A method becomes abstract when decorated with the keyword @abstractmethod.\n",
        "\n",
        "'''"
      ],
      "metadata": {
        "id": "Sp3vqISKP2sF"
      },
      "execution_count": null,
      "outputs": []
    },
    {
      "cell_type": "code",
      "source": [
        "import abc\n",
        "\n",
        "class pwskills :\n",
        "\n",
        "  @abc.abstractmethod\n",
        "  def student_details(self):\n",
        "    pass\n",
        "\n",
        "  @abc.abstractmethod\n",
        "  def student_assignment(self):\n",
        "    pass\n",
        "\n",
        "  @abc.abstractmethod\n",
        "  def student_marks(self):\n",
        "    pass\n",
        "\n",
        "\n"
      ],
      "metadata": {
        "id": "2LSVPh2DaYu1"
      },
      "execution_count": null,
      "outputs": []
    },
    {
      "cell_type": "code",
      "source": [
        "class data_science(pwskills):\n",
        "\n",
        "  def student_details(self):\n",
        "    return 'ds details'\n",
        "\n",
        "  def student_assignment(self):\n",
        "    return 'ds sa details'"
      ],
      "metadata": {
        "id": "-4t32ItSbZ7s"
      },
      "execution_count": null,
      "outputs": []
    },
    {
      "cell_type": "code",
      "source": [
        "class web_dev(pwskills):\n",
        "\n",
        "  def student_details(self):\n",
        "    return 'wd s details'\n",
        "\n",
        "  def student_marks(self):\n",
        "    return 'sm wd details'"
      ],
      "metadata": {
        "id": "5CKqO1cUdxvR"
      },
      "execution_count": null,
      "outputs": []
    },
    {
      "cell_type": "code",
      "source": [
        "ds = data_science()\n",
        "ds.student_details()"
      ],
      "metadata": {
        "colab": {
          "base_uri": "https://localhost:8080/",
          "height": 35
        },
        "id": "uDS08vpZfM6A",
        "outputId": "18fd0e3e-7edd-4747-c0ab-2b1ce0fbf9ce"
      },
      "execution_count": null,
      "outputs": [
        {
          "output_type": "execute_result",
          "data": {
            "text/plain": [
              "'ds details'"
            ],
            "application/vnd.google.colaboratory.intrinsic+json": {
              "type": "string"
            }
          },
          "metadata": {},
          "execution_count": 5
        }
      ]
    },
    {
      "cell_type": "code",
      "source": [
        "wd = web_dev()\n",
        "wd.student_marks()"
      ],
      "metadata": {
        "colab": {
          "base_uri": "https://localhost:8080/",
          "height": 35
        },
        "id": "Umg41Fn9fU1L",
        "outputId": "6c5d1571-4566-41ee-a69a-bf2dad4cbaa6"
      },
      "execution_count": null,
      "outputs": [
        {
          "output_type": "execute_result",
          "data": {
            "text/plain": [
              "'sm wd details'"
            ],
            "application/vnd.google.colaboratory.intrinsic+json": {
              "type": "string"
            }
          },
          "metadata": {},
          "execution_count": 7
        }
      ]
    }
  ]
}